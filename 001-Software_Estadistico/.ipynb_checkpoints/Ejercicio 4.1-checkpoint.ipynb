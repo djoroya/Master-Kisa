{
 "cells": [
  {
   "cell_type": "code",
   "execution_count": 145,
   "metadata": {
    "collapsed": false
   },
   "outputs": [
    {
     "data": {
      "text/html": [
       "<table>\n",
       "<thead><tr><th scope=col>ID</th><th scope=col>V1</th><th scope=col>V2</th><th scope=col>V3</th><th scope=col>V4</th><th scope=col>V5</th><th scope=col>V6</th><th scope=col>V7</th><th scope=col>V8</th><th scope=col>V9</th><th scope=col>class</th></tr></thead>\n",
       "<tbody>\n",
       "\t<tr><td>1000025  </td><td>5        </td><td> 1       </td><td> 1       </td><td>1        </td><td>2        </td><td> 1       </td><td>3        </td><td>1        </td><td>1        </td><td>benign   </td></tr>\n",
       "\t<tr><td>1002945  </td><td>5        </td><td> 4       </td><td> 4       </td><td>5        </td><td>7        </td><td>10       </td><td>3        </td><td>2        </td><td>1        </td><td>benign   </td></tr>\n",
       "\t<tr><td>1015425  </td><td>3        </td><td> 1       </td><td> 1       </td><td>1        </td><td>2        </td><td> 2       </td><td>3        </td><td>1        </td><td>1        </td><td>benign   </td></tr>\n",
       "\t<tr><td>1016277  </td><td>6        </td><td> 8       </td><td> 8       </td><td>1        </td><td>3        </td><td> 4       </td><td>3        </td><td>7        </td><td>1        </td><td>benign   </td></tr>\n",
       "\t<tr><td>1017023  </td><td>4        </td><td> 1       </td><td> 1       </td><td>3        </td><td>2        </td><td> 1       </td><td>3        </td><td>1        </td><td>1        </td><td>benign   </td></tr>\n",
       "\t<tr><td>1017122  </td><td>8        </td><td>10       </td><td>10       </td><td>8        </td><td>7        </td><td>10       </td><td>9        </td><td>7        </td><td>1        </td><td>malignant</td></tr>\n",
       "</tbody>\n",
       "</table>\n"
      ],
      "text/latex": [
       "\\begin{tabular}{r|lllllllllll}\n",
       " ID & V1 & V2 & V3 & V4 & V5 & V6 & V7 & V8 & V9 & class\\\\\n",
       "\\hline\n",
       "\t 1000025   & 5         &  1        &  1        & 1         & 2         &  1        & 3         & 1         & 1         & benign   \\\\\n",
       "\t 1002945   & 5         &  4        &  4        & 5         & 7         & 10        & 3         & 2         & 1         & benign   \\\\\n",
       "\t 1015425   & 3         &  1        &  1        & 1         & 2         &  2        & 3         & 1         & 1         & benign   \\\\\n",
       "\t 1016277   & 6         &  8        &  8        & 1         & 3         &  4        & 3         & 7         & 1         & benign   \\\\\n",
       "\t 1017023   & 4         &  1        &  1        & 3         & 2         &  1        & 3         & 1         & 1         & benign   \\\\\n",
       "\t 1017122   & 8         & 10        & 10        & 8         & 7         & 10        & 9         & 7         & 1         & malignant\\\\\n",
       "\\end{tabular}\n"
      ],
      "text/markdown": [
       "\n",
       "ID | V1 | V2 | V3 | V4 | V5 | V6 | V7 | V8 | V9 | class | \n",
       "|---|---|---|---|---|---|\n",
       "| 1000025   | 5         |  1        |  1        | 1         | 2         |  1        | 3         | 1         | 1         | benign    | \n",
       "| 1002945   | 5         |  4        |  4        | 5         | 7         | 10        | 3         | 2         | 1         | benign    | \n",
       "| 1015425   | 3         |  1        |  1        | 1         | 2         |  2        | 3         | 1         | 1         | benign    | \n",
       "| 1016277   | 6         |  8        |  8        | 1         | 3         |  4        | 3         | 7         | 1         | benign    | \n",
       "| 1017023   | 4         |  1        |  1        | 3         | 2         |  1        | 3         | 1         | 1         | benign    | \n",
       "| 1017122   | 8         | 10        | 10        | 8         | 7         | 10        | 9         | 7         | 1         | malignant | \n",
       "\n",
       "\n"
      ],
      "text/plain": [
       "  ID      V1 V2 V3 V4 V5 V6 V7 V8 V9 class    \n",
       "1 1000025 5   1  1 1  2   1 3  1  1  benign   \n",
       "2 1002945 5   4  4 5  7  10 3  2  1  benign   \n",
       "3 1015425 3   1  1 1  2   2 3  1  1  benign   \n",
       "4 1016277 6   8  8 1  3   4 3  7  1  benign   \n",
       "5 1017023 4   1  1 3  2   1 3  1  1  benign   \n",
       "6 1017122 8  10 10 8  7  10 9  7  1  malignant"
      ]
     },
     "metadata": {},
     "output_type": "display_data"
    }
   ],
   "source": [
    "library(MASS)\n",
    "head(biopsy)"
   ]
  },
  {
   "cell_type": "markdown",
   "metadata": {},
   "source": [
    "# Preprocesamiento.\n",
    "¿Cuáles son los objetos a los que les faltan datos?"
   ]
  },
  {
   "cell_type": "code",
   "execution_count": 143,
   "metadata": {
    "collapsed": false,
    "scrolled": false
   },
   "outputs": [
    {
     "data": {
      "text/html": [
       "<table>\n",
       "<thead><tr><th></th><th scope=col>ID</th><th scope=col>V1</th><th scope=col>V2</th><th scope=col>V3</th><th scope=col>V4</th><th scope=col>V5</th><th scope=col>V6</th><th scope=col>V7</th><th scope=col>V8</th><th scope=col>V9</th><th scope=col>class</th></tr></thead>\n",
       "<tbody>\n",
       "\t<tr><th scope=row>24</th><td>1057013  </td><td>8        </td><td>4        </td><td>5        </td><td>1        </td><td>2        </td><td>NA       </td><td>7        </td><td> 3       </td><td>1        </td><td>malignant</td></tr>\n",
       "\t<tr><th scope=row>41</th><td>1096800  </td><td>6        </td><td>6        </td><td>6        </td><td>9        </td><td>6        </td><td>NA       </td><td>7        </td><td> 8       </td><td>1        </td><td>benign   </td></tr>\n",
       "\t<tr><th scope=row>140</th><td>1183246  </td><td>1        </td><td>1        </td><td>1        </td><td>1        </td><td>1        </td><td>NA       </td><td>2        </td><td> 1       </td><td>1        </td><td>benign   </td></tr>\n",
       "\t<tr><th scope=row>146</th><td>1184840  </td><td>1        </td><td>1        </td><td>3        </td><td>1        </td><td>2        </td><td>NA       </td><td>2        </td><td> 1       </td><td>1        </td><td>benign   </td></tr>\n",
       "\t<tr><th scope=row>159</th><td>1193683  </td><td>1        </td><td>1        </td><td>2        </td><td>1        </td><td>3        </td><td>NA       </td><td>1        </td><td> 1       </td><td>1        </td><td>benign   </td></tr>\n",
       "\t<tr><th scope=row>165</th><td>1197510  </td><td>5        </td><td>1        </td><td>1        </td><td>1        </td><td>2        </td><td>NA       </td><td>3        </td><td> 1       </td><td>1        </td><td>benign   </td></tr>\n",
       "\t<tr><th scope=row>236</th><td>1241232  </td><td>3        </td><td>1        </td><td>4        </td><td>1        </td><td>2        </td><td>NA       </td><td>3        </td><td> 1       </td><td>1        </td><td>benign   </td></tr>\n",
       "\t<tr><th scope=row>250</th><td>169356   </td><td>3        </td><td>1        </td><td>1        </td><td>1        </td><td>2        </td><td>NA       </td><td>3        </td><td> 1       </td><td>1        </td><td>benign   </td></tr>\n",
       "\t<tr><th scope=row>276</th><td>432809   </td><td>3        </td><td>1        </td><td>3        </td><td>1        </td><td>2        </td><td>NA       </td><td>2        </td><td> 1       </td><td>1        </td><td>benign   </td></tr>\n",
       "\t<tr><th scope=row>293</th><td>563649   </td><td>8        </td><td>8        </td><td>8        </td><td>1        </td><td>2        </td><td>NA       </td><td>6        </td><td>10       </td><td>1        </td><td>malignant</td></tr>\n",
       "\t<tr><th scope=row>295</th><td>606140   </td><td>1        </td><td>1        </td><td>1        </td><td>1        </td><td>2        </td><td>NA       </td><td>2        </td><td> 1       </td><td>1        </td><td>benign   </td></tr>\n",
       "\t<tr><th scope=row>298</th><td>61634    </td><td>5        </td><td>4        </td><td>3        </td><td>1        </td><td>2        </td><td>NA       </td><td>2        </td><td> 3       </td><td>1        </td><td>benign   </td></tr>\n",
       "\t<tr><th scope=row>316</th><td>704168   </td><td>4        </td><td>6        </td><td>5        </td><td>6        </td><td>7        </td><td>NA       </td><td>4        </td><td> 9       </td><td>1        </td><td>benign   </td></tr>\n",
       "\t<tr><th scope=row>322</th><td>733639   </td><td>3        </td><td>1        </td><td>1        </td><td>1        </td><td>2        </td><td>NA       </td><td>3        </td><td> 1       </td><td>1        </td><td>benign   </td></tr>\n",
       "\t<tr><th scope=row>412</th><td>1238464  </td><td>1        </td><td>1        </td><td>1        </td><td>1        </td><td>1        </td><td>NA       </td><td>2        </td><td> 1       </td><td>1        </td><td>benign   </td></tr>\n",
       "\t<tr><th scope=row>618</th><td>1057067  </td><td>1        </td><td>1        </td><td>1        </td><td>1        </td><td>1        </td><td>NA       </td><td>1        </td><td> 1       </td><td>1        </td><td>benign   </td></tr>\n",
       "</tbody>\n",
       "</table>\n"
      ],
      "text/latex": [
       "\\begin{tabular}{r|lllllllllll}\n",
       "  & ID & V1 & V2 & V3 & V4 & V5 & V6 & V7 & V8 & V9 & class\\\\\n",
       "\\hline\n",
       "\t24 & 1057013   & 8         & 4         & 5         & 1         & 2         & NA        & 7         &  3        & 1         & malignant\\\\\n",
       "\t41 & 1096800   & 6         & 6         & 6         & 9         & 6         & NA        & 7         &  8        & 1         & benign   \\\\\n",
       "\t140 & 1183246   & 1         & 1         & 1         & 1         & 1         & NA        & 2         &  1        & 1         & benign   \\\\\n",
       "\t146 & 1184840   & 1         & 1         & 3         & 1         & 2         & NA        & 2         &  1        & 1         & benign   \\\\\n",
       "\t159 & 1193683   & 1         & 1         & 2         & 1         & 3         & NA        & 1         &  1        & 1         & benign   \\\\\n",
       "\t165 & 1197510   & 5         & 1         & 1         & 1         & 2         & NA        & 3         &  1        & 1         & benign   \\\\\n",
       "\t236 & 1241232   & 3         & 1         & 4         & 1         & 2         & NA        & 3         &  1        & 1         & benign   \\\\\n",
       "\t250 & 169356    & 3         & 1         & 1         & 1         & 2         & NA        & 3         &  1        & 1         & benign   \\\\\n",
       "\t276 & 432809    & 3         & 1         & 3         & 1         & 2         & NA        & 2         &  1        & 1         & benign   \\\\\n",
       "\t293 & 563649    & 8         & 8         & 8         & 1         & 2         & NA        & 6         & 10        & 1         & malignant\\\\\n",
       "\t295 & 606140    & 1         & 1         & 1         & 1         & 2         & NA        & 2         &  1        & 1         & benign   \\\\\n",
       "\t298 & 61634     & 5         & 4         & 3         & 1         & 2         & NA        & 2         &  3        & 1         & benign   \\\\\n",
       "\t316 & 704168    & 4         & 6         & 5         & 6         & 7         & NA        & 4         &  9        & 1         & benign   \\\\\n",
       "\t322 & 733639    & 3         & 1         & 1         & 1         & 2         & NA        & 3         &  1        & 1         & benign   \\\\\n",
       "\t412 & 1238464   & 1         & 1         & 1         & 1         & 1         & NA        & 2         &  1        & 1         & benign   \\\\\n",
       "\t618 & 1057067   & 1         & 1         & 1         & 1         & 1         & NA        & 1         &  1        & 1         & benign   \\\\\n",
       "\\end{tabular}\n"
      ],
      "text/markdown": [
       "\n",
       "| <!--/--> | ID | V1 | V2 | V3 | V4 | V5 | V6 | V7 | V8 | V9 | class | \n",
       "|---|---|---|---|---|---|---|---|---|---|---|---|---|---|---|---|\n",
       "| 24 | 1057013   | 8         | 4         | 5         | 1         | 2         | NA        | 7         |  3        | 1         | malignant | \n",
       "| 41 | 1096800   | 6         | 6         | 6         | 9         | 6         | NA        | 7         |  8        | 1         | benign    | \n",
       "| 140 | 1183246   | 1         | 1         | 1         | 1         | 1         | NA        | 2         |  1        | 1         | benign    | \n",
       "| 146 | 1184840   | 1         | 1         | 3         | 1         | 2         | NA        | 2         |  1        | 1         | benign    | \n",
       "| 159 | 1193683   | 1         | 1         | 2         | 1         | 3         | NA        | 1         |  1        | 1         | benign    | \n",
       "| 165 | 1197510   | 5         | 1         | 1         | 1         | 2         | NA        | 3         |  1        | 1         | benign    | \n",
       "| 236 | 1241232   | 3         | 1         | 4         | 1         | 2         | NA        | 3         |  1        | 1         | benign    | \n",
       "| 250 | 169356    | 3         | 1         | 1         | 1         | 2         | NA        | 3         |  1        | 1         | benign    | \n",
       "| 276 | 432809    | 3         | 1         | 3         | 1         | 2         | NA        | 2         |  1        | 1         | benign    | \n",
       "| 293 | 563649    | 8         | 8         | 8         | 1         | 2         | NA        | 6         | 10        | 1         | malignant | \n",
       "| 295 | 606140    | 1         | 1         | 1         | 1         | 2         | NA        | 2         |  1        | 1         | benign    | \n",
       "| 298 | 61634     | 5         | 4         | 3         | 1         | 2         | NA        | 2         |  3        | 1         | benign    | \n",
       "| 316 | 704168    | 4         | 6         | 5         | 6         | 7         | NA        | 4         |  9        | 1         | benign    | \n",
       "| 322 | 733639    | 3         | 1         | 1         | 1         | 2         | NA        | 3         |  1        | 1         | benign    | \n",
       "| 412 | 1238464   | 1         | 1         | 1         | 1         | 1         | NA        | 2         |  1        | 1         | benign    | \n",
       "| 618 | 1057067   | 1         | 1         | 1         | 1         | 1         | NA        | 1         |  1        | 1         | benign    | \n",
       "\n",
       "\n"
      ],
      "text/plain": [
       "    ID      V1 V2 V3 V4 V5 V6 V7 V8 V9 class    \n",
       "24  1057013 8  4  5  1  2  NA 7   3 1  malignant\n",
       "41  1096800 6  6  6  9  6  NA 7   8 1  benign   \n",
       "140 1183246 1  1  1  1  1  NA 2   1 1  benign   \n",
       "146 1184840 1  1  3  1  2  NA 2   1 1  benign   \n",
       "159 1193683 1  1  2  1  3  NA 1   1 1  benign   \n",
       "165 1197510 5  1  1  1  2  NA 3   1 1  benign   \n",
       "236 1241232 3  1  4  1  2  NA 3   1 1  benign   \n",
       "250 169356  3  1  1  1  2  NA 3   1 1  benign   \n",
       "276 432809  3  1  3  1  2  NA 2   1 1  benign   \n",
       "293 563649  8  8  8  1  2  NA 6  10 1  malignant\n",
       "295 606140  1  1  1  1  2  NA 2   1 1  benign   \n",
       "298 61634   5  4  3  1  2  NA 2   3 1  benign   \n",
       "316 704168  4  6  5  6  7  NA 4   9 1  benign   \n",
       "322 733639  3  1  1  1  2  NA 3   1 1  benign   \n",
       "412 1238464 1  1  1  1  1  NA 2   1 1  benign   \n",
       "618 1057067 1  1  1  1  1  NA 1   1 1  benign   "
      ]
     },
     "metadata": {},
     "output_type": "display_data"
    }
   ],
   "source": [
    "ID_NA <- c()\n",
    "for (fila in 1:length(biopsy$ID)){\n",
    "    if ('NA' %in% biopsy[fila,]){\n",
    "        ID_NA <- c(ID_NA,fila)\n",
    "    }\n",
    "}\n",
    "biopsy[ID_NA,]"
   ]
  },
  {
   "cell_type": "markdown",
   "metadata": {
    "collapsed": false
   },
   "source": [
    "Define otro data.frame con los objetos que tienen los datos completos."
   ]
  },
  {
   "cell_type": "code",
   "execution_count": 147,
   "metadata": {
    "collapsed": false
   },
   "outputs": [],
   "source": [
    "biopsy_noNA <- biopsy[-ID_NA,]"
   ]
  },
  {
   "cell_type": "markdown",
   "metadata": {},
   "source": [
    "# Análisis descriptivo univariante.\n",
    "¿Cuántas modalidades tiene cada una de las variables?\n"
   ]
  },
  {
   "cell_type": "code",
   "execution_count": 169,
   "metadata": {
    "collapsed": false
   },
   "outputs": [
    {
     "name": "stdout",
     "output_type": "stream",
     "text": [
      "ID - 630 \n",
      "V1 - 10 \n",
      "V2 - 10 \n",
      "V3 - 10 \n",
      "V4 - 10 \n",
      "V5 - 10 \n",
      "V6 - 10 \n",
      "V7 - 10 \n",
      "V8 - 10 \n",
      "V9 - 9 \n",
      "class - 2 \n"
     ]
    }
   ],
   "source": [
    "for (col in 1:length(biopsy_noNA)){\n",
    "    cat(names(biopsy_noNA)[col],\"-\",length(unique(biopsy_noNA[,col])),\"\\n\")\n",
    "}"
   ]
  },
  {
   "cell_type": "markdown",
   "metadata": {},
   "source": [
    "¿Cuál es el tipo de gráfico más apropiado para representar la variabilidad de las 9 variables?\n",
    "Todas las variables, salvo una, son cuantitativas de carácter ordinal. Calcula los estadísticos que creas oportuno para describir su tendencia central y su dispersión.\n",
    "Describe la variable cualitativa.\n",
    "Haz comentarios sobre el grado de variabilidad de las variables."
   ]
  },
  {
   "cell_type": "code",
   "execution_count": 227,
   "metadata": {
    "collapsed": false
   },
   "outputs": [
    {
     "data": {
      "text/plain": [
       "      ID                  V1               V2               V3        \n",
       " Length:683         Min.   : 1.000   Min.   : 1.000   Min.   : 1.000  \n",
       " Class :character   1st Qu.: 2.000   1st Qu.: 1.000   1st Qu.: 1.000  \n",
       " Mode  :character   Median : 4.000   Median : 1.000   Median : 1.000  \n",
       "                    Mean   : 4.442   Mean   : 3.151   Mean   : 3.215  \n",
       "                    3rd Qu.: 6.000   3rd Qu.: 5.000   3rd Qu.: 5.000  \n",
       "                    Max.   :10.000   Max.   :10.000   Max.   :10.000  \n",
       "       V4              V5               V6               V7        \n",
       " Min.   : 1.00   Min.   : 1.000   Min.   : 1.000   Min.   : 1.000  \n",
       " 1st Qu.: 1.00   1st Qu.: 2.000   1st Qu.: 1.000   1st Qu.: 2.000  \n",
       " Median : 1.00   Median : 2.000   Median : 1.000   Median : 3.000  \n",
       " Mean   : 2.83   Mean   : 3.234   Mean   : 3.545   Mean   : 3.445  \n",
       " 3rd Qu.: 4.00   3rd Qu.: 4.000   3rd Qu.: 6.000   3rd Qu.: 5.000  \n",
       " Max.   :10.00   Max.   :10.000   Max.   :10.000   Max.   :10.000  \n",
       "       V8              V9               class    \n",
       " Min.   : 1.00   Min.   : 1.000   benign   :444  \n",
       " 1st Qu.: 1.00   1st Qu.: 1.000   malignant:239  \n",
       " Median : 1.00   Median : 1.000                  \n",
       " Mean   : 2.87   Mean   : 1.603                  \n",
       " 3rd Qu.: 4.00   3rd Qu.: 1.000                  \n",
       " Max.   :10.00   Max.   :10.000                  "
      ]
     },
     "metadata": {},
     "output_type": "display_data"
    },
    {
     "data": {
      "text/html": [
       "<span style=white-space:pre-wrap>'Median : 4.000  '</span>"
      ],
      "text/latex": [
       "'Median : 4.000  '"
      ],
      "text/markdown": [
       "<span style=white-space:pre-wrap>'Median : 4.000  '</span>"
      ],
      "text/plain": [
       "[1] \"Median : 4.000  \""
      ]
     },
     "metadata": {},
     "output_type": "display_data"
    }
   ],
   "source": [
    "estadisticos <- (summary(biopsy_noNA))\n",
    "estadisticos\n",
    "estadisticos[3,2]"
   ]
  },
  {
   "cell_type": "code",
   "execution_count": 361,
   "metadata": {
    "collapsed": false,
    "scrolled": false
   },
   "outputs": [
    {
     "data": {
      "text/html": [
       "<strong>pdf:</strong> 2"
      ],
      "text/latex": [
       "\\textbf{pdf:} 2"
      ],
      "text/markdown": [
       "**pdf:** 2"
      ],
      "text/plain": [
       "pdf \n",
       "  2 "
      ]
     },
     "metadata": {},
     "output_type": "display_data"
    },
    {
     "data": {
      "text/html": [
       "1.46666666666667"
      ],
      "text/latex": [
       "1.46666666666667"
      ],
      "text/markdown": [
       "1.46666666666667"
      ],
      "text/plain": [
       "[1] 1.466667"
      ]
     },
     "metadata": {},
     "output_type": "display_data"
    },
    {
     "data": {
      "text/html": [
       "7.95669441784777"
      ],
      "text/latex": [
       "7.95669441784777"
      ],
      "text/markdown": [
       "7.95669441784777"
      ],
      "text/plain": [
       "[1] 7.956694"
      ]
     },
     "metadata": {},
     "output_type": "display_data"
    }
   ],
   "source": [
    "pdf(\"prueba.pdf\")\n",
    "for (var in 2:10){\n",
    "    hist(unlist(biopsy_noNA[var]),breaks = 70,xlab=names(biopsy_noNA[var]) )\n",
    "    mean <- as.numeric(unlist(strsplit(estadisticos[6,var],\":\"))[2])\n",
    "    tex <- paste(estadisticos[1,var],estadisticos[2,var],\"\\n\",\n",
    "                estadisticos[3,var],estadisticos[4,var],\"\\n\",\n",
    "                 estadisticos[5,var],estadisticos[6,var],\"\\n\"\n",
    "                )\n",
    "    text(mean-2.5,150,tex)\n",
    "}\n",
    "dev.off()\n",
    "var(c(1,2,3,4,1,3))\n",
    "var(biopsy_noNA[,2])"
   ]
  },
  {
   "cell_type": "code",
   "execution_count": 245,
   "metadata": {
    "collapsed": false
   },
   "outputs": [
    {
     "data": {
      "text/html": [
       "7.95669441784777"
      ],
      "text/latex": [
       "7.95669441784777"
      ],
      "text/markdown": [
       "7.95669441784777"
      ],
      "text/plain": [
       "[1] 7.956694"
      ]
     },
     "metadata": {},
     "output_type": "display_data"
    }
   ],
   "source": [
    "var(unlist(biopsy_noNA[2]))"
   ]
  },
  {
   "cell_type": "code",
   "execution_count": 294,
   "metadata": {
    "collapsed": false
   },
   "outputs": [
    {
     "ename": "ERROR",
     "evalue": "Error in \"hola\" + \"sads\": argumento no-numérico para operador binario\n",
     "output_type": "error",
     "traceback": [
      "Error in \"hola\" + \"sads\": argumento no-numérico para operador binario\nTraceback:\n"
     ]
    }
   ],
   "source": [
    "(\"hola\"\"sads\")"
   ]
  },
  {
   "cell_type": "code",
   "execution_count": 221,
   "metadata": {
    "collapsed": true
   },
   "outputs": [],
   "source": [
    "?text"
   ]
  },
  {
   "cell_type": "code",
   "execution_count": 241,
   "metadata": {
    "collapsed": false
   },
   "outputs": [
    {
     "data": {
      "text/html": [
       "<pre class=language-r><code>function (x, df, ncp = 0, log = FALSE) \n",
       "{\n",
       "<span style=white-space:pre-wrap>    if (missing(ncp)) </span>\n",
       "<span style=white-space:pre-wrap>        .Call(C_dchisq, x, df, log)</span>\n",
       "<span style=white-space:pre-wrap>    else .Call(C_dnchisq, x, df, ncp, log)</span>\n",
       "}</code></pre>"
      ],
      "text/latex": [
       "\\begin{minted}{r}\n",
       "function (x, df, ncp = 0, log = FALSE) \n",
       "\\{\n",
       "    if (missing(ncp)) \n",
       "        .Call(C\\_dchisq, x, df, log)\n",
       "    else .Call(C\\_dnchisq, x, df, ncp, log)\n",
       "\\}\n",
       "\\end{minted}"
      ],
      "text/markdown": [
       "```r\n",
       "function (x, df, ncp = 0, log = FALSE) \n",
       "{\n",
       "    if (missing(ncp)) \n",
       "        .Call(C_dchisq, x, df, log)\n",
       "    else .Call(C_dnchisq, x, df, ncp, log)\n",
       "}\n",
       "```"
      ],
      "text/plain": [
       "function (x, df, ncp = 0, log = FALSE) \n",
       "{\n",
       "    if (missing(ncp)) \n",
       "        .Call(C_dchisq, x, df, log)\n",
       "    else .Call(C_dnchisq, x, df, ncp, log)\n",
       "}\n",
       "<bytecode: 0x7f94483415c8>\n",
       "<environment: namespace:stats>"
      ]
     },
     "metadata": {},
     "output_type": "display_data"
    }
   ],
   "source": [
    "dchisq"
   ]
  },
  {
   "cell_type": "code",
   "execution_count": 281,
   "metadata": {
    "collapsed": false
   },
   "outputs": [
    {
     "data": {
      "text/html": [
       "1"
      ],
      "text/latex": [
       "1"
      ],
      "text/markdown": [
       "1"
      ],
      "text/plain": [
       "[1] 1"
      ]
     },
     "metadata": {},
     "output_type": "display_data"
    }
   ],
   "source": [
    "as.numeric(unlist(strsplit(estadisticos[3,var],\":\"))[2])"
   ]
  },
  {
   "cell_type": "code",
   "execution_count": 358,
   "metadata": {
    "collapsed": false
   },
   "outputs": [
    {
     "data": {
      "text/html": [
       "3.05266640704736"
      ],
      "text/latex": [
       "3.05266640704736"
      ],
      "text/markdown": [
       "3.05266640704736"
      ],
      "text/plain": [
       "[1] 3.052666"
      ]
     },
     "metadata": {},
     "output_type": "display_data"
    },
    {
     "data": {
      "text/html": [
       "2.87"
      ],
      "text/latex": [
       "2.87"
      ],
      "text/markdown": [
       "2.87"
      ],
      "text/plain": [
       "[1] 2.87"
      ]
     },
     "metadata": {},
     "output_type": "display_data"
    },
    {
     "data": {
      "image/png": "[encoded data removed]",
      "text/plain": [
       "Plot with title “Histogram of unlist(biopsy_noNA[var])”"
      ]
     },
     "metadata": {},
     "output_type": "display_data"
    }
   ],
   "source": [
    "gauss <- function(x,var,mu){\n",
    "    a <- 683/(sqrt(2*pi*var^2))\n",
    "    return(a*exp(-(x-mu)^2/(2*var^2)))\n",
    "}\n",
    "hist(unlist(biopsy_noNA[var]),breaks = 70,xlab=names(biopsy_noNA[var]),xlim=c(0,10),ylim=c(0,600) )\n",
    "par(new=TRUE)\n",
    "mean <- as.numeric(unlist(strsplit(estadisticos[4,var],\":\"))[2])\n",
    "xvar <- sqrt(var(unlist(biopsy_noNA[var])))\n",
    "xvar\n",
    "mean\n",
    "plot(gauss(-seq(-3,3,0.1),3,mean),xlim=c(0,10),ylim=c(0,600))"
   ]
  },
  {
   "cell_type": "code",
   "execution_count": 337,
   "metadata": {
    "collapsed": false
   },
   "outputs": [
    {
     "data": {
      "text/html": [
       "10"
      ],
      "text/latex": [
       "10"
      ],
      "text/markdown": [
       "10"
      ],
      "text/plain": [
       "[1] 10"
      ]
     },
     "metadata": {},
     "output_type": "display_data"
    }
   ],
   "source": [
    "mean"
   ]
  },
  {
   "cell_type": "code",
   "execution_count": 340,
   "metadata": {
    "collapsed": true
   },
   "outputs": [],
   "source": [
    "summary(biopsy_noNA)"
   ]
  },
  {
   "cell_type": "code",
   "execution_count": 343,
   "metadata": {
    "collapsed": true
   },
   "outputs": [],
   "source": [
    "?summary"
   ]
  },
  {
   "cell_type": "code",
   "execution_count": null,
   "metadata": {
    "collapsed": true
   },
   "outputs": [],
   "source": []
  }
 ],
 "metadata": {
  "kernelspec": {
   "display_name": "R",
   "language": "R",
   "name": "ir"
  },
  "language_info": {
   "codemirror_mode": "r",
   "file_extension": ".r",
   "mimetype": "text/x-r-source",
   "name": "R",
   "pygments_lexer": "r",
   "version": "3.3.2"
  }
 },
 "nbformat": 4,
 "nbformat_minor": 2
}
