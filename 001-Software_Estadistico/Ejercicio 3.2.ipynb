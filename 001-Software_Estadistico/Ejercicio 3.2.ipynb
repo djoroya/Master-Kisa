{
 "cells": [
  {
   "cell_type": "code",
   "execution_count": 148,
   "metadata": {
    "collapsed": false
   },
   "outputs": [
    {
     "name": "stdout",
     "output_type": "stream",
     "text": [
      "[1] \"Valor de variable result\"\n",
      "[1] \"E\" \"C\" \"B\" \"A\" \"D\"\n",
      "[1] \"Prueba de la función ranking1\"\n"
     ]
    },
    {
     "data": {
      "text/html": [
       "'E'"
      ],
      "text/latex": [
       "'E'"
      ],
      "text/markdown": [
       "'E'"
      ],
      "text/plain": [
       "[1] \"E\""
      ]
     },
     "metadata": {},
     "output_type": "display_data"
    },
    {
     "name": "stdout",
     "output_type": "stream",
     "text": [
      "[1] \"Prueba de la función ranking\"\n"
     ]
    },
    {
     "data": {
      "text/html": [
       "<ol class=list-inline>\n",
       "\t<li>'E'</li>\n",
       "\t<li>'C'</li>\n",
       "\t<li>'B'</li>\n",
       "\t<li>'A'</li>\n",
       "\t<li>'D'</li>\n",
       "</ol>\n"
      ],
      "text/latex": [
       "\\begin{enumerate*}\n",
       "\\item 'E'\n",
       "\\item 'C'\n",
       "\\item 'B'\n",
       "\\item 'A'\n",
       "\\item 'D'\n",
       "\\end{enumerate*}\n"
      ],
      "text/markdown": [
       "1. 'E'\n",
       "2. 'C'\n",
       "3. 'B'\n",
       "4. 'A'\n",
       "5. 'D'\n",
       "\n",
       "\n"
      ],
      "text/plain": [
       "[1] \"E\" \"C\" \"B\" \"A\" \"D\""
      ]
     },
     "metadata": {},
     "output_type": "display_data"
    }
   ],
   "source": [
    "# Definimos los valores establecidos en el ejercicios \n",
    "conjunto <- c(\"A\", \"B\", \"C\", \"D\", \"E\")\n",
    "valores  <- c( 1 ,  1 ,  2 ,  1 ,  2 )\n",
    "preferencia <- c(\"B\", \"A\", \"E\", \"D\", \"C\")\n",
    "#\n",
    "# Creamos un dataframe de preferencias, en el que asignaremos un numero \n",
    "# natural a cada valor de la lista. El elemento con mas preferencia \n",
    "# tendra 1 mientras que es elemento con preferencias mas baja tendra \n",
    "# como posicion el tamaño de la lista \n",
    "#\n",
    "df.pref <-(1:length(preferencia))\n",
    "names(df.pref) <- preferencia\n",
    "#\n",
    "# Crearemos una dataframe de conjunto y sis valores, de tal forma  \n",
    "# que los valores este en una fila y los elementos del conjunto\n",
    "# en los nombres de las columnas\n",
    "#\n",
    "df.conj <- data.frame(matrix(valores,ncol=length(conjunto)))\n",
    "names(df.conj) <- conjunto\n",
    "#\n",
    "# De esta forma podemos ordenar el dataframe con la funcion sort\n",
    "# de mayor a menor \n",
    "#\n",
    "df.conj <- sort(df.conj,decreasing = TRUE)\n",
    "#\n",
    "# Para tratar los empates realizaremos lo mismo pero cambiaremos \n",
    "# los valores de dataframe df.conf por los valores corespondientes\n",
    "# tomado de la df.pref ordenaremos los sublistas y lo agregaremos\n",
    "# a la variable result\n",
    "#\n",
    "result <- c()\n",
    "#\n",
    "# Es necesario utilizar la funcion rev(), ya que la funcion unique()\n",
    "# por defecto devuelve una lista ordenada de menor a mayor\n",
    "# \n",
    "for (valor in rev(unique(valores))){\n",
    "    range <- which(df.conj == valor)\n",
    "    subconj <- (names(df.conj[range]))\n",
    "    result <- c(result,names(sort(df.pref[subconj])))    \n",
    "}\n",
    "#\n",
    "# El la lista ordenada se puede ver en la variable result\n",
    "#\n",
    "print(\"Valor de variable result\")\n",
    "print(result)\n",
    "#\n",
    "# Viendo lo anterior podemos definir las funciones de la siguiente \n",
    "# manera:\n",
    "#\n",
    "conjunto <- c(\"A\", \"B\", \"C\", \"D\", \"E\")\n",
    "valores  <- c( 1 ,  1 ,  2 ,  1 ,  2 )\n",
    "preferencia <- c(\"B\", \"A\", \"E\", \"D\", \"C\")\n",
    "#\n",
    "# Definicion de Funcion ranking\n",
    "# =============================\n",
    "ranking <- function(conjunto,valores,preferencia){\n",
    "    df.pref        <-(1:length(preferencia))\n",
    "    names(df.pref) <- preferencia\n",
    "    df.conj        <- data.frame(matrix(valores,ncol=length(conjunto)))\n",
    "    names(df.conj) <- conjunto\n",
    "    df.conj        <- sort(df.conj,decresing=TRUE)\n",
    "    result <- c()\n",
    "    for (valor in rev(unique(valores))){\n",
    "        range    <- which(df.conj == valor)\n",
    "        subconj  <- (names(df.conj[range]))\n",
    "        result   <- c(result,names(sort(df.pref[subconj])))    \n",
    "        }\n",
    "    return(unlist(result))\n",
    "}\n",
    "#\n",
    "# Definicion de la funcion ranking1\n",
    "# =================================\n",
    "ranking1 <- function (conjunto,valores,preferencia){   \n",
    "    ranking(conjunto,valores,preferencia)[1]\n",
    "}\n",
    "#\n",
    "# Prueba de las funciones \n",
    "# =======================\n",
    "print(\"Prueba de la función ranking1\")\n",
    "ranking1(conjunto,valores,preferencia)\n",
    "print(\"Prueba de la función ranking\")\n",
    "ranking(conjunto,valores,preferencia)"
   ]
  },
  {
   "cell_type": "code",
   "execution_count": 14,
   "metadata": {
    "collapsed": false
   },
   "outputs": [
    {
     "data": {
      "text/html": [
       "<dl>\n",
       "\t<dt>$x2</dt>\n",
       "\t\t<dd>9</dd>\n",
       "\t<dt>$x3</dt>\n",
       "\t\t<dd>27</dd>\n",
       "\t<dt>$x4</dt>\n",
       "\t\t<dd>81</dd>\n",
       "</dl>\n"
      ],
      "text/latex": [
       "\\begin{description}\n",
       "\\item[\\$x2] 9\n",
       "\\item[\\$x3] 27\n",
       "\\item[\\$x4] 81\n",
       "\\end{description}\n"
      ],
      "text/markdown": [
       "$x2\n",
       ":   9\n",
       "$x3\n",
       ":   27\n",
       "$x4\n",
       ":   81\n",
       "\n",
       "\n"
      ],
      "text/plain": [
       "$x2\n",
       "[1] 9\n",
       "\n",
       "$x3\n",
       "[1] 27\n",
       "\n",
       "$x4\n",
       "[1] 81\n"
      ]
     },
     "metadata": {},
     "output_type": "display_data"
    },
    {
     "data": {
      "text/html": [
       "9"
      ],
      "text/latex": [
       "9"
      ],
      "text/markdown": [
       "9"
      ],
      "text/plain": [
       "[1] 9"
      ]
     },
     "metadata": {},
     "output_type": "display_data"
    },
    {
     "data": {
      "text/html": [
       "27"
      ],
      "text/latex": [
       "27"
      ],
      "text/markdown": [
       "27"
      ],
      "text/plain": [
       "[1] 27"
      ]
     },
     "metadata": {},
     "output_type": "display_data"
    },
    {
     "data": {
      "text/html": [
       "81"
      ],
      "text/latex": [
       "81"
      ],
      "text/markdown": [
       "81"
      ],
      "text/plain": [
       "[1] 81"
      ]
     },
     "metadata": {},
     "output_type": "display_data"
    }
   ],
   "source": [
    "potencias <- function(x){\n",
    "                         parcel <- list(x2=x*x, x3=x*x*x, x4=x*x*x*x)\n",
    "                         return(parcel)\n",
    "}\n",
    "x <- potencias(3)\n",
    "x\n",
    "x$x2\n",
    "x$x3\n",
    "x$x4"
   ]
  },
  {
   "cell_type": "code",
   "execution_count": null,
   "metadata": {
    "collapsed": true
   },
   "outputs": [],
   "source": []
  }
 ],
 "metadata": {
  "anaconda-cloud": {},
  "kernelspec": {
   "display_name": "R",
   "language": "R",
   "name": "ir"
  },
  "language_info": {
   "codemirror_mode": "r",
   "file_extension": ".r",
   "mimetype": "text/x-r-source",
   "name": "R",
   "pygments_lexer": "r",
   "version": "3.3.2"
  }
 },
 "nbformat": 4,
 "nbformat_minor": 2
}
