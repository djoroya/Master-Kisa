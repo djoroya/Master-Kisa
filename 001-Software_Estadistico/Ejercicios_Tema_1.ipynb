{
 "cells": [
  {
   "cell_type": "markdown",
   "metadata": {},
   "source": [
    "# 1.1 Ejercicio 1.1\n"
   ]
  },
  {
   "cell_type": "markdown",
   "metadata": {},
   "source": [
    "Carga la base de datos 'iris' y responde a las siguientes cuestiones mediante el código de R:\n"
   ]
  },
  {
   "cell_type": "markdown",
   "metadata": {},
   "source": [
    "##### 1\n",
    "¿Cuáles son los identificadores de las plantas que tienen estas dos características a la vez: largura del pétalo entre 1.6 y 4.0, y anchura del pétalo entre 1.2 y 1.5? (sin incluir esos valores puntuales: (1.6, 4.0), (1.2, 1.5) )."
   ]
  },
  {
   "cell_type": "markdown",
   "metadata": {},
   "source": [
    "Primero cargaremos los nombres de las columnas del dataframe Iris"
   ]
  },
  {
   "cell_type": "code",
   "execution_count": 47,
   "metadata": {
    "collapsed": false,
    "scrolled": true
   },
   "outputs": [
    {
     "data": {
      "text/html": [
       "<ol class=list-inline>\n",
       "\t<li>'Sepal.Length'</li>\n",
       "\t<li>'Sepal.Width'</li>\n",
       "\t<li>'Petal.Length'</li>\n",
       "\t<li>'Petal.Width'</li>\n",
       "\t<li>'Species'</li>\n",
       "</ol>\n"
      ],
      "text/latex": [
       "\\begin{enumerate*}\n",
       "\\item 'Sepal.Length'\n",
       "\\item 'Sepal.Width'\n",
       "\\item 'Petal.Length'\n",
       "\\item 'Petal.Width'\n",
       "\\item 'Species'\n",
       "\\end{enumerate*}\n"
      ],
      "text/markdown": [
       "1. 'Sepal.Length'\n",
       "2. 'Sepal.Width'\n",
       "3. 'Petal.Length'\n",
       "4. 'Petal.Width'\n",
       "5. 'Species'\n",
       "\n",
       "\n"
      ],
      "text/plain": [
       "[1] \"Sepal.Length\" \"Sepal.Width\"  \"Petal.Length\" \"Petal.Width\"  \"Species\"     "
      ]
     },
     "metadata": {},
     "output_type": "display_data"
    }
   ],
   "source": [
    "names(iris)"
   ]
  },
  {
   "cell_type": "markdown",
   "metadata": {},
   "source": [
    "Creamos una matriz con las condiciones anterirores y lo transformamos en dateframe otra vez. Luegos volvemos asignar los nombres de Iris a la nueva matriz. "
   ]
  },
  {
   "cell_type": "code",
   "execution_count": 51,
   "metadata": {
    "collapsed": false,
    "scrolled": true
   },
   "outputs": [
    {
     "data": {
      "text/html": [
       "<table>\n",
       "<thead><tr><th scope=col>Sepal.Length</th><th scope=col>Sepal.Width</th><th scope=col>Petal.Length</th><th scope=col>Petal.Width</th><th scope=col>Species</th></tr></thead>\n",
       "<tbody>\n",
       "\t<tr><td>5.2       </td><td>2.7       </td><td>3.9       </td><td>1.4       </td><td>versicolor</td></tr>\n",
       "\t<tr><td>5.6       </td><td>2.9       </td><td>3.6       </td><td>1.3       </td><td>versicolor</td></tr>\n",
       "</tbody>\n",
       "</table>\n"
      ],
      "text/latex": [
       "\\begin{tabular}{r|lllll}\n",
       " Sepal.Length & Sepal.Width & Petal.Length & Petal.Width & Species\\\\\n",
       "\\hline\n",
       "\t 5.2        & 2.7        & 3.9        & 1.4        & versicolor\\\\\n",
       "\t 5.6        & 2.9        & 3.6        & 1.3        & versicolor\\\\\n",
       "\\end{tabular}\n"
      ],
      "text/markdown": [
       "\n",
       "Sepal.Length | Sepal.Width | Petal.Length | Petal.Width | Species | \n",
       "|---|---|\n",
       "| 5.2        | 2.7        | 3.9        | 1.4        | versicolor | \n",
       "| 5.6        | 2.9        | 3.6        | 1.3        | versicolor | \n",
       "\n",
       "\n"
      ],
      "text/plain": [
       "  Sepal.Length Sepal.Width Petal.Length Petal.Width Species   \n",
       "1 5.2          2.7         3.9          1.4         versicolor\n",
       "2 5.6          2.9         3.6          1.3         versicolor"
      ]
     },
     "metadata": {},
     "output_type": "display_data"
    }
   ],
   "source": [
    "select <- data.frame(matrix(iris[iris[\"Petal.Length\"] < 4.0 &\n",
    "                      iris[\"Petal.Length\"] > 1.6 &\n",
    "                      iris[\"Petal.Width\"]  > 1.2 &\n",
    "                      iris[\"Petal.Width\"]  < 1.5 ],ncol=5))\n",
    "names(iris) -> names(select)\n",
    "select"
   ]
  },
  {
   "cell_type": "markdown",
   "metadata": {},
   "source": [
    "De la matriz obtenida podemos comprobar que solo la especie \"versicolor\"  cumple con las condiciones del enunciado."
   ]
  },
  {
   "cell_type": "markdown",
   "metadata": {},
   "source": [
    "##### 2\n",
    "¿Cuántas son las plantas del punto anterior 1.?"
   ]
  },
  {
   "cell_type": "code",
   "execution_count": 4,
   "metadata": {
    "collapsed": false
   },
   "outputs": [
    {
     "data": {
      "text/html": [
       "2"
      ],
      "text/latex": [
       "2"
      ],
      "text/markdown": [
       "2"
      ],
      "text/plain": [
       "[1] 2"
      ]
     },
     "metadata": {},
     "output_type": "display_data"
    }
   ],
   "source": [
    "nrow(select)"
   ]
  },
  {
   "cell_type": "markdown",
   "metadata": {},
   "source": [
    "Son dos plantas distintas."
   ]
  },
  {
   "cell_type": "markdown",
   "metadata": {},
   "source": [
    "##### 3\n",
    "¿De qué especies son las plantas del punto anterior 1?"
   ]
  },
  {
   "cell_type": "code",
   "execution_count": 5,
   "metadata": {
    "collapsed": false
   },
   "outputs": [
    {
     "data": {
      "text/html": [
       "versicolor"
      ],
      "text/latex": [
       "versicolor"
      ],
      "text/markdown": [
       "versicolor"
      ],
      "text/plain": [
       "[1] versicolor\n",
       "Levels: versicolor"
      ]
     },
     "metadata": {},
     "output_type": "display_data"
    }
   ],
   "source": [
    "unique(select[,5])"
   ]
  },
  {
   "cell_type": "markdown",
   "metadata": {},
   "source": [
    "Solo la especie \"versicolor\"  cumple con la condición anterior"
   ]
  },
  {
   "cell_type": "markdown",
   "metadata": {},
   "source": [
    "##### 4\n",
    "¿Cuáles son las demás características (largura del sépalo, anchura del sépalo) de las plantas del punto anterior 1.?\n",
    "\n",
    "Podemos ver estas características en la siguiente tabla."
   ]
  },
  {
   "cell_type": "code",
   "execution_count": 52,
   "metadata": {
    "collapsed": false
   },
   "outputs": [
    {
     "data": {
      "text/html": [
       "<table>\n",
       "<thead><tr><th scope=col>Sepal.Length</th><th scope=col>Sepal.Width</th></tr></thead>\n",
       "<tbody>\n",
       "\t<tr><td>5.2</td><td>2.7</td></tr>\n",
       "\t<tr><td>5.6</td><td>2.9</td></tr>\n",
       "</tbody>\n",
       "</table>\n"
      ],
      "text/latex": [
       "\\begin{tabular}{r|ll}\n",
       " Sepal.Length & Sepal.Width\\\\\n",
       "\\hline\n",
       "\t 5.2 & 2.7\\\\\n",
       "\t 5.6 & 2.9\\\\\n",
       "\\end{tabular}\n"
      ],
      "text/markdown": [
       "\n",
       "Sepal.Length | Sepal.Width | \n",
       "|---|---|\n",
       "| 5.2 | 2.7 | \n",
       "| 5.6 | 2.9 | \n",
       "\n",
       "\n"
      ],
      "text/plain": [
       "  Sepal.Length Sepal.Width\n",
       "1 5.2          2.7        \n",
       "2 5.6          2.9        "
      ]
     },
     "metadata": {},
     "output_type": "display_data"
    }
   ],
   "source": [
    "select[c(\"Sepal.Length\",\"Sepal.Width\")]"
   ]
  },
  {
   "cell_type": "markdown",
   "metadata": {},
   "source": [
    "#### 5 \n",
    "Ordena el conjunto de todas las plantas según la anchura del pétalo, de mayor a menor: la planta que tenga la anchura más grande será la primera, y la que tenga la más pequeña la última."
   ]
  },
  {
   "cell_type": "code",
   "execution_count": 39,
   "metadata": {
    "collapsed": false
   },
   "outputs": [
    {
     "data": {
      "text/html": [
       "<table>\n",
       "<thead><tr><th></th><th scope=col>Sepal.Length</th><th scope=col>Sepal.Width</th><th scope=col>Petal.Length</th><th scope=col>Petal.Width</th><th scope=col>Species</th></tr></thead>\n",
       "<tbody>\n",
       "\t<tr><th scope=row>101</th><td>6.3      </td><td>3.3      </td><td>6.0      </td><td>2.5      </td><td>virginica</td></tr>\n",
       "\t<tr><th scope=row>110</th><td>7.2      </td><td>3.6      </td><td>6.1      </td><td>2.5      </td><td>virginica</td></tr>\n",
       "\t<tr><th scope=row>145</th><td>6.7      </td><td>3.3      </td><td>5.7      </td><td>2.5      </td><td>virginica</td></tr>\n",
       "\t<tr><th scope=row>115</th><td>5.8      </td><td>2.8      </td><td>5.1      </td><td>2.4      </td><td>virginica</td></tr>\n",
       "\t<tr><th scope=row>137</th><td>6.3      </td><td>3.4      </td><td>5.6      </td><td>2.4      </td><td>virginica</td></tr>\n",
       "\t<tr><th scope=row>141</th><td>6.7      </td><td>3.1      </td><td>5.6      </td><td>2.4      </td><td>virginica</td></tr>\n",
       "</tbody>\n",
       "</table>\n"
      ],
      "text/latex": [
       "\\begin{tabular}{r|lllll}\n",
       "  & Sepal.Length & Sepal.Width & Petal.Length & Petal.Width & Species\\\\\n",
       "\\hline\n",
       "\t101 & 6.3       & 3.3       & 6.0       & 2.5       & virginica\\\\\n",
       "\t110 & 7.2       & 3.6       & 6.1       & 2.5       & virginica\\\\\n",
       "\t145 & 6.7       & 3.3       & 5.7       & 2.5       & virginica\\\\\n",
       "\t115 & 5.8       & 2.8       & 5.1       & 2.4       & virginica\\\\\n",
       "\t137 & 6.3       & 3.4       & 5.6       & 2.4       & virginica\\\\\n",
       "\t141 & 6.7       & 3.1       & 5.6       & 2.4       & virginica\\\\\n",
       "\\end{tabular}\n"
      ],
      "text/markdown": [
       "\n",
       "| <!--/--> | Sepal.Length | Sepal.Width | Petal.Length | Petal.Width | Species | \n",
       "|---|---|---|---|---|---|\n",
       "| 101 | 6.3       | 3.3       | 6.0       | 2.5       | virginica | \n",
       "| 110 | 7.2       | 3.6       | 6.1       | 2.5       | virginica | \n",
       "| 145 | 6.7       | 3.3       | 5.7       | 2.5       | virginica | \n",
       "| 115 | 5.8       | 2.8       | 5.1       | 2.4       | virginica | \n",
       "| 137 | 6.3       | 3.4       | 5.6       | 2.4       | virginica | \n",
       "| 141 | 6.7       | 3.1       | 5.6       | 2.4       | virginica | \n",
       "\n",
       "\n"
      ],
      "text/plain": [
       "    Sepal.Length Sepal.Width Petal.Length Petal.Width Species  \n",
       "101 6.3          3.3         6.0          2.5         virginica\n",
       "110 7.2          3.6         6.1          2.5         virginica\n",
       "145 6.7          3.3         5.7          2.5         virginica\n",
       "115 5.8          2.8         5.1          2.4         virginica\n",
       "137 6.3          3.4         5.6          2.4         virginica\n",
       "141 6.7          3.1         5.6          2.4         virginica"
      ]
     },
     "metadata": {},
     "output_type": "display_data"
    },
    {
     "data": {
      "text/html": [
       "<table>\n",
       "<thead><tr><th></th><th scope=col>Sepal.Length</th><th scope=col>Sepal.Width</th><th scope=col>Petal.Length</th><th scope=col>Petal.Width</th><th scope=col>Species</th></tr></thead>\n",
       "<tbody>\n",
       "\t<tr><th scope=row>50</th><td>5.0   </td><td>3.3   </td><td>1.4   </td><td>0.2   </td><td>setosa</td></tr>\n",
       "\t<tr><th scope=row>10</th><td>4.9   </td><td>3.1   </td><td>1.5   </td><td>0.1   </td><td>setosa</td></tr>\n",
       "\t<tr><th scope=row>13</th><td>4.8   </td><td>3.0   </td><td>1.4   </td><td>0.1   </td><td>setosa</td></tr>\n",
       "\t<tr><th scope=row>14</th><td>4.3   </td><td>3.0   </td><td>1.1   </td><td>0.1   </td><td>setosa</td></tr>\n",
       "\t<tr><th scope=row>33</th><td>5.2   </td><td>4.1   </td><td>1.5   </td><td>0.1   </td><td>setosa</td></tr>\n",
       "\t<tr><th scope=row>38</th><td>4.9   </td><td>3.6   </td><td>1.4   </td><td>0.1   </td><td>setosa</td></tr>\n",
       "</tbody>\n",
       "</table>\n"
      ],
      "text/latex": [
       "\\begin{tabular}{r|lllll}\n",
       "  & Sepal.Length & Sepal.Width & Petal.Length & Petal.Width & Species\\\\\n",
       "\\hline\n",
       "\t50 & 5.0    & 3.3    & 1.4    & 0.2    & setosa\\\\\n",
       "\t10 & 4.9    & 3.1    & 1.5    & 0.1    & setosa\\\\\n",
       "\t13 & 4.8    & 3.0    & 1.4    & 0.1    & setosa\\\\\n",
       "\t14 & 4.3    & 3.0    & 1.1    & 0.1    & setosa\\\\\n",
       "\t33 & 5.2    & 4.1    & 1.5    & 0.1    & setosa\\\\\n",
       "\t38 & 4.9    & 3.6    & 1.4    & 0.1    & setosa\\\\\n",
       "\\end{tabular}\n"
      ],
      "text/markdown": [
       "\n",
       "| <!--/--> | Sepal.Length | Sepal.Width | Petal.Length | Petal.Width | Species | \n",
       "|---|---|---|---|---|---|\n",
       "| 50 | 5.0    | 3.3    | 1.4    | 0.2    | setosa | \n",
       "| 10 | 4.9    | 3.1    | 1.5    | 0.1    | setosa | \n",
       "| 13 | 4.8    | 3.0    | 1.4    | 0.1    | setosa | \n",
       "| 14 | 4.3    | 3.0    | 1.1    | 0.1    | setosa | \n",
       "| 33 | 5.2    | 4.1    | 1.5    | 0.1    | setosa | \n",
       "| 38 | 4.9    | 3.6    | 1.4    | 0.1    | setosa | \n",
       "\n",
       "\n"
      ],
      "text/plain": [
       "   Sepal.Length Sepal.Width Petal.Length Petal.Width Species\n",
       "50 5.0          3.3         1.4          0.2         setosa \n",
       "10 4.9          3.1         1.5          0.1         setosa \n",
       "13 4.8          3.0         1.4          0.1         setosa \n",
       "14 4.3          3.0         1.1          0.1         setosa \n",
       "33 5.2          4.1         1.5          0.1         setosa \n",
       "38 4.9          3.6         1.4          0.1         setosa "
      ]
     },
     "metadata": {},
     "output_type": "display_data"
    }
   ],
   "source": [
    "# La función with nos devolverá una lista de las posiciones de las filas\n",
    "# ordenadas por \"Petal.Width\n",
    "\n",
    "orden = with(iris,order(iris[\"Petal.Width\"],decreasing = TRUE))\n",
    "\n",
    "# Obtenemos las filas de iris en el orden obtenido antes\n",
    "\n",
    "iris_sort=iris[orden, ]\n",
    "\n",
    "# Vemos el principio \n",
    "\n",
    "head(iris_sort)\n",
    "\n",
    "# Vemos el final\n",
    "\n",
    "tail(iris_sort)"
   ]
  },
  {
   "cell_type": "markdown",
   "metadata": {},
   "source": [
    "Podemos ver como el objeto iris_sort es igual que iris pero ordenado por anchura de pétalo."
   ]
  },
  {
   "cell_type": "markdown",
   "metadata": {},
   "source": [
    "#### 6\n",
    "Asigna a cada planta el lugar o puesto que ocupa en el ordenamiento anterior, es decir, establece un ranking (desde la 1ª a la 150ª, y ten en cuenta los empates). Añade una columna al dataframe 'iris' en la que aparezca en cada planta el puesto asignado (se trata de una variable numérica)."
   ]
  },
  {
   "cell_type": "code",
   "execution_count": 57,
   "metadata": {
    "collapsed": false
   },
   "outputs": [],
   "source": [
    "iris_ranking <- cbind(rank(-iris_sort[\"Petal.Width\"],ties.method=\"min\"),\n",
    "                          iris_sort)\n",
    "names(iris_ranking)[1] <- \"Ranking\""
   ]
  },
  {
   "cell_type": "markdown",
   "metadata": {},
   "source": [
    "Veamos el principio y final de la dataframe para comprobar que tenemos un ranking de mayor anchura de pétalo. Los empates se resuelven de forma que todos los elemento con el mismo valor se le asigna la siguiente posición del elemento o elementos anteriores."
   ]
  },
  {
   "cell_type": "code",
   "execution_count": 56,
   "metadata": {
    "collapsed": false
   },
   "outputs": [
    {
     "data": {
      "text/html": [
       "<table>\n",
       "<thead><tr><th></th><th scope=col>Ranking</th><th scope=col>Sepal.Length</th><th scope=col>Sepal.Width</th><th scope=col>Petal.Length</th><th scope=col>Petal.Width</th><th scope=col>Species</th></tr></thead>\n",
       "<tbody>\n",
       "\t<tr><th scope=row>101</th><td>1        </td><td>6.3      </td><td>3.3      </td><td>6.0      </td><td>2.5      </td><td>virginica</td></tr>\n",
       "\t<tr><th scope=row>110</th><td>1        </td><td>7.2      </td><td>3.6      </td><td>6.1      </td><td>2.5      </td><td>virginica</td></tr>\n",
       "\t<tr><th scope=row>145</th><td>1        </td><td>6.7      </td><td>3.3      </td><td>5.7      </td><td>2.5      </td><td>virginica</td></tr>\n",
       "\t<tr><th scope=row>115</th><td>4        </td><td>5.8      </td><td>2.8      </td><td>5.1      </td><td>2.4      </td><td>virginica</td></tr>\n",
       "\t<tr><th scope=row>137</th><td>4        </td><td>6.3      </td><td>3.4      </td><td>5.6      </td><td>2.4      </td><td>virginica</td></tr>\n",
       "\t<tr><th scope=row>141</th><td>4        </td><td>6.7      </td><td>3.1      </td><td>5.6      </td><td>2.4      </td><td>virginica</td></tr>\n",
       "</tbody>\n",
       "</table>\n"
      ],
      "text/latex": [
       "\\begin{tabular}{r|llllll}\n",
       "  & Ranking & Sepal.Length & Sepal.Width & Petal.Length & Petal.Width & Species\\\\\n",
       "\\hline\n",
       "\t101 & 1         & 6.3       & 3.3       & 6.0       & 2.5       & virginica\\\\\n",
       "\t110 & 1         & 7.2       & 3.6       & 6.1       & 2.5       & virginica\\\\\n",
       "\t145 & 1         & 6.7       & 3.3       & 5.7       & 2.5       & virginica\\\\\n",
       "\t115 & 4         & 5.8       & 2.8       & 5.1       & 2.4       & virginica\\\\\n",
       "\t137 & 4         & 6.3       & 3.4       & 5.6       & 2.4       & virginica\\\\\n",
       "\t141 & 4         & 6.7       & 3.1       & 5.6       & 2.4       & virginica\\\\\n",
       "\\end{tabular}\n"
      ],
      "text/markdown": [
       "\n",
       "| <!--/--> | Ranking | Sepal.Length | Sepal.Width | Petal.Length | Petal.Width | Species | \n",
       "|---|---|---|---|---|---|\n",
       "| 101 | 1         | 6.3       | 3.3       | 6.0       | 2.5       | virginica | \n",
       "| 110 | 1         | 7.2       | 3.6       | 6.1       | 2.5       | virginica | \n",
       "| 145 | 1         | 6.7       | 3.3       | 5.7       | 2.5       | virginica | \n",
       "| 115 | 4         | 5.8       | 2.8       | 5.1       | 2.4       | virginica | \n",
       "| 137 | 4         | 6.3       | 3.4       | 5.6       | 2.4       | virginica | \n",
       "| 141 | 4         | 6.7       | 3.1       | 5.6       | 2.4       | virginica | \n",
       "\n",
       "\n"
      ],
      "text/plain": [
       "    Ranking Sepal.Length Sepal.Width Petal.Length Petal.Width Species  \n",
       "101 1       6.3          3.3         6.0          2.5         virginica\n",
       "110 1       7.2          3.6         6.1          2.5         virginica\n",
       "145 1       6.7          3.3         5.7          2.5         virginica\n",
       "115 4       5.8          2.8         5.1          2.4         virginica\n",
       "137 4       6.3          3.4         5.6          2.4         virginica\n",
       "141 4       6.7          3.1         5.6          2.4         virginica"
      ]
     },
     "metadata": {},
     "output_type": "display_data"
    },
    {
     "data": {
      "text/html": [
       "<table>\n",
       "<thead><tr><th></th><th scope=col>Ranking</th><th scope=col>Sepal.Length</th><th scope=col>Sepal.Width</th><th scope=col>Petal.Length</th><th scope=col>Petal.Width</th><th scope=col>Species</th></tr></thead>\n",
       "<tbody>\n",
       "\t<tr><th scope=row>50</th><td>117   </td><td>5.0   </td><td>3.3   </td><td>1.4   </td><td>0.2   </td><td>setosa</td></tr>\n",
       "\t<tr><th scope=row>10</th><td>146   </td><td>4.9   </td><td>3.1   </td><td>1.5   </td><td>0.1   </td><td>setosa</td></tr>\n",
       "\t<tr><th scope=row>13</th><td>146   </td><td>4.8   </td><td>3.0   </td><td>1.4   </td><td>0.1   </td><td>setosa</td></tr>\n",
       "\t<tr><th scope=row>14</th><td>146   </td><td>4.3   </td><td>3.0   </td><td>1.1   </td><td>0.1   </td><td>setosa</td></tr>\n",
       "\t<tr><th scope=row>33</th><td>146   </td><td>5.2   </td><td>4.1   </td><td>1.5   </td><td>0.1   </td><td>setosa</td></tr>\n",
       "\t<tr><th scope=row>38</th><td>146   </td><td>4.9   </td><td>3.6   </td><td>1.4   </td><td>0.1   </td><td>setosa</td></tr>\n",
       "</tbody>\n",
       "</table>\n"
      ],
      "text/latex": [
       "\\begin{tabular}{r|llllll}\n",
       "  & Ranking & Sepal.Length & Sepal.Width & Petal.Length & Petal.Width & Species\\\\\n",
       "\\hline\n",
       "\t50 & 117    & 5.0    & 3.3    & 1.4    & 0.2    & setosa\\\\\n",
       "\t10 & 146    & 4.9    & 3.1    & 1.5    & 0.1    & setosa\\\\\n",
       "\t13 & 146    & 4.8    & 3.0    & 1.4    & 0.1    & setosa\\\\\n",
       "\t14 & 146    & 4.3    & 3.0    & 1.1    & 0.1    & setosa\\\\\n",
       "\t33 & 146    & 5.2    & 4.1    & 1.5    & 0.1    & setosa\\\\\n",
       "\t38 & 146    & 4.9    & 3.6    & 1.4    & 0.1    & setosa\\\\\n",
       "\\end{tabular}\n"
      ],
      "text/markdown": [
       "\n",
       "| <!--/--> | Ranking | Sepal.Length | Sepal.Width | Petal.Length | Petal.Width | Species | \n",
       "|---|---|---|---|---|---|\n",
       "| 50 | 117    | 5.0    | 3.3    | 1.4    | 0.2    | setosa | \n",
       "| 10 | 146    | 4.9    | 3.1    | 1.5    | 0.1    | setosa | \n",
       "| 13 | 146    | 4.8    | 3.0    | 1.4    | 0.1    | setosa | \n",
       "| 14 | 146    | 4.3    | 3.0    | 1.1    | 0.1    | setosa | \n",
       "| 33 | 146    | 5.2    | 4.1    | 1.5    | 0.1    | setosa | \n",
       "| 38 | 146    | 4.9    | 3.6    | 1.4    | 0.1    | setosa | \n",
       "\n",
       "\n"
      ],
      "text/plain": [
       "   Ranking Sepal.Length Sepal.Width Petal.Length Petal.Width Species\n",
       "50 117     5.0          3.3         1.4          0.2         setosa \n",
       "10 146     4.9          3.1         1.5          0.1         setosa \n",
       "13 146     4.8          3.0         1.4          0.1         setosa \n",
       "14 146     4.3          3.0         1.1          0.1         setosa \n",
       "33 146     5.2          4.1         1.5          0.1         setosa \n",
       "38 146     4.9          3.6         1.4          0.1         setosa "
      ]
     },
     "metadata": {},
     "output_type": "display_data"
    }
   ],
   "source": [
    "head(iris_ranking)\n",
    "tail(iris_ranking)"
   ]
  },
  {
   "cell_type": "markdown",
   "metadata": {},
   "source": [
    "##### 7\n",
    "Considera los puestos que han resultado para las plantas de la especie 'setosa' (recuerda que las plantas están ordenadas según la anchura del pétalo), y calcula la suma de los mismos. Haz lo mismo con las especies 'virginica' y 'versicolor'. Al ser  la cantidad de plantas igual para cada especie, la suma ordena las especies según la anchura del pétalo. Si las cantidades no fueran las mismas (50 de cada especie), el orden entre las especies se calcularía mediante la media aritmética de cada especie. En cualquier caso, se podría luego decir qué especie tiene, en general (o en términos medios), la mayor anchura del pétalo. A partir de aquí entramos en cuestiones de estadística.\n",
    "\n",
    "Los nombres de el ranking realizado antes es:\n"
   ]
  },
  {
   "cell_type": "code",
   "execution_count": 58,
   "metadata": {
    "collapsed": false
   },
   "outputs": [
    {
     "data": {
      "text/html": [
       "<ol class=list-inline>\n",
       "\t<li>'Ranking'</li>\n",
       "\t<li>'Sepal.Length'</li>\n",
       "\t<li>'Sepal.Width'</li>\n",
       "\t<li>'Petal.Length'</li>\n",
       "\t<li>'Petal.Width'</li>\n",
       "\t<li>'Species'</li>\n",
       "</ol>\n"
      ],
      "text/latex": [
       "\\begin{enumerate*}\n",
       "\\item 'Ranking'\n",
       "\\item 'Sepal.Length'\n",
       "\\item 'Sepal.Width'\n",
       "\\item 'Petal.Length'\n",
       "\\item 'Petal.Width'\n",
       "\\item 'Species'\n",
       "\\end{enumerate*}\n"
      ],
      "text/markdown": [
       "1. 'Ranking'\n",
       "2. 'Sepal.Length'\n",
       "3. 'Sepal.Width'\n",
       "4. 'Petal.Length'\n",
       "5. 'Petal.Width'\n",
       "6. 'Species'\n",
       "\n",
       "\n"
      ],
      "text/plain": [
       "[1] \"Ranking\"      \"Sepal.Length\" \"Sepal.Width\"  \"Petal.Length\" \"Petal.Width\" \n",
       "[6] \"Species\"     "
      ]
     },
     "metadata": {},
     "output_type": "display_data"
    }
   ],
   "source": [
    "names(iris_ranking)"
   ]
  },
  {
   "cell_type": "markdown",
   "metadata": {},
   "source": [
    "Podemos crear la lista setosa. La cual nos devolverá las filas que tengan el valor de la especie igual a \"setosa\". "
   ]
  },
  {
   "cell_type": "code",
   "execution_count": 62,
   "metadata": {
    "collapsed": false
   },
   "outputs": [
    {
     "data": {
      "text/html": [
       "<ol class=list-inline>\n",
       "\t<li>'101'</li>\n",
       "\t<li>'102'</li>\n",
       "\t<li>'103'</li>\n",
       "\t<li>'103'</li>\n",
       "\t<li>'103'</li>\n",
       "\t<li>'103'</li>\n",
       "\t<li>'103'</li>\n",
       "\t<li>'103'</li>\n",
       "\t<li>'103'</li>\n",
       "\t<li>'110'</li>\n",
       "\t<li>'110'</li>\n",
       "\t<li>'110'</li>\n",
       "\t<li>'110'</li>\n",
       "\t<li>'110'</li>\n",
       "\t<li>'110'</li>\n",
       "\t<li>'110'</li>\n",
       "\t<li>'117'</li>\n",
       "\t<li>'117'</li>\n",
       "\t<li>'117'</li>\n",
       "\t<li>'117'</li>\n",
       "\t<li>'117'</li>\n",
       "\t<li>'117'</li>\n",
       "\t<li>'117'</li>\n",
       "\t<li>'117'</li>\n",
       "\t<li>'117'</li>\n",
       "\t<li>'117'</li>\n",
       "\t<li>'117'</li>\n",
       "\t<li>'117'</li>\n",
       "\t<li>'117'</li>\n",
       "\t<li>'117'</li>\n",
       "\t<li>'117'</li>\n",
       "\t<li>'117'</li>\n",
       "\t<li>'117'</li>\n",
       "\t<li>'117'</li>\n",
       "\t<li>'117'</li>\n",
       "\t<li>'117'</li>\n",
       "\t<li>'117'</li>\n",
       "\t<li>'117'</li>\n",
       "\t<li>'117'</li>\n",
       "\t<li>'117'</li>\n",
       "\t<li>'117'</li>\n",
       "\t<li>'117'</li>\n",
       "\t<li>'117'</li>\n",
       "\t<li>'117'</li>\n",
       "\t<li>'117'</li>\n",
       "\t<li>'146'</li>\n",
       "\t<li>'146'</li>\n",
       "\t<li>'146'</li>\n",
       "\t<li>'146'</li>\n",
       "\t<li>'146'</li>\n",
       "\t<li>'setosa'</li>\n",
       "\t<li>'setosa'</li>\n",
       "\t<li>'setosa'</li>\n",
       "\t<li>'setosa'</li>\n",
       "\t<li>'setosa'</li>\n",
       "\t<li>'setosa'</li>\n",
       "\t<li>'setosa'</li>\n",
       "\t<li>'setosa'</li>\n",
       "\t<li>'setosa'</li>\n",
       "\t<li>'setosa'</li>\n",
       "\t<li>'setosa'</li>\n",
       "\t<li>'setosa'</li>\n",
       "\t<li>'setosa'</li>\n",
       "\t<li>'setosa'</li>\n",
       "\t<li>'setosa'</li>\n",
       "\t<li>'setosa'</li>\n",
       "\t<li>'setosa'</li>\n",
       "\t<li>'setosa'</li>\n",
       "\t<li>'setosa'</li>\n",
       "\t<li>'setosa'</li>\n",
       "\t<li>'setosa'</li>\n",
       "\t<li>'setosa'</li>\n",
       "\t<li>'setosa'</li>\n",
       "\t<li>'setosa'</li>\n",
       "\t<li>'setosa'</li>\n",
       "\t<li>'setosa'</li>\n",
       "\t<li>'setosa'</li>\n",
       "\t<li>'setosa'</li>\n",
       "\t<li>'setosa'</li>\n",
       "\t<li>'setosa'</li>\n",
       "\t<li>'setosa'</li>\n",
       "\t<li>'setosa'</li>\n",
       "\t<li>'setosa'</li>\n",
       "\t<li>'setosa'</li>\n",
       "\t<li>'setosa'</li>\n",
       "\t<li>'setosa'</li>\n",
       "\t<li>'setosa'</li>\n",
       "\t<li>'setosa'</li>\n",
       "\t<li>'setosa'</li>\n",
       "\t<li>'setosa'</li>\n",
       "\t<li>'setosa'</li>\n",
       "\t<li>'setosa'</li>\n",
       "\t<li>'setosa'</li>\n",
       "\t<li>'setosa'</li>\n",
       "\t<li>'setosa'</li>\n",
       "\t<li>'setosa'</li>\n",
       "\t<li>'setosa'</li>\n",
       "\t<li>'setosa'</li>\n",
       "\t<li>'setosa'</li>\n",
       "\t<li>'setosa'</li>\n",
       "</ol>\n"
      ],
      "text/latex": [
       "\\begin{enumerate*}\n",
       "\\item '101'\n",
       "\\item '102'\n",
       "\\item '103'\n",
       "\\item '103'\n",
       "\\item '103'\n",
       "\\item '103'\n",
       "\\item '103'\n",
       "\\item '103'\n",
       "\\item '103'\n",
       "\\item '110'\n",
       "\\item '110'\n",
       "\\item '110'\n",
       "\\item '110'\n",
       "\\item '110'\n",
       "\\item '110'\n",
       "\\item '110'\n",
       "\\item '117'\n",
       "\\item '117'\n",
       "\\item '117'\n",
       "\\item '117'\n",
       "\\item '117'\n",
       "\\item '117'\n",
       "\\item '117'\n",
       "\\item '117'\n",
       "\\item '117'\n",
       "\\item '117'\n",
       "\\item '117'\n",
       "\\item '117'\n",
       "\\item '117'\n",
       "\\item '117'\n",
       "\\item '117'\n",
       "\\item '117'\n",
       "\\item '117'\n",
       "\\item '117'\n",
       "\\item '117'\n",
       "\\item '117'\n",
       "\\item '117'\n",
       "\\item '117'\n",
       "\\item '117'\n",
       "\\item '117'\n",
       "\\item '117'\n",
       "\\item '117'\n",
       "\\item '117'\n",
       "\\item '117'\n",
       "\\item '117'\n",
       "\\item '146'\n",
       "\\item '146'\n",
       "\\item '146'\n",
       "\\item '146'\n",
       "\\item '146'\n",
       "\\item 'setosa'\n",
       "\\item 'setosa'\n",
       "\\item 'setosa'\n",
       "\\item 'setosa'\n",
       "\\item 'setosa'\n",
       "\\item 'setosa'\n",
       "\\item 'setosa'\n",
       "\\item 'setosa'\n",
       "\\item 'setosa'\n",
       "\\item 'setosa'\n",
       "\\item 'setosa'\n",
       "\\item 'setosa'\n",
       "\\item 'setosa'\n",
       "\\item 'setosa'\n",
       "\\item 'setosa'\n",
       "\\item 'setosa'\n",
       "\\item 'setosa'\n",
       "\\item 'setosa'\n",
       "\\item 'setosa'\n",
       "\\item 'setosa'\n",
       "\\item 'setosa'\n",
       "\\item 'setosa'\n",
       "\\item 'setosa'\n",
       "\\item 'setosa'\n",
       "\\item 'setosa'\n",
       "\\item 'setosa'\n",
       "\\item 'setosa'\n",
       "\\item 'setosa'\n",
       "\\item 'setosa'\n",
       "\\item 'setosa'\n",
       "\\item 'setosa'\n",
       "\\item 'setosa'\n",
       "\\item 'setosa'\n",
       "\\item 'setosa'\n",
       "\\item 'setosa'\n",
       "\\item 'setosa'\n",
       "\\item 'setosa'\n",
       "\\item 'setosa'\n",
       "\\item 'setosa'\n",
       "\\item 'setosa'\n",
       "\\item 'setosa'\n",
       "\\item 'setosa'\n",
       "\\item 'setosa'\n",
       "\\item 'setosa'\n",
       "\\item 'setosa'\n",
       "\\item 'setosa'\n",
       "\\item 'setosa'\n",
       "\\item 'setosa'\n",
       "\\item 'setosa'\n",
       "\\item 'setosa'\n",
       "\\end{enumerate*}\n"
      ],
      "text/markdown": [
       "1. '101'\n",
       "2. '102'\n",
       "3. '103'\n",
       "4. '103'\n",
       "5. '103'\n",
       "6. '103'\n",
       "7. '103'\n",
       "8. '103'\n",
       "9. '103'\n",
       "10. '110'\n",
       "11. '110'\n",
       "12. '110'\n",
       "13. '110'\n",
       "14. '110'\n",
       "15. '110'\n",
       "16. '110'\n",
       "17. '117'\n",
       "18. '117'\n",
       "19. '117'\n",
       "20. '117'\n",
       "21. '117'\n",
       "22. '117'\n",
       "23. '117'\n",
       "24. '117'\n",
       "25. '117'\n",
       "26. '117'\n",
       "27. '117'\n",
       "28. '117'\n",
       "29. '117'\n",
       "30. '117'\n",
       "31. '117'\n",
       "32. '117'\n",
       "33. '117'\n",
       "34. '117'\n",
       "35. '117'\n",
       "36. '117'\n",
       "37. '117'\n",
       "38. '117'\n",
       "39. '117'\n",
       "40. '117'\n",
       "41. '117'\n",
       "42. '117'\n",
       "43. '117'\n",
       "44. '117'\n",
       "45. '117'\n",
       "46. '146'\n",
       "47. '146'\n",
       "48. '146'\n",
       "49. '146'\n",
       "50. '146'\n",
       "51. 'setosa'\n",
       "52. 'setosa'\n",
       "53. 'setosa'\n",
       "54. 'setosa'\n",
       "55. 'setosa'\n",
       "56. 'setosa'\n",
       "57. 'setosa'\n",
       "58. 'setosa'\n",
       "59. 'setosa'\n",
       "60. 'setosa'\n",
       "61. 'setosa'\n",
       "62. 'setosa'\n",
       "63. 'setosa'\n",
       "64. 'setosa'\n",
       "65. 'setosa'\n",
       "66. 'setosa'\n",
       "67. 'setosa'\n",
       "68. 'setosa'\n",
       "69. 'setosa'\n",
       "70. 'setosa'\n",
       "71. 'setosa'\n",
       "72. 'setosa'\n",
       "73. 'setosa'\n",
       "74. 'setosa'\n",
       "75. 'setosa'\n",
       "76. 'setosa'\n",
       "77. 'setosa'\n",
       "78. 'setosa'\n",
       "79. 'setosa'\n",
       "80. 'setosa'\n",
       "81. 'setosa'\n",
       "82. 'setosa'\n",
       "83. 'setosa'\n",
       "84. 'setosa'\n",
       "85. 'setosa'\n",
       "86. 'setosa'\n",
       "87. 'setosa'\n",
       "88. 'setosa'\n",
       "89. 'setosa'\n",
       "90. 'setosa'\n",
       "91. 'setosa'\n",
       "92. 'setosa'\n",
       "93. 'setosa'\n",
       "94. 'setosa'\n",
       "95. 'setosa'\n",
       "96. 'setosa'\n",
       "97. 'setosa'\n",
       "98. 'setosa'\n",
       "99. 'setosa'\n",
       "100. 'setosa'\n",
       "\n",
       "\n"
      ],
      "text/plain": [
       "  [1] \"101\"    \"102\"    \"103\"    \"103\"    \"103\"    \"103\"    \"103\"    \"103\"   \n",
       "  [9] \"103\"    \"110\"    \"110\"    \"110\"    \"110\"    \"110\"    \"110\"    \"110\"   \n",
       " [17] \"117\"    \"117\"    \"117\"    \"117\"    \"117\"    \"117\"    \"117\"    \"117\"   \n",
       " [25] \"117\"    \"117\"    \"117\"    \"117\"    \"117\"    \"117\"    \"117\"    \"117\"   \n",
       " [33] \"117\"    \"117\"    \"117\"    \"117\"    \"117\"    \"117\"    \"117\"    \"117\"   \n",
       " [41] \"117\"    \"117\"    \"117\"    \"117\"    \"117\"    \"146\"    \"146\"    \"146\"   \n",
       " [49] \"146\"    \"146\"    \"setosa\" \"setosa\" \"setosa\" \"setosa\" \"setosa\" \"setosa\"\n",
       " [57] \"setosa\" \"setosa\" \"setosa\" \"setosa\" \"setosa\" \"setosa\" \"setosa\" \"setosa\"\n",
       " [65] \"setosa\" \"setosa\" \"setosa\" \"setosa\" \"setosa\" \"setosa\" \"setosa\" \"setosa\"\n",
       " [73] \"setosa\" \"setosa\" \"setosa\" \"setosa\" \"setosa\" \"setosa\" \"setosa\" \"setosa\"\n",
       " [81] \"setosa\" \"setosa\" \"setosa\" \"setosa\" \"setosa\" \"setosa\" \"setosa\" \"setosa\"\n",
       " [89] \"setosa\" \"setosa\" \"setosa\" \"setosa\" \"setosa\" \"setosa\" \"setosa\" \"setosa\"\n",
       " [97] \"setosa\" \"setosa\" \"setosa\" \"setosa\""
      ]
     },
     "metadata": {},
     "output_type": "display_data"
    }
   ],
   "source": [
    "setosa = iris_ranking[c(\"Ranking\",\"Species\")][ \n",
    "                    iris_ranking[\"Species\"] == \"setosa\"]\n",
    "setosa"
   ]
  },
  {
   "cell_type": "markdown",
   "metadata": {},
   "source": [
    "Para obtener la suma de todos los valores del ranking de las filas \"setosa\" podemos utilizar la función sum. setosa contiene las columna \"Ranking\" y \"Specie\" por lo que tiene un número par de elemntos. La primera mitad de estos elementos son los números requeridos. Por lo que realizaremos el siguiente comando:"
   ]
  },
  {
   "cell_type": "code",
   "execution_count": 78,
   "metadata": {
    "collapsed": false
   },
   "outputs": [
    {
     "name": "stdout",
     "output_type": "stream",
     "text": [
      "[1] \"Suma de Rankings para la especie setosa\"\n"
     ]
    },
    {
     "data": {
      "text/html": [
       "5817"
      ],
      "text/latex": [
       "5817"
      ],
      "text/markdown": [
       "5817"
      ],
      "text/plain": [
       "[1] 5817"
      ]
     },
     "metadata": {},
     "output_type": "display_data"
    },
    {
     "name": "stdout",
     "output_type": "stream",
     "text": [
      "[1] \"Media de Rankings para la especie setosa\"\n"
     ]
    },
    {
     "data": {
      "text/html": [
       "116.34"
      ],
      "text/latex": [
       "116.34"
      ],
      "text/markdown": [
       "116.34"
      ],
      "text/plain": [
       "[1] 116.34"
      ]
     },
     "metadata": {},
     "output_type": "display_data"
    }
   ],
   "source": [
    "len_s = length(setosa)/2\n",
    "print(\"Suma de Rankings para la especie setosa\")\n",
    "sum(as.numeric(setosa[1:len_s]))\n",
    "print(\"Media de Rankings para la especie setosa\")\n",
    "sum(as.numeric(setosa[1:len_s]))/len_s"
   ]
  },
  {
   "cell_type": "markdown",
   "metadata": {},
   "source": [
    "Podemos proceder de la misma forma para las especies \"virginica\" y \"versicolor\""
   ]
  },
  {
   "cell_type": "code",
   "execution_count": 79,
   "metadata": {
    "collapsed": false
   },
   "outputs": [
    {
     "name": "stdout",
     "output_type": "stream",
     "text": [
      "[1] \"Suma de Rankings para la especie virginica\"\n"
     ]
    },
    {
     "data": {
      "text/html": [
       "1170"
      ],
      "text/latex": [
       "1170"
      ],
      "text/markdown": [
       "1170"
      ],
      "text/plain": [
       "[1] 1170"
      ]
     },
     "metadata": {},
     "output_type": "display_data"
    },
    {
     "name": "stdout",
     "output_type": "stream",
     "text": [
      "[1] \"Media de Rankings para la especie virginica\"\n"
     ]
    },
    {
     "data": {
      "text/html": [
       "23.4"
      ],
      "text/latex": [
       "23.4"
      ],
      "text/markdown": [
       "23.4"
      ],
      "text/plain": [
       "[1] 23.4"
      ]
     },
     "metadata": {},
     "output_type": "display_data"
    }
   ],
   "source": [
    "virginica = iris_ranking[c(\"Ranking\",\"Species\")][ \n",
    "                    iris_ranking[\"Species\"] == \"virginica\"]\n",
    "len_vi = length(virginica)/2\n",
    "print(\"Suma de Rankings para la especie virginica\")\n",
    "sum(as.numeric(virginica[1:len_vi]))\n",
    "print(\"Media de Rankings para la especie virginica\")\n",
    "sum(as.numeric(virginica[1:len_vi]))/len_vi"
   ]
  },
  {
   "cell_type": "code",
   "execution_count": 80,
   "metadata": {
    "collapsed": false
   },
   "outputs": [
    {
     "name": "stdout",
     "output_type": "stream",
     "text": [
      "[1] \"Suma de Rankings para la especie virginica\"\n"
     ]
    },
    {
     "data": {
      "text/html": [
       "3524"
      ],
      "text/latex": [
       "3524"
      ],
      "text/markdown": [
       "3524"
      ],
      "text/plain": [
       "[1] 3524"
      ]
     },
     "metadata": {},
     "output_type": "display_data"
    },
    {
     "name": "stdout",
     "output_type": "stream",
     "text": [
      "[1] \"Media de Rankings para la especie virginica\"\n"
     ]
    },
    {
     "data": {
      "text/html": [
       "70.48"
      ],
      "text/latex": [
       "70.48"
      ],
      "text/markdown": [
       "70.48"
      ],
      "text/plain": [
       "[1] 70.48"
      ]
     },
     "metadata": {},
     "output_type": "display_data"
    }
   ],
   "source": [
    "versicolor = iris_ranking[c(\"Ranking\",\"Species\")][ \n",
    "                    iris_ranking[\"Species\"] == \"versicolor\"]\n",
    "len_ve = length(versicolor)/2\n",
    "print(\"Suma de Rankings para la especie virginica\")\n",
    "sum(as.numeric(versicolor[1:len_ve]))\n",
    "print(\"Media de Rankings para la especie virginica\")\n",
    "sum(as.numeric(versicolor[1:len_ve]))/len_ve"
   ]
  }
 ],
 "metadata": {
  "anaconda-cloud": {},
  "kernelspec": {
   "display_name": "R",
   "language": "R",
   "name": "ir"
  },
  "language_info": {
   "codemirror_mode": "r",
   "file_extension": ".r",
   "mimetype": "text/x-r-source",
   "name": "R",
   "pygments_lexer": "r",
   "version": "3.3.2"
  }
 },
 "nbformat": 4,
 "nbformat_minor": 1
}
