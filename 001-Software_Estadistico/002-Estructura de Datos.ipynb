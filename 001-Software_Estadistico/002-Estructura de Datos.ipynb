{
 "cells": [
  {
   "cell_type": "markdown",
   "metadata": {
    "collapsed": false
   },
   "source": [
    "# Estructura de Datos "
   ]
  },
  {
   "cell_type": "markdown",
   "metadata": {
    "collapsed": false
   },
   "source": [
    "### Constantes - Vectores \n",
    "\n",
    "Crea el objeto 'x2' con los mismos valores que 'x', y con el operador de asignación '->'."
   ]
  },
  {
   "cell_type": "code",
   "execution_count": 42,
   "metadata": {
    "collapsed": false
   },
   "outputs": [
    {
     "name": "stdout",
     "output_type": "stream",
     "text": [
      "[1] 1.2 2.3 4.0 3.0 5.1\n"
     ]
    }
   ],
   "source": [
    "print(x)"
   ]
  },
  {
   "cell_type": "code",
   "execution_count": 45,
   "metadata": {
    "collapsed": false
   },
   "outputs": [
    {
     "name": "stdout",
     "output_type": "stream",
     "text": [
      "[1] 1.2 2.3 4.0 3.0 5.1\n"
     ]
    }
   ],
   "source": [
    "x2 <- x\n",
    "print(x2)"
   ]
  },
  {
   "cell_type": "markdown",
   "metadata": {
    "collapsed": false
   },
   "source": [
    "Crea el objeto 'x3' con el operador de asignación '=' y comprueba cuáles son sus valores. Sin embargo, esta forma de asignación no es la habitual, sino para asignar valores de parámetros, tal y como se verá más adelante."
   ]
  },
  {
   "cell_type": "code",
   "execution_count": 46,
   "metadata": {
    "collapsed": false
   },
   "outputs": [
    {
     "name": "stdout",
     "output_type": "stream",
     "text": [
      "[1] 1.2 2.3 4.0 3.0 5.1\n"
     ]
    }
   ],
   "source": [
    "x3 = x\n",
    "print(x3)"
   ]
  },
  {
   "cell_type": "code",
   "execution_count": 47,
   "metadata": {
    "collapsed": true
   },
   "outputs": [],
   "source": [
    "rm(x2,x3)"
   ]
  },
  {
   "cell_type": "code",
   "execution_count": 49,
   "metadata": {
    "collapsed": false
   },
   "outputs": [
    {
     "data": {
      "text/html": [
       "<ol class=list-inline>\n",
       "\t<li>'A'</li>\n",
       "\t<li>'caractABCDE'</li>\n",
       "\t<li>'x'</li>\n",
       "\t<li>'x1'</li>\n",
       "</ol>\n"
      ],
      "text/latex": [
       "\\begin{enumerate*}\n",
       "\\item 'A'\n",
       "\\item 'caractABCDE'\n",
       "\\item 'x'\n",
       "\\item 'x1'\n",
       "\\end{enumerate*}\n"
      ],
      "text/markdown": [
       "1. 'A'\n",
       "2. 'caractABCDE'\n",
       "3. 'x'\n",
       "4. 'x1'\n",
       "\n",
       "\n"
      ],
      "text/plain": [
       "[1] \"A\"           \"caractABCDE\" \"x\"           \"x1\"         "
      ]
     },
     "metadata": {},
     "output_type": "display_data"
    }
   ],
   "source": [
    "ls()"
   ]
  },
  {
   "cell_type": "markdown",
   "metadata": {},
   "source": [
    "### Constantes - Indices y componentes\n",
    "\n",
    "Comprueba que 'x' tiene 15 términos o componentes. La longitud de un vector se comprueba mediante la función 'length()'.\n"
   ]
  },
  {
   "cell_type": "code",
   "execution_count": 50,
   "metadata": {
    "collapsed": false
   },
   "outputs": [
    {
     "data": {
      "text/html": [
       "2.3"
      ],
      "text/latex": [
       "2.3"
      ],
      "text/markdown": [
       "2.3"
      ],
      "text/plain": [
       "[1] 2.3"
      ]
     },
     "metadata": {},
     "output_type": "display_data"
    }
   ],
   "source": [
    "print(x[2])"
   ]
  },
  {
   "cell_type": "code",
   "execution_count": 51,
   "metadata": {
    "collapsed": true
   },
   "outputs": [],
   "source": [
    "x[2] = 2.8 "
   ]
  },
  {
   "cell_type": "code",
   "execution_count": 52,
   "metadata": {
    "collapsed": false
   },
   "outputs": [
    {
     "name": "stdout",
     "output_type": "stream",
     "text": [
      "[1] 2.8\n"
     ]
    }
   ],
   "source": [
    "print(x[2])"
   ]
  },
  {
   "cell_type": "code",
   "execution_count": 54,
   "metadata": {
    "collapsed": false
   },
   "outputs": [
    {
     "name": "stdout",
     "output_type": "stream",
     "text": [
      "[1] 5\n"
     ]
    }
   ],
   "source": [
    "print(length(x))"
   ]
  },
  {
   "cell_type": "code",
   "execution_count": 59,
   "metadata": {
    "collapsed": false
   },
   "outputs": [
    {
     "data": {
      "text/html": [
       "2"
      ],
      "text/latex": [
       "2"
      ],
      "text/markdown": [
       "2"
      ],
      "text/plain": [
       "[1] 2"
      ]
     },
     "metadata": {},
     "output_type": "display_data"
    }
   ],
   "source": [
    "x=c(1,2,3,4,5)\n",
    "x[2]"
   ]
  },
  {
   "cell_type": "markdown",
   "metadata": {},
   "source": [
    "Define el vector de caracteres 'vstrg' cuyos valores son:"
   ]
  },
  {
   "cell_type": "code",
   "execution_count": 60,
   "metadata": {
    "collapsed": true
   },
   "outputs": [],
   "source": [
    "vstrg=c(\"a\",\"m\",\"e\",\"r\",\"i\",\"c\",\"a\")\n",
    "vlogic=c(TRUE,TRUE,TRUE,FALSE)"
   ]
  },
  {
   "cell_type": "code",
   "execution_count": 61,
   "metadata": {
    "collapsed": false
   },
   "outputs": [
    {
     "data": {
      "text/html": [
       "<ol class=list-inline>\n",
       "\t<li>'a'</li>\n",
       "\t<li>'m'</li>\n",
       "\t<li>'e'</li>\n",
       "\t<li>'r'</li>\n",
       "\t<li>'i'</li>\n",
       "\t<li>'c'</li>\n",
       "\t<li>'a'</li>\n",
       "</ol>\n"
      ],
      "text/latex": [
       "\\begin{enumerate*}\n",
       "\\item 'a'\n",
       "\\item 'm'\n",
       "\\item 'e'\n",
       "\\item 'r'\n",
       "\\item 'i'\n",
       "\\item 'c'\n",
       "\\item 'a'\n",
       "\\end{enumerate*}\n"
      ],
      "text/markdown": [
       "1. 'a'\n",
       "2. 'm'\n",
       "3. 'e'\n",
       "4. 'r'\n",
       "5. 'i'\n",
       "6. 'c'\n",
       "7. 'a'\n",
       "\n",
       "\n"
      ],
      "text/plain": [
       "[1] \"a\" \"m\" \"e\" \"r\" \"i\" \"c\" \"a\""
      ]
     },
     "metadata": {},
     "output_type": "display_data"
    },
    {
     "data": {
      "text/html": [
       "<ol class=list-inline>\n",
       "\t<li>TRUE</li>\n",
       "\t<li>TRUE</li>\n",
       "\t<li>TRUE</li>\n",
       "\t<li>FALSE</li>\n",
       "</ol>\n"
      ],
      "text/latex": [
       "\\begin{enumerate*}\n",
       "\\item TRUE\n",
       "\\item TRUE\n",
       "\\item TRUE\n",
       "\\item FALSE\n",
       "\\end{enumerate*}\n"
      ],
      "text/markdown": [
       "1. TRUE\n",
       "2. TRUE\n",
       "3. TRUE\n",
       "4. FALSE\n",
       "\n",
       "\n"
      ],
      "text/plain": [
       "[1]  TRUE  TRUE  TRUE FALSE"
      ]
     },
     "metadata": {},
     "output_type": "display_data"
    }
   ],
   "source": [
    "vstrg\n",
    "vlogic"
   ]
  },
  {
   "cell_type": "markdown",
   "metadata": {},
   "source": [
    "Tambien se puede crear una lista a partir de una cadena de caracteres "
   ]
  },
  {
   "cell_type": "code",
   "execution_count": 83,
   "metadata": {
    "collapsed": true
   },
   "outputs": [],
   "source": [
    "rm(vstrg2)\n",
    "vstrg2 = strsplit(\"america\",\"\")"
   ]
  },
  {
   "cell_type": "code",
   "execution_count": 89,
   "metadata": {
    "collapsed": false
   },
   "outputs": [
    {
     "data": {
      "text/html": [
       "<ol>\n",
       "\t<li><ol class=list-inline>\n",
       "\t<li>'a'</li>\n",
       "\t<li>'m'</li>\n",
       "\t<li>'e'</li>\n",
       "\t<li>'r'</li>\n",
       "\t<li>'i'</li>\n",
       "\t<li>'c'</li>\n",
       "\t<li>'a'</li>\n",
       "</ol>\n",
       "</li>\n",
       "</ol>\n"
      ],
      "text/latex": [
       "\\begin{enumerate}\n",
       "\\item \\begin{enumerate*}\n",
       "\\item 'a'\n",
       "\\item 'm'\n",
       "\\item 'e'\n",
       "\\item 'r'\n",
       "\\item 'i'\n",
       "\\item 'c'\n",
       "\\item 'a'\n",
       "\\end{enumerate*}\n",
       "\n",
       "\\end{enumerate}\n"
      ],
      "text/markdown": [
       "1. 1. 'a'\n",
       "2. 'm'\n",
       "3. 'e'\n",
       "4. 'r'\n",
       "5. 'i'\n",
       "6. 'c'\n",
       "7. 'a'\n",
       "\n",
       "\n",
       "\n",
       "\n",
       "\n"
      ],
      "text/plain": [
       "[[1]]\n",
       "[1] \"a\" \"m\" \"e\" \"r\" \"i\" \"c\" \"a\"\n"
      ]
     },
     "metadata": {},
     "output_type": "display_data"
    }
   ],
   "source": [
    "vstrg2"
   ]
  },
  {
   "cell_type": "code",
   "execution_count": 71,
   "metadata": {
    "collapsed": false
   },
   "outputs": [],
   "source": [
    " vstrg3 = strsplit(\"america\", NULL)[[1]]\n"
   ]
  },
  {
   "cell_type": "code",
   "execution_count": 72,
   "metadata": {
    "collapsed": false
   },
   "outputs": [
    {
     "data": {
      "text/html": [
       "<ol class=list-inline>\n",
       "\t<li>'a'</li>\n",
       "\t<li>'m'</li>\n",
       "\t<li>'e'</li>\n",
       "\t<li>'r'</li>\n",
       "\t<li>'i'</li>\n",
       "\t<li>'c'</li>\n",
       "\t<li>'a'</li>\n",
       "</ol>\n"
      ],
      "text/latex": [
       "\\begin{enumerate*}\n",
       "\\item 'a'\n",
       "\\item 'm'\n",
       "\\item 'e'\n",
       "\\item 'r'\n",
       "\\item 'i'\n",
       "\\item 'c'\n",
       "\\item 'a'\n",
       "\\end{enumerate*}\n"
      ],
      "text/markdown": [
       "1. 'a'\n",
       "2. 'm'\n",
       "3. 'e'\n",
       "4. 'r'\n",
       "5. 'i'\n",
       "6. 'c'\n",
       "7. 'a'\n",
       "\n",
       "\n"
      ],
      "text/plain": [
       "[1] \"a\" \"m\" \"e\" \"r\" \"i\" \"c\" \"a\""
      ]
     },
     "metadata": {},
     "output_type": "display_data"
    }
   ],
   "source": [
    "vstrg3"
   ]
  },
  {
   "cell_type": "code",
   "execution_count": 90,
   "metadata": {
    "collapsed": false
   },
   "outputs": [
    {
     "data": {
      "text/html": [
       "<ol class=list-inline>\n",
       "\t<li>'TRUE'</li>\n",
       "\t<li>'c'</li>\n",
       "\t<li>'8'</li>\n",
       "</ol>\n"
      ],
      "text/latex": [
       "\\begin{enumerate*}\n",
       "\\item 'TRUE'\n",
       "\\item 'c'\n",
       "\\item '8'\n",
       "\\end{enumerate*}\n"
      ],
      "text/markdown": [
       "1. 'TRUE'\n",
       "2. 'c'\n",
       "3. '8'\n",
       "\n",
       "\n"
      ],
      "text/plain": [
       "[1] \"TRUE\" \"c\"    \"8\"   "
      ]
     },
     "metadata": {},
     "output_type": "display_data"
    }
   ],
   "source": [
    "v1 = c(TRUE,\"c\",8)\n",
    "v1"
   ]
  },
  {
   "cell_type": "code",
   "execution_count": 91,
   "metadata": {
    "collapsed": false
   },
   "outputs": [
    {
     "data": {
      "text/html": [
       "<ol class=list-inline>\n",
       "\t<li>'TRUE'</li>\n",
       "\t<li>'c'</li>\n",
       "\t<li>'FALSE'</li>\n",
       "</ol>\n"
      ],
      "text/latex": [
       "\\begin{enumerate*}\n",
       "\\item 'TRUE'\n",
       "\\item 'c'\n",
       "\\item 'FALSE'\n",
       "\\end{enumerate*}\n"
      ],
      "text/markdown": [
       "1. 'TRUE'\n",
       "2. 'c'\n",
       "3. 'FALSE'\n",
       "\n",
       "\n"
      ],
      "text/plain": [
       "[1] \"TRUE\"  \"c\"     \"FALSE\""
      ]
     },
     "metadata": {},
     "output_type": "display_data"
    }
   ],
   "source": [
    "v2 = c(TRUE,\"c\",FALSE)\n",
    "v2"
   ]
  },
  {
   "cell_type": "code",
   "execution_count": 92,
   "metadata": {
    "collapsed": false
   },
   "outputs": [
    {
     "data": {
      "text/html": [
       "<ol class=list-inline>\n",
       "\t<li>1</li>\n",
       "\t<li>8</li>\n",
       "\t<li>0</li>\n",
       "</ol>\n"
      ],
      "text/latex": [
       "\\begin{enumerate*}\n",
       "\\item 1\n",
       "\\item 8\n",
       "\\item 0\n",
       "\\end{enumerate*}\n"
      ],
      "text/markdown": [
       "1. 1\n",
       "2. 8\n",
       "3. 0\n",
       "\n",
       "\n"
      ],
      "text/plain": [
       "[1] 1 8 0"
      ]
     },
     "metadata": {},
     "output_type": "display_data"
    }
   ],
   "source": [
    "v3 = c(TRUE,8,FALSE)\n",
    "v3"
   ]
  },
  {
   "cell_type": "code",
   "execution_count": 93,
   "metadata": {
    "collapsed": false
   },
   "outputs": [
    {
     "data": {
      "text/html": [
       "'8'"
      ],
      "text/latex": [
       "'8'"
      ],
      "text/markdown": [
       "'8'"
      ],
      "text/plain": [
       "[1] \"8\""
      ]
     },
     "metadata": {},
     "output_type": "display_data"
    }
   ],
   "source": [
    "as.character(8)"
   ]
  },
  {
   "cell_type": "code",
   "execution_count": 95,
   "metadata": {
    "collapsed": false
   },
   "outputs": [
    {
     "data": {
      "text/html": [
       "<ol class=list-inline>\n",
       "\t<li>TRUE</li>\n",
       "\t<li>FALSE</li>\n",
       "\t<li>TRUE</li>\n",
       "\t<li>FALSE</li>\n",
       "\t<li>TRUE</li>\n",
       "\t<li>FALSE</li>\n",
       "</ol>\n"
      ],
      "text/latex": [
       "\\begin{enumerate*}\n",
       "\\item TRUE\n",
       "\\item FALSE\n",
       "\\item TRUE\n",
       "\\item FALSE\n",
       "\\item TRUE\n",
       "\\item FALSE\n",
       "\\end{enumerate*}\n"
      ],
      "text/markdown": [
       "1. TRUE\n",
       "2. FALSE\n",
       "3. TRUE\n",
       "4. FALSE\n",
       "5. TRUE\n",
       "6. FALSE\n",
       "\n",
       "\n"
      ],
      "text/plain": [
       "[1]  TRUE FALSE  TRUE FALSE  TRUE FALSE"
      ]
     },
     "metadata": {},
     "output_type": "display_data"
    }
   ],
   "source": [
    "vlog <- rep(c(TRUE, FALSE), 3)\n",
    "vlog"
   ]
  },
  {
   "cell_type": "code",
   "execution_count": 96,
   "metadata": {
    "collapsed": false
   },
   "outputs": [
    {
     "data": {
      "text/html": [
       "<ol class=list-inline>\n",
       "\t<li>'TRUE'</li>\n",
       "\t<li>'FALSE'</li>\n",
       "\t<li>'TRUE'</li>\n",
       "\t<li>'FALSE'</li>\n",
       "\t<li>'TRUE'</li>\n",
       "\t<li>'FALSE'</li>\n",
       "</ol>\n"
      ],
      "text/latex": [
       "\\begin{enumerate*}\n",
       "\\item 'TRUE'\n",
       "\\item 'FALSE'\n",
       "\\item 'TRUE'\n",
       "\\item 'FALSE'\n",
       "\\item 'TRUE'\n",
       "\\item 'FALSE'\n",
       "\\end{enumerate*}\n"
      ],
      "text/markdown": [
       "1. 'TRUE'\n",
       "2. 'FALSE'\n",
       "3. 'TRUE'\n",
       "4. 'FALSE'\n",
       "5. 'TRUE'\n",
       "6. 'FALSE'\n",
       "\n",
       "\n"
      ],
      "text/plain": [
       "[1] \"TRUE\"  \"FALSE\" \"TRUE\"  \"FALSE\" \"TRUE\"  \"FALSE\""
      ]
     },
     "metadata": {},
     "output_type": "display_data"
    }
   ],
   "source": [
    "vlog <- as.character(vlog)\n",
    "vlog"
   ]
  },
  {
   "cell_type": "code",
   "execution_count": 106,
   "metadata": {
    "collapsed": false
   },
   "outputs": [
    {
     "data": {
      "text/html": [
       "0"
      ],
      "text/latex": [
       "0"
      ],
      "text/markdown": [
       "0"
      ],
      "text/plain": [
       "[1] 0"
      ]
     },
     "metadata": {},
     "output_type": "display_data"
    }
   ],
   "source": [
    "vnum <- 0:4\n",
    "vnum[1]\n"
   ]
  },
  {
   "cell_type": "code",
   "execution_count": 107,
   "metadata": {
    "collapsed": false
   },
   "outputs": [
    {
     "data": {
      "text/html": [
       "<ol class=list-inline>\n",
       "\t<li>FALSE</li>\n",
       "\t<li>TRUE</li>\n",
       "\t<li>TRUE</li>\n",
       "\t<li>TRUE</li>\n",
       "\t<li>TRUE</li>\n",
       "</ol>\n"
      ],
      "text/latex": [
       "\\begin{enumerate*}\n",
       "\\item FALSE\n",
       "\\item TRUE\n",
       "\\item TRUE\n",
       "\\item TRUE\n",
       "\\item TRUE\n",
       "\\end{enumerate*}\n"
      ],
      "text/markdown": [
       "1. FALSE\n",
       "2. TRUE\n",
       "3. TRUE\n",
       "4. TRUE\n",
       "5. TRUE\n",
       "\n",
       "\n"
      ],
      "text/plain": [
       "[1] FALSE  TRUE  TRUE  TRUE  TRUE"
      ]
     },
     "metadata": {},
     "output_type": "display_data"
    }
   ],
   "source": [
    "vnum = as.logical(vnum)\n",
    "vnum"
   ]
  },
  {
   "cell_type": "code",
   "execution_count": 109,
   "metadata": {
    "collapsed": false
   },
   "outputs": [
    {
     "data": {
      "text/html": [
       "<ol class=list-inline>\n",
       "\t<li>1.9</li>\n",
       "\t<li>1.6</li>\n",
       "\t<li>3.1</li>\n",
       "\t<li>2.8</li>\n",
       "\t<li>5.6</li>\n",
       "\t<li>5.2</li>\n",
       "\t<li>4.4</li>\n",
       "\t<li>0.8</li>\n",
       "\t<li>2.9</li>\n",
       "\t<li>3.7</li>\n",
       "\t<li>5.1</li>\n",
       "\t<li>3</li>\n",
       "\t<li>4</li>\n",
       "\t<li>2.8</li>\n",
       "\t<li>1.2</li>\n",
       "</ol>\n"
      ],
      "text/latex": [
       "\\begin{enumerate*}\n",
       "\\item 1.9\n",
       "\\item 1.6\n",
       "\\item 3.1\n",
       "\\item 2.8\n",
       "\\item 5.6\n",
       "\\item 5.2\n",
       "\\item 4.4\n",
       "\\item 0.8\n",
       "\\item 2.9\n",
       "\\item 3.7\n",
       "\\item 5.1\n",
       "\\item 3\n",
       "\\item 4\n",
       "\\item 2.8\n",
       "\\item 1.2\n",
       "\\end{enumerate*}\n"
      ],
      "text/markdown": [
       "1. 1.9\n",
       "2. 1.6\n",
       "3. 3.1\n",
       "4. 2.8\n",
       "5. 5.6\n",
       "6. 5.2\n",
       "7. 4.4\n",
       "8. 0.8\n",
       "9. 2.9\n",
       "10. 3.7\n",
       "11. 5.1\n",
       "12. 3\n",
       "13. 4\n",
       "14. 2.8\n",
       "15. 1.2\n",
       "\n",
       "\n"
      ],
      "text/plain": [
       " [1] 1.9 1.6 3.1 2.8 5.6 5.2 4.4 0.8 2.9 3.7 5.1 3.0 4.0 2.8 1.2"
      ]
     },
     "metadata": {},
     "output_type": "display_data"
    }
   ],
   "source": [
    "x = c(1.2, 2.8, 4.0, 3.0, 5.1, 3.7, 2.9, 0.8, 4.4, 5.2, 5.6, 2.8, 3.1, 1.6, 1.9)\n",
    "rev(x)"
   ]
  },
  {
   "cell_type": "code",
   "execution_count": 110,
   "metadata": {
    "collapsed": false
   },
   "outputs": [
    {
     "data": {
      "text/html": [
       "<ol class=list-inline>\n",
       "\t<li>0.8</li>\n",
       "\t<li>1.2</li>\n",
       "\t<li>1.6</li>\n",
       "\t<li>1.9</li>\n",
       "\t<li>2.8</li>\n",
       "\t<li>2.8</li>\n",
       "\t<li>2.9</li>\n",
       "\t<li>3</li>\n",
       "\t<li>3.1</li>\n",
       "\t<li>3.7</li>\n",
       "\t<li>4</li>\n",
       "\t<li>4.4</li>\n",
       "\t<li>5.1</li>\n",
       "\t<li>5.2</li>\n",
       "\t<li>5.6</li>\n",
       "</ol>\n"
      ],
      "text/latex": [
       "\\begin{enumerate*}\n",
       "\\item 0.8\n",
       "\\item 1.2\n",
       "\\item 1.6\n",
       "\\item 1.9\n",
       "\\item 2.8\n",
       "\\item 2.8\n",
       "\\item 2.9\n",
       "\\item 3\n",
       "\\item 3.1\n",
       "\\item 3.7\n",
       "\\item 4\n",
       "\\item 4.4\n",
       "\\item 5.1\n",
       "\\item 5.2\n",
       "\\item 5.6\n",
       "\\end{enumerate*}\n"
      ],
      "text/markdown": [
       "1. 0.8\n",
       "2. 1.2\n",
       "3. 1.6\n",
       "4. 1.9\n",
       "5. 2.8\n",
       "6. 2.8\n",
       "7. 2.9\n",
       "8. 3\n",
       "9. 3.1\n",
       "10. 3.7\n",
       "11. 4\n",
       "12. 4.4\n",
       "13. 5.1\n",
       "14. 5.2\n",
       "15. 5.6\n",
       "\n",
       "\n"
      ],
      "text/plain": [
       " [1] 0.8 1.2 1.6 1.9 2.8 2.8 2.9 3.0 3.1 3.7 4.0 4.4 5.1 5.2 5.6"
      ]
     },
     "metadata": {},
     "output_type": "display_data"
    }
   ],
   "source": [
    "sort(x)"
   ]
  },
  {
   "cell_type": "code",
   "execution_count": 112,
   "metadata": {
    "collapsed": false
   },
   "outputs": [
    {
     "data": {
      "text/html": [
       "<ol class=list-inline>\n",
       "\t<li>5.6</li>\n",
       "\t<li>5.2</li>\n",
       "\t<li>5.1</li>\n",
       "\t<li>4.4</li>\n",
       "\t<li>4</li>\n",
       "\t<li>3.7</li>\n",
       "\t<li>3.1</li>\n",
       "\t<li>3</li>\n",
       "\t<li>2.9</li>\n",
       "\t<li>2.8</li>\n",
       "\t<li>2.8</li>\n",
       "\t<li>1.9</li>\n",
       "\t<li>1.6</li>\n",
       "\t<li>1.2</li>\n",
       "\t<li>0.8</li>\n",
       "</ol>\n"
      ],
      "text/latex": [
       "\\begin{enumerate*}\n",
       "\\item 5.6\n",
       "\\item 5.2\n",
       "\\item 5.1\n",
       "\\item 4.4\n",
       "\\item 4\n",
       "\\item 3.7\n",
       "\\item 3.1\n",
       "\\item 3\n",
       "\\item 2.9\n",
       "\\item 2.8\n",
       "\\item 2.8\n",
       "\\item 1.9\n",
       "\\item 1.6\n",
       "\\item 1.2\n",
       "\\item 0.8\n",
       "\\end{enumerate*}\n"
      ],
      "text/markdown": [
       "1. 5.6\n",
       "2. 5.2\n",
       "3. 5.1\n",
       "4. 4.4\n",
       "5. 4\n",
       "6. 3.7\n",
       "7. 3.1\n",
       "8. 3\n",
       "9. 2.9\n",
       "10. 2.8\n",
       "11. 2.8\n",
       "12. 1.9\n",
       "13. 1.6\n",
       "14. 1.2\n",
       "15. 0.8\n",
       "\n",
       "\n"
      ],
      "text/plain": [
       " [1] 5.6 5.2 5.1 4.4 4.0 3.7 3.1 3.0 2.9 2.8 2.8 1.9 1.6 1.2 0.8"
      ]
     },
     "metadata": {},
     "output_type": "display_data"
    }
   ],
   "source": [
    "sort(x,decreasing=TRUE)"
   ]
  },
  {
   "cell_type": "code",
   "execution_count": 113,
   "metadata": {
    "collapsed": false
   },
   "outputs": [
    {
     "data": {
      "text/html": [
       "<ol class=list-inline>\n",
       "\t<li>2</li>\n",
       "\t<li>5.5</li>\n",
       "\t<li>11</li>\n",
       "\t<li>8</li>\n",
       "\t<li>13</li>\n",
       "\t<li>10</li>\n",
       "\t<li>7</li>\n",
       "\t<li>1</li>\n",
       "\t<li>12</li>\n",
       "\t<li>14</li>\n",
       "\t<li>15</li>\n",
       "\t<li>5.5</li>\n",
       "\t<li>9</li>\n",
       "\t<li>3</li>\n",
       "\t<li>4</li>\n",
       "</ol>\n"
      ],
      "text/latex": [
       "\\begin{enumerate*}\n",
       "\\item 2\n",
       "\\item 5.5\n",
       "\\item 11\n",
       "\\item 8\n",
       "\\item 13\n",
       "\\item 10\n",
       "\\item 7\n",
       "\\item 1\n",
       "\\item 12\n",
       "\\item 14\n",
       "\\item 15\n",
       "\\item 5.5\n",
       "\\item 9\n",
       "\\item 3\n",
       "\\item 4\n",
       "\\end{enumerate*}\n"
      ],
      "text/markdown": [
       "1. 2\n",
       "2. 5.5\n",
       "3. 11\n",
       "4. 8\n",
       "5. 13\n",
       "6. 10\n",
       "7. 7\n",
       "8. 1\n",
       "9. 12\n",
       "10. 14\n",
       "11. 15\n",
       "12. 5.5\n",
       "13. 9\n",
       "14. 3\n",
       "15. 4\n",
       "\n",
       "\n"
      ],
      "text/plain": [
       " [1]  2.0  5.5 11.0  8.0 13.0 10.0  7.0  1.0 12.0 14.0 15.0  5.5  9.0  3.0  4.0"
      ]
     },
     "metadata": {},
     "output_type": "display_data"
    }
   ],
   "source": [
    "rank(x)"
   ]
  },
  {
   "cell_type": "code",
   "execution_count": 123,
   "metadata": {
    "collapsed": false
   },
   "outputs": [
    {
     "ename": "ERROR",
     "evalue": "Error in rank(x, decreasing = TRUE): unused argument (decreasing = TRUE)\n",
     "output_type": "error",
     "traceback": [
      "Error in rank(x, decreasing = TRUE): unused argument (decreasing = TRUE)\nTraceback:\n",
      "1. rank(x, decreasing = TRUE)"
     ]
    }
   ],
   "source": [
    "\n",
    "rank(x, decreasing=TRUE)"
   ]
  },
  {
   "cell_type": "code",
   "execution_count": 120,
   "metadata": {
    "collapsed": false
   },
   "outputs": [
    {
     "data": {
      "text/html": [
       "<ol class=list-inline>\n",
       "\t<li>8</li>\n",
       "\t<li>1</li>\n",
       "\t<li>14</li>\n",
       "\t<li>15</li>\n",
       "\t<li>2</li>\n",
       "\t<li>12</li>\n",
       "\t<li>7</li>\n",
       "\t<li>4</li>\n",
       "\t<li>13</li>\n",
       "\t<li>6</li>\n",
       "\t<li>3</li>\n",
       "\t<li>9</li>\n",
       "\t<li>5</li>\n",
       "\t<li>10</li>\n",
       "\t<li>11</li>\n",
       "</ol>\n"
      ],
      "text/latex": [
       "\\begin{enumerate*}\n",
       "\\item 8\n",
       "\\item 1\n",
       "\\item 14\n",
       "\\item 15\n",
       "\\item 2\n",
       "\\item 12\n",
       "\\item 7\n",
       "\\item 4\n",
       "\\item 13\n",
       "\\item 6\n",
       "\\item 3\n",
       "\\item 9\n",
       "\\item 5\n",
       "\\item 10\n",
       "\\item 11\n",
       "\\end{enumerate*}\n"
      ],
      "text/markdown": [
       "1. 8\n",
       "2. 1\n",
       "3. 14\n",
       "4. 15\n",
       "5. 2\n",
       "6. 12\n",
       "7. 7\n",
       "8. 4\n",
       "9. 13\n",
       "10. 6\n",
       "11. 3\n",
       "12. 9\n",
       "13. 5\n",
       "14. 10\n",
       "15. 11\n",
       "\n",
       "\n"
      ],
      "text/plain": [
       " [1]  8  1 14 15  2 12  7  4 13  6  3  9  5 10 11"
      ]
     },
     "metadata": {},
     "output_type": "display_data"
    },
    {
     "data": {
      "text/html": [
       "<ol class=list-inline>\n",
       "\t<li>11</li>\n",
       "\t<li>10</li>\n",
       "\t<li>5</li>\n",
       "\t<li>9</li>\n",
       "\t<li>3</li>\n",
       "\t<li>6</li>\n",
       "\t<li>13</li>\n",
       "\t<li>4</li>\n",
       "\t<li>7</li>\n",
       "\t<li>2</li>\n",
       "\t<li>12</li>\n",
       "\t<li>15</li>\n",
       "\t<li>14</li>\n",
       "\t<li>1</li>\n",
       "\t<li>8</li>\n",
       "</ol>\n"
      ],
      "text/latex": [
       "\\begin{enumerate*}\n",
       "\\item 11\n",
       "\\item 10\n",
       "\\item 5\n",
       "\\item 9\n",
       "\\item 3\n",
       "\\item 6\n",
       "\\item 13\n",
       "\\item 4\n",
       "\\item 7\n",
       "\\item 2\n",
       "\\item 12\n",
       "\\item 15\n",
       "\\item 14\n",
       "\\item 1\n",
       "\\item 8\n",
       "\\end{enumerate*}\n"
      ],
      "text/markdown": [
       "1. 11\n",
       "2. 10\n",
       "3. 5\n",
       "4. 9\n",
       "5. 3\n",
       "6. 6\n",
       "7. 13\n",
       "8. 4\n",
       "9. 7\n",
       "10. 2\n",
       "11. 12\n",
       "12. 15\n",
       "13. 14\n",
       "14. 1\n",
       "15. 8\n",
       "\n",
       "\n"
      ],
      "text/plain": [
       " [1] 11 10  5  9  3  6 13  4  7  2 12 15 14  1  8"
      ]
     },
     "metadata": {},
     "output_type": "display_data"
    }
   ],
   "source": [
    "order(x)\n",
    "order(x, decreasing=TRUE)\n"
   ]
  },
  {
   "cell_type": "code",
   "execution_count": 124,
   "metadata": {
    "collapsed": true
   },
   "outputs": [],
   "source": [
    "?rank"
   ]
  },
  {
   "cell_type": "code",
   "execution_count": 122,
   "metadata": {
    "collapsed": false
   },
   "outputs": [
    {
     "data": {
      "text/html": [
       "<ol class=list-inline>\n",
       "\t<li>1.2</li>\n",
       "\t<li>2.8</li>\n",
       "\t<li>4</li>\n",
       "\t<li>3</li>\n",
       "\t<li>5.1</li>\n",
       "\t<li>3.7</li>\n",
       "\t<li>2.9</li>\n",
       "\t<li>0.8</li>\n",
       "\t<li>4.4</li>\n",
       "\t<li>5.2</li>\n",
       "\t<li>5.6</li>\n",
       "\t<li>2.8</li>\n",
       "\t<li>3.1</li>\n",
       "\t<li>1.6</li>\n",
       "\t<li>1.9</li>\n",
       "</ol>\n"
      ],
      "text/latex": [
       "\\begin{enumerate*}\n",
       "\\item 1.2\n",
       "\\item 2.8\n",
       "\\item 4\n",
       "\\item 3\n",
       "\\item 5.1\n",
       "\\item 3.7\n",
       "\\item 2.9\n",
       "\\item 0.8\n",
       "\\item 4.4\n",
       "\\item 5.2\n",
       "\\item 5.6\n",
       "\\item 2.8\n",
       "\\item 3.1\n",
       "\\item 1.6\n",
       "\\item 1.9\n",
       "\\end{enumerate*}\n"
      ],
      "text/markdown": [
       "1. 1.2\n",
       "2. 2.8\n",
       "3. 4\n",
       "4. 3\n",
       "5. 5.1\n",
       "6. 3.7\n",
       "7. 2.9\n",
       "8. 0.8\n",
       "9. 4.4\n",
       "10. 5.2\n",
       "11. 5.6\n",
       "12. 2.8\n",
       "13. 3.1\n",
       "14. 1.6\n",
       "15. 1.9\n",
       "\n",
       "\n"
      ],
      "text/plain": [
       " [1] 1.2 2.8 4.0 3.0 5.1 3.7 2.9 0.8 4.4 5.2 5.6 2.8 3.1 1.6 1.9"
      ]
     },
     "metadata": {},
     "output_type": "display_data"
    }
   ],
   "source": [
    "x"
   ]
  },
  {
   "cell_type": "code",
   "execution_count": 133,
   "metadata": {
    "collapsed": false
   },
   "outputs": [
    {
     "data": {
      "text/html": [
       "<ol class=list-inline>\n",
       "\t<li>1</li>\n",
       "\t<li>3.5</li>\n",
       "\t<li>5</li>\n",
       "\t<li>6</li>\n",
       "\t<li>7</li>\n",
       "\t<li>3.5</li>\n",
       "\t<li>2</li>\n",
       "</ol>\n"
      ],
      "text/latex": [
       "\\begin{enumerate*}\n",
       "\\item 1\n",
       "\\item 3.5\n",
       "\\item 5\n",
       "\\item 6\n",
       "\\item 7\n",
       "\\item 3.5\n",
       "\\item 2\n",
       "\\end{enumerate*}\n"
      ],
      "text/markdown": [
       "1. 1\n",
       "2. 3.5\n",
       "3. 5\n",
       "4. 6\n",
       "5. 7\n",
       "6. 3.5\n",
       "7. 2\n",
       "\n",
       "\n"
      ],
      "text/plain": [
       "[1] 1.0 3.5 5.0 6.0 7.0 3.5 2.0"
      ]
     },
     "metadata": {},
     "output_type": "display_data"
    }
   ],
   "source": [
    "r=c(2,4,6,10,50,4,3)\n",
    "rank(r)"
   ]
  },
  {
   "cell_type": "code",
   "execution_count": 135,
   "metadata": {
    "collapsed": false
   },
   "outputs": [
    {
     "data": {
      "text/html": [
       "<dl class=dl-horizontal>\n",
       "\t<dt>primera</dt>\n",
       "\t\t<dd>5.2</dd>\n",
       "\t<dt>segunda</dt>\n",
       "\t\t<dd>-4.8</dd>\n",
       "</dl>\n"
      ],
      "text/latex": [
       "\\begin{description*}\n",
       "\\item[primera] 5.2\n",
       "\\item[segunda] -4.8\n",
       "\\end{description*}\n"
      ],
      "text/markdown": [
       "primera\n",
       ":   5.2segunda\n",
       ":   -4.8\n",
       "\n"
      ],
      "text/plain": [
       "primera segunda \n",
       "    5.2    -4.8 "
      ]
     },
     "metadata": {},
     "output_type": "display_data"
    },
    {
     "data": {
      "text/html": [
       "<strong>primera:</strong> 5.2"
      ],
      "text/latex": [
       "\\textbf{primera:} 5.2"
      ],
      "text/markdown": [
       "**primera:** 5.2"
      ],
      "text/plain": [
       "primera \n",
       "    5.2 "
      ]
     },
     "metadata": {},
     "output_type": "display_data"
    }
   ],
   "source": [
    "vector = c(primera=5.2,segunda=-4.8)\n",
    "vector\n",
    "vector[1]"
   ]
  },
  {
   "cell_type": "code",
   "execution_count": 136,
   "metadata": {
    "collapsed": false
   },
   "outputs": [
    {
     "data": {
      "text/html": [
       "<ol class=list-inline>\n",
       "\t<li>'primera'</li>\n",
       "\t<li>'segunda'</li>\n",
       "</ol>\n"
      ],
      "text/latex": [
       "\\begin{enumerate*}\n",
       "\\item 'primera'\n",
       "\\item 'segunda'\n",
       "\\end{enumerate*}\n"
      ],
      "text/markdown": [
       "1. 'primera'\n",
       "2. 'segunda'\n",
       "\n",
       "\n"
      ],
      "text/plain": [
       "[1] \"primera\" \"segunda\""
      ]
     },
     "metadata": {},
     "output_type": "display_data"
    }
   ],
   "source": [
    "names(vector)"
   ]
  },
  {
   "cell_type": "code",
   "execution_count": 140,
   "metadata": {
    "collapsed": false
   },
   "outputs": [
    {
     "data": {
      "text/html": [
       "<ol class=list-inline>\n",
       "\t<li>1</li>\n",
       "\t<li>1</li>\n",
       "\t<li>0</li>\n",
       "</ol>\n"
      ],
      "text/latex": [
       "\\begin{enumerate*}\n",
       "\\item 1\n",
       "\\item 1\n",
       "\\item 0\n",
       "\\end{enumerate*}\n"
      ],
      "text/markdown": [
       "1. 1\n",
       "2. 1\n",
       "3. 0\n",
       "\n",
       "\n"
      ],
      "text/plain": [
       "[1] 1 1 0"
      ]
     },
     "metadata": {},
     "output_type": "display_data"
    }
   ],
   "source": [
    "v1=c(1,1,0)\n",
    "v2=c(1,1,0)\n",
    "v2*v1"
   ]
  },
  {
   "cell_type": "code",
   "execution_count": 143,
   "metadata": {
    "collapsed": false
   },
   "outputs": [
    {
     "data": {
      "text/html": [
       "<dl class=dl-horizontal>\n",
       "\t<dt>prim</dt>\n",
       "\t\t<dd>'ab'</dd>\n",
       "\t<dt>seg</dt>\n",
       "\t\t<dd>'hij'</dd>\n",
       "\t<dt>terc</dt>\n",
       "\t\t<dd>'t'</dd>\n",
       "</dl>\n"
      ],
      "text/latex": [
       "\\begin{description*}\n",
       "\\item[prim] 'ab'\n",
       "\\item[seg] 'hij'\n",
       "\\item[terc] 't'\n",
       "\\end{description*}\n"
      ],
      "text/markdown": [
       "prim\n",
       ":   'ab'seg\n",
       ":   'hij'terc\n",
       ":   't'\n",
       "\n"
      ],
      "text/plain": [
       " prim   seg  terc \n",
       " \"ab\" \"hij\"   \"t\" "
      ]
     },
     "metadata": {},
     "output_type": "display_data"
    }
   ],
   "source": [
    "vect=c(\"ab\",\"hij\",\"t\")\n",
    "names(vect)=c(\"prim\",\"seg\",\"terc\")\n",
    "vect"
   ]
  },
  {
   "cell_type": "code",
   "execution_count": 150,
   "metadata": {
    "collapsed": false
   },
   "outputs": [
    {
     "data": {
      "text/html": [
       "<dl class=dl-horizontal>\n",
       "\t<dt>1</dt>\n",
       "\t\t<dd>5</dd>\n",
       "\t<dt>2</dt>\n",
       "\t\t<dd>8</dd>\n",
       "\t<dt>3</dt>\n",
       "\t\t<dd>3</dd>\n",
       "</dl>\n"
      ],
      "text/latex": [
       "\\begin{description*}\n",
       "\\item[1] 5\n",
       "\\item[2] 8\n",
       "\\item[3] 3\n",
       "\\end{description*}\n"
      ],
      "text/markdown": [
       "1\n",
       ":   52\n",
       ":   83\n",
       ":   3\n",
       "\n"
      ],
      "text/plain": [
       "1 2 3 \n",
       "5 8 3 "
      ]
     },
     "metadata": {},
     "output_type": "display_data"
    },
    {
     "data": {
      "text/html": [
       "<dl class=dl-horizontal>\n",
       "\t<dt>1</dt>\n",
       "\t\t<dd>5</dd>\n",
       "\t<dt>2</dt>\n",
       "\t\t<dd>8</dd>\n",
       "\t<dt>3</dt>\n",
       "\t\t<dd>3</dd>\n",
       "</dl>\n"
      ],
      "text/latex": [
       "\\begin{description*}\n",
       "\\item[1] 5\n",
       "\\item[2] 8\n",
       "\\item[3] 3\n",
       "\\end{description*}\n"
      ],
      "text/markdown": [
       "1\n",
       ":   52\n",
       ":   83\n",
       ":   3\n",
       "\n"
      ],
      "text/plain": [
       "1 2 3 \n",
       "5 8 3 "
      ]
     },
     "metadata": {},
     "output_type": "display_data"
    }
   ],
   "source": [
    "z=c(a=5,b=8,c=3)\n",
    "names(z)=c(\"1\",\"2\",\"3\")\n",
    "z\n",
    "b=c(a=5,b=8,c=3)\n",
    "names(b)=c(\"1\",\"2\",\"3\")\n",
    "b"
   ]
  },
  {
   "cell_type": "code",
   "execution_count": 156,
   "metadata": {
    "collapsed": false
   },
   "outputs": [
    {
     "data": {
      "text/html": [
       "24"
      ],
      "text/latex": [
       "24"
      ],
      "text/markdown": [
       "24"
      ],
      "text/plain": [
       "[1] 24"
      ]
     },
     "metadata": {},
     "output_type": "display_data"
    }
   ],
   "source": [
    "z[[3]]*b[[2]]"
   ]
  },
  {
   "cell_type": "code",
   "execution_count": 157,
   "metadata": {
    "collapsed": false
   },
   "outputs": [
    {
     "data": {
      "text/html": [
       "<ol class=list-inline>\n",
       "\t<li>0</li>\n",
       "\t<li>0</li>\n",
       "\t<li>0</li>\n",
       "\t<li>0</li>\n",
       "\t<li>0</li>\n",
       "</ol>\n"
      ],
      "text/latex": [
       "\\begin{enumerate*}\n",
       "\\item 0\n",
       "\\item 0\n",
       "\\item 0\n",
       "\\item 0\n",
       "\\item 0\n",
       "\\end{enumerate*}\n"
      ],
      "text/markdown": [
       "1. 0\n",
       "2. 0\n",
       "3. 0\n",
       "4. 0\n",
       "5. 0\n",
       "\n",
       "\n"
      ],
      "text/plain": [
       "[1] 0 0 0 0 0"
      ]
     },
     "metadata": {},
     "output_type": "display_data"
    }
   ],
   "source": [
    "rep(0,5)"
   ]
  },
  {
   "cell_type": "code",
   "execution_count": 158,
   "metadata": {
    "collapsed": false
   },
   "outputs": [
    {
     "data": {
      "text/html": [
       "<ol class=list-inline>\n",
       "\t<li>1</li>\n",
       "\t<li>2</li>\n",
       "\t<li>3</li>\n",
       "\t<li>1</li>\n",
       "\t<li>2</li>\n",
       "\t<li>3</li>\n",
       "\t<li>1</li>\n",
       "\t<li>2</li>\n",
       "\t<li>3</li>\n",
       "\t<li>1</li>\n",
       "\t<li>2</li>\n",
       "\t<li>3</li>\n",
       "</ol>\n"
      ],
      "text/latex": [
       "\\begin{enumerate*}\n",
       "\\item 1\n",
       "\\item 2\n",
       "\\item 3\n",
       "\\item 1\n",
       "\\item 2\n",
       "\\item 3\n",
       "\\item 1\n",
       "\\item 2\n",
       "\\item 3\n",
       "\\item 1\n",
       "\\item 2\n",
       "\\item 3\n",
       "\\end{enumerate*}\n"
      ],
      "text/markdown": [
       "1. 1\n",
       "2. 2\n",
       "3. 3\n",
       "4. 1\n",
       "5. 2\n",
       "6. 3\n",
       "7. 1\n",
       "8. 2\n",
       "9. 3\n",
       "10. 1\n",
       "11. 2\n",
       "12. 3\n",
       "\n",
       "\n"
      ],
      "text/plain": [
       " [1] 1 2 3 1 2 3 1 2 3 1 2 3"
      ]
     },
     "metadata": {},
     "output_type": "display_data"
    }
   ],
   "source": [
    "rep(1:3,4)"
   ]
  },
  {
   "cell_type": "code",
   "execution_count": 159,
   "metadata": {
    "collapsed": false
   },
   "outputs": [
    {
     "data": {
      "text/html": [
       "<ol class=list-inline>\n",
       "\t<li>4</li>\n",
       "\t<li>5</li>\n",
       "\t<li>5</li>\n",
       "\t<li>6</li>\n",
       "\t<li>6</li>\n",
       "\t<li>6</li>\n",
       "</ol>\n"
      ],
      "text/latex": [
       "\\begin{enumerate*}\n",
       "\\item 4\n",
       "\\item 5\n",
       "\\item 5\n",
       "\\item 6\n",
       "\\item 6\n",
       "\\item 6\n",
       "\\end{enumerate*}\n"
      ],
      "text/markdown": [
       "1. 4\n",
       "2. 5\n",
       "3. 5\n",
       "4. 6\n",
       "5. 6\n",
       "6. 6\n",
       "\n",
       "\n"
      ],
      "text/plain": [
       "[1] 4 5 5 6 6 6"
      ]
     },
     "metadata": {},
     "output_type": "display_data"
    }
   ],
   "source": [
    "rep(4:6,1:3)"
   ]
  },
  {
   "cell_type": "code",
   "execution_count": 160,
   "metadata": {
    "collapsed": false
   },
   "outputs": [
    {
     "data": {
      "text/html": [
       "<ol class=list-inline>\n",
       "\t<li>1</li>\n",
       "\t<li>1.5</li>\n",
       "\t<li>2</li>\n",
       "\t<li>2.5</li>\n",
       "\t<li>3</li>\n",
       "\t<li>3.5</li>\n",
       "\t<li>4</li>\n",
       "\t<li>4.5</li>\n",
       "\t<li>5</li>\n",
       "</ol>\n"
      ],
      "text/latex": [
       "\\begin{enumerate*}\n",
       "\\item 1\n",
       "\\item 1.5\n",
       "\\item 2\n",
       "\\item 2.5\n",
       "\\item 3\n",
       "\\item 3.5\n",
       "\\item 4\n",
       "\\item 4.5\n",
       "\\item 5\n",
       "\\end{enumerate*}\n"
      ],
      "text/markdown": [
       "1. 1\n",
       "2. 1.5\n",
       "3. 2\n",
       "4. 2.5\n",
       "5. 3\n",
       "6. 3.5\n",
       "7. 4\n",
       "8. 4.5\n",
       "9. 5\n",
       "\n",
       "\n"
      ],
      "text/plain": [
       "[1] 1.0 1.5 2.0 2.5 3.0 3.5 4.0 4.5 5.0"
      ]
     },
     "metadata": {},
     "output_type": "display_data"
    }
   ],
   "source": [
    "seq(1,5,by=0.5)"
   ]
  },
  {
   "cell_type": "code",
   "execution_count": 161,
   "metadata": {
    "collapsed": false
   },
   "outputs": [
    {
     "data": {
      "text/html": [
       "<ol class=list-inline>\n",
       "\t<li>0</li>\n",
       "\t<li>2.5</li>\n",
       "\t<li>5</li>\n",
       "\t<li>7.5</li>\n",
       "\t<li>10</li>\n",
       "</ol>\n"
      ],
      "text/latex": [
       "\\begin{enumerate*}\n",
       "\\item 0\n",
       "\\item 2.5\n",
       "\\item 5\n",
       "\\item 7.5\n",
       "\\item 10\n",
       "\\end{enumerate*}\n"
      ],
      "text/markdown": [
       "1. 0\n",
       "2. 2.5\n",
       "3. 5\n",
       "4. 7.5\n",
       "5. 10\n",
       "\n",
       "\n"
      ],
      "text/plain": [
       "[1]  0.0  2.5  5.0  7.5 10.0"
      ]
     },
     "metadata": {},
     "output_type": "display_data"
    }
   ],
   "source": [
    "seq(0,10,length=5)"
   ]
  },
  {
   "cell_type": "code",
   "execution_count": 165,
   "metadata": {
    "collapsed": false
   },
   "outputs": [
    {
     "data": {
      "text/html": [
       "<ol class=list-inline>\n",
       "\t<li>'a'</li>\n",
       "\t<li>'aa'</li>\n",
       "\t<li>'a'</li>\n",
       "\t<li>'a'</li>\n",
       "\t<li>'aa'</li>\n",
       "\t<li>'a'</li>\n",
       "\t<li>'a'</li>\n",
       "\t<li>'aa'</li>\n",
       "\t<li>'a'</li>\n",
       "</ol>\n"
      ],
      "text/latex": [
       "\\begin{enumerate*}\n",
       "\\item 'a'\n",
       "\\item 'aa'\n",
       "\\item 'a'\n",
       "\\item 'a'\n",
       "\\item 'aa'\n",
       "\\item 'a'\n",
       "\\item 'a'\n",
       "\\item 'aa'\n",
       "\\item 'a'\n",
       "\\end{enumerate*}\n"
      ],
      "text/markdown": [
       "1. 'a'\n",
       "2. 'aa'\n",
       "3. 'a'\n",
       "4. 'a'\n",
       "5. 'aa'\n",
       "6. 'a'\n",
       "7. 'a'\n",
       "8. 'aa'\n",
       "9. 'a'\n",
       "\n",
       "\n"
      ],
      "text/plain": [
       "[1] \"a\"  \"aa\" \"a\"  \"a\"  \"aa\" \"a\"  \"a\"  \"aa\" \"a\" "
      ]
     },
     "metadata": {},
     "output_type": "display_data"
    }
   ],
   "source": [
    "rep(c(\"a\",\"aa\",\"a\"),3)"
   ]
  },
  {
   "cell_type": "code",
   "execution_count": 166,
   "metadata": {
    "collapsed": false
   },
   "outputs": [
    {
     "data": {
      "text/html": [
       "<ol class=list-inline>\n",
       "\t<li>0.12</li>\n",
       "\t<li>-0.18</li>\n",
       "\t<li>-0.48</li>\n",
       "\t<li>-0.78</li>\n",
       "\t<li>-1.08</li>\n",
       "</ol>\n"
      ],
      "text/latex": [
       "\\begin{enumerate*}\n",
       "\\item 0.12\n",
       "\\item -0.18\n",
       "\\item -0.48\n",
       "\\item -0.78\n",
       "\\item -1.08\n",
       "\\end{enumerate*}\n"
      ],
      "text/markdown": [
       "1. 0.12\n",
       "2. -0.18\n",
       "3. -0.48\n",
       "4. -0.78\n",
       "5. -1.08\n",
       "\n",
       "\n"
      ],
      "text/plain": [
       "[1]  0.12 -0.18 -0.48 -0.78 -1.08"
      ]
     },
     "metadata": {},
     "output_type": "display_data"
    }
   ],
   "source": [
    "seq(from=0.12, to=-1.08,by=-0.30)"
   ]
  },
  {
   "cell_type": "code",
   "execution_count": 167,
   "metadata": {
    "collapsed": false
   },
   "outputs": [
    {
     "data": {
      "text/html": [
       "<ol class=list-inline>\n",
       "\t<li>0.12</li>\n",
       "\t<li>-0.18</li>\n",
       "\t<li>-0.48</li>\n",
       "\t<li>-0.78</li>\n",
       "\t<li>-1.08</li>\n",
       "</ol>\n"
      ],
      "text/latex": [
       "\\begin{enumerate*}\n",
       "\\item 0.12\n",
       "\\item -0.18\n",
       "\\item -0.48\n",
       "\\item -0.78\n",
       "\\item -1.08\n",
       "\\end{enumerate*}\n"
      ],
      "text/markdown": [
       "1. 0.12\n",
       "2. -0.18\n",
       "3. -0.48\n",
       "4. -0.78\n",
       "5. -1.08\n",
       "\n",
       "\n"
      ],
      "text/plain": [
       "[1]  0.12 -0.18 -0.48 -0.78 -1.08"
      ]
     },
     "metadata": {},
     "output_type": "display_data"
    }
   ],
   "source": [
    "rep(0.12,5)-0:4*0.30"
   ]
  },
  {
   "cell_type": "code",
   "execution_count": 174,
   "metadata": {
    "collapsed": false
   },
   "outputs": [
    {
     "data": {
      "text/html": [
       "<ol class=list-inline>\n",
       "\t<li>6</li>\n",
       "\t<li>1</li>\n",
       "\t<li>7</li>\n",
       "\t<li>8</li>\n",
       "\t<li>4</li>\n",
       "\t<li>8</li>\n",
       "\t<li>8</li>\n",
       "\t<li>4</li>\n",
       "\t<li>7</li>\n",
       "\t<li>2</li>\n",
       "</ol>\n"
      ],
      "text/latex": [
       "\\begin{enumerate*}\n",
       "\\item 6\n",
       "\\item 1\n",
       "\\item 7\n",
       "\\item 8\n",
       "\\item 4\n",
       "\\item 8\n",
       "\\item 8\n",
       "\\item 4\n",
       "\\item 7\n",
       "\\item 2\n",
       "\\end{enumerate*}\n"
      ],
      "text/markdown": [
       "1. 6\n",
       "2. 1\n",
       "3. 7\n",
       "4. 8\n",
       "5. 4\n",
       "6. 8\n",
       "7. 8\n",
       "8. 4\n",
       "9. 7\n",
       "10. 2\n",
       "\n",
       "\n"
      ],
      "text/plain": [
       " [1] 6 1 7 8 4 8 8 4 7 2"
      ]
     },
     "metadata": {},
     "output_type": "display_data"
    }
   ],
   "source": [
    "sample(seq(1,10,length=10),10,replace=TRUE)"
   ]
  },
  {
   "cell_type": "code",
   "execution_count": 180,
   "metadata": {
    "collapsed": false
   },
   "outputs": [
    {
     "data": {
      "text/html": [
       "<ol class=list-inline>\n",
       "\t<li>16</li>\n",
       "\t<li>32</li>\n",
       "\t<li>25</li>\n",
       "\t<li>34</li>\n",
       "\t<li>23</li>\n",
       "\t<li>12</li>\n",
       "</ol>\n"
      ],
      "text/latex": [
       "\\begin{enumerate*}\n",
       "\\item 16\n",
       "\\item 32\n",
       "\\item 25\n",
       "\\item 34\n",
       "\\item 23\n",
       "\\item 12\n",
       "\\end{enumerate*}\n"
      ],
      "text/markdown": [
       "1. 16\n",
       "2. 32\n",
       "3. 25\n",
       "4. 34\n",
       "5. 23\n",
       "6. 12\n",
       "\n",
       "\n"
      ],
      "text/plain": [
       "[1] 16 32 25 34 23 12"
      ]
     },
     "metadata": {},
     "output_type": "display_data"
    }
   ],
   "source": [
    "sample(1:49, 6, replace=FALSE)"
   ]
  },
  {
   "cell_type": "code",
   "execution_count": 190,
   "metadata": {
    "collapsed": false
   },
   "outputs": [
    {
     "data": {
      "text/html": [
       "<ol class=list-inline>\n",
       "\t<li>'t'</li>\n",
       "\t<li>'s'</li>\n",
       "\t<li>'j'</li>\n",
       "\t<li>'g'</li>\n",
       "\t<li>'p'</li>\n",
       "\t<li>'b'</li>\n",
       "\t<li>'j'</li>\n",
       "\t<li>'f'</li>\n",
       "\t<li>'a'</li>\n",
       "\t<li>'e'</li>\n",
       "</ol>\n"
      ],
      "text/latex": [
       "\\begin{enumerate*}\n",
       "\\item 't'\n",
       "\\item 's'\n",
       "\\item 'j'\n",
       "\\item 'g'\n",
       "\\item 'p'\n",
       "\\item 'b'\n",
       "\\item 'j'\n",
       "\\item 'f'\n",
       "\\item 'a'\n",
       "\\item 'e'\n",
       "\\end{enumerate*}\n"
      ],
      "text/markdown": [
       "1. 't'\n",
       "2. 's'\n",
       "3. 'j'\n",
       "4. 'g'\n",
       "5. 'p'\n",
       "6. 'b'\n",
       "7. 'j'\n",
       "8. 'f'\n",
       "9. 'a'\n",
       "10. 'e'\n",
       "\n",
       "\n"
      ],
      "text/plain": [
       " [1] \"t\" \"s\" \"j\" \"g\" \"p\" \"b\" \"j\" \"f\" \"a\" \"e\""
      ]
     },
     "metadata": {},
     "output_type": "display_data"
    }
   ],
   "source": [
    "letters[sample(length(letters),10,replace=TRUE)]"
   ]
  },
  {
   "cell_type": "code",
   "execution_count": 192,
   "metadata": {
    "collapsed": false
   },
   "outputs": [
    {
     "data": {
      "text/html": [
       "<ol class=list-inline>\n",
       "\t<li>'f'</li>\n",
       "\t<li>'s'</li>\n",
       "\t<li>'g'</li>\n",
       "\t<li>'v'</li>\n",
       "\t<li>'q'</li>\n",
       "\t<li>'y'</li>\n",
       "\t<li>'k'</li>\n",
       "\t<li>'r'</li>\n",
       "\t<li>'w'</li>\n",
       "\t<li>'p'</li>\n",
       "</ol>\n"
      ],
      "text/latex": [
       "\\begin{enumerate*}\n",
       "\\item 'f'\n",
       "\\item 's'\n",
       "\\item 'g'\n",
       "\\item 'v'\n",
       "\\item 'q'\n",
       "\\item 'y'\n",
       "\\item 'k'\n",
       "\\item 'r'\n",
       "\\item 'w'\n",
       "\\item 'p'\n",
       "\\end{enumerate*}\n"
      ],
      "text/markdown": [
       "1. 'f'\n",
       "2. 's'\n",
       "3. 'g'\n",
       "4. 'v'\n",
       "5. 'q'\n",
       "6. 'y'\n",
       "7. 'k'\n",
       "8. 'r'\n",
       "9. 'w'\n",
       "10. 'p'\n",
       "\n",
       "\n"
      ],
      "text/plain": [
       " [1] \"f\" \"s\" \"g\" \"v\" \"q\" \"y\" \"k\" \"r\" \"w\" \"p\""
      ]
     },
     "metadata": {},
     "output_type": "display_data"
    },
    {
     "data": {
      "text/html": [
       "<ol class=list-inline>\n",
       "\t<li>'f'</li>\n",
       "\t<li>'s'</li>\n",
       "\t<li>'g'</li>\n",
       "\t<li>'v'</li>\n",
       "\t<li>'q'</li>\n",
       "\t<li>'y'</li>\n",
       "\t<li>'k'</li>\n",
       "\t<li>'r'</li>\n",
       "\t<li>'w'</li>\n",
       "\t<li>'p'</li>\n",
       "</ol>\n"
      ],
      "text/latex": [
       "\\begin{enumerate*}\n",
       "\\item 'f'\n",
       "\\item 's'\n",
       "\\item 'g'\n",
       "\\item 'v'\n",
       "\\item 'q'\n",
       "\\item 'y'\n",
       "\\item 'k'\n",
       "\\item 'r'\n",
       "\\item 'w'\n",
       "\\item 'p'\n",
       "\\end{enumerate*}\n"
      ],
      "text/markdown": [
       "1. 'f'\n",
       "2. 's'\n",
       "3. 'g'\n",
       "4. 'v'\n",
       "5. 'q'\n",
       "6. 'y'\n",
       "7. 'k'\n",
       "8. 'r'\n",
       "9. 'w'\n",
       "10. 'p'\n",
       "\n",
       "\n"
      ],
      "text/plain": [
       " [1] \"f\" \"s\" \"g\" \"v\" \"q\" \"y\" \"k\" \"r\" \"w\" \"p\""
      ]
     },
     "metadata": {},
     "output_type": "display_data"
    }
   ],
   "source": [
    "set.seed(2012) \n",
    "( letras20 <- letters[sample(length(letters), 10, replace=FALSE)] )\n",
    "\n",
    "unique(letras20)"
   ]
  },
  {
   "cell_type": "code",
   "execution_count": 195,
   "metadata": {
    "collapsed": false
   },
   "outputs": [
    {
     "data": {
      "text/html": [
       "TRUE"
      ],
      "text/latex": [
       "TRUE"
      ],
      "text/markdown": [
       "TRUE"
      ],
      "text/plain": [
       "[1] TRUE"
      ]
     },
     "metadata": {},
     "output_type": "display_data"
    }
   ],
   "source": [
    "\"a\" %in% letters"
   ]
  },
  {
   "cell_type": "code",
   "execution_count": 197,
   "metadata": {
    "collapsed": false
   },
   "outputs": [
    {
     "data": {
      "text/html": [],
      "text/latex": [],
      "text/markdown": [],
      "text/plain": [
       "integer(0)"
      ]
     },
     "metadata": {},
     "output_type": "display_data"
    }
   ],
   "source": [
    "which(letters[3:7]%in%\"a\")"
   ]
  },
  {
   "cell_type": "code",
   "execution_count": 198,
   "metadata": {
    "collapsed": false
   },
   "outputs": [
    {
     "data": {
      "text/html": [
       "<ol class=list-inline>\n",
       "\t<li>'V1'</li>\n",
       "\t<li>'V2'</li>\n",
       "\t<li>'V3'</li>\n",
       "\t<li>'V4'</li>\n",
       "\t<li>'V5'</li>\n",
       "\t<li>'V6'</li>\n",
       "\t<li>'V7'</li>\n",
       "\t<li>'V8'</li>\n",
       "</ol>\n"
      ],
      "text/latex": [
       "\\begin{enumerate*}\n",
       "\\item 'V1'\n",
       "\\item 'V2'\n",
       "\\item 'V3'\n",
       "\\item 'V4'\n",
       "\\item 'V5'\n",
       "\\item 'V6'\n",
       "\\item 'V7'\n",
       "\\item 'V8'\n",
       "\\end{enumerate*}\n"
      ],
      "text/markdown": [
       "1. 'V1'\n",
       "2. 'V2'\n",
       "3. 'V3'\n",
       "4. 'V4'\n",
       "5. 'V5'\n",
       "6. 'V6'\n",
       "7. 'V7'\n",
       "8. 'V8'\n",
       "\n",
       "\n"
      ],
      "text/plain": [
       "[1] \"V1\" \"V2\" \"V3\" \"V4\" \"V5\" \"V6\" \"V7\" \"V8\""
      ]
     },
     "metadata": {},
     "output_type": "display_data"
    }
   ],
   "source": [
    "( variables <- paste(\"V\", 1:8, sep=\"\") )"
   ]
  },
  {
   "cell_type": "code",
   "execution_count": 200,
   "metadata": {
    "collapsed": false
   },
   "outputs": [
    {
     "data": {
      "text/html": [
       "'character'"
      ],
      "text/latex": [
       "'character'"
      ],
      "text/markdown": [
       "'character'"
      ],
      "text/plain": [
       "[1] \"character\""
      ]
     },
     "metadata": {},
     "output_type": "display_data"
    }
   ],
   "source": [
    "mode(variables)"
   ]
  },
  {
   "cell_type": "code",
   "execution_count": 203,
   "metadata": {
    "collapsed": false
   },
   "outputs": [
    {
     "data": {
      "text/html": [
       "<ol class=list-inline>\n",
       "\t<li>'jx1'</li>\n",
       "\t<li>'kx2'</li>\n",
       "\t<li>'lx3'</li>\n",
       "\t<li>'mx4'</li>\n",
       "\t<li>'nx1'</li>\n",
       "</ol>\n"
      ],
      "text/latex": [
       "\\begin{enumerate*}\n",
       "\\item 'jx1'\n",
       "\\item 'kx2'\n",
       "\\item 'lx3'\n",
       "\\item 'mx4'\n",
       "\\item 'nx1'\n",
       "\\end{enumerate*}\n"
      ],
      "text/markdown": [
       "1. 'jx1'\n",
       "2. 'kx2'\n",
       "3. 'lx3'\n",
       "4. 'mx4'\n",
       "5. 'nx1'\n",
       "\n",
       "\n"
      ],
      "text/plain": [
       "[1] \"jx1\" \"kx2\" \"lx3\" \"mx4\" \"nx1\""
      ]
     },
     "metadata": {},
     "output_type": "display_data"
    }
   ],
   "source": [
    "( letras <- paste(letters[10:14], 1:4, sep=\"x\") )"
   ]
  },
  {
   "cell_type": "code",
   "execution_count": 210,
   "metadata": {
    "collapsed": false
   },
   "outputs": [
    {
     "data": {
      "text/html": [
       "'J1qK2qL3qM4qN1qO2'"
      ],
      "text/latex": [
       "'J1qK2qL3qM4qN1qO2'"
      ],
      "text/markdown": [
       "'J1qK2qL3qM4qN1qO2'"
      ],
      "text/plain": [
       "[1] \"J1qK2qL3qM4qN1qO2\""
      ]
     },
     "metadata": {},
     "output_type": "display_data"
    }
   ],
   "source": [
    "( LETRASX <- paste(LETTERS[10:15], 1:4,sep=\"\",collapse=\"q\") )"
   ]
  },
  {
   "cell_type": "code",
   "execution_count": 206,
   "metadata": {
    "collapsed": false
   },
   "outputs": [
    {
     "data": {
      "text/html": [
       "<ol class=list-inline>\n",
       "\t<li>1</li>\n",
       "\t<li>2</li>\n",
       "\t<li>3</li>\n",
       "\t<li>4</li>\n",
       "\t<li>5</li>\n",
       "</ol>\n"
      ],
      "text/latex": [
       "\\begin{enumerate*}\n",
       "\\item 1\n",
       "\\item 2\n",
       "\\item 3\n",
       "\\item 4\n",
       "\\item 5\n",
       "\\end{enumerate*}\n"
      ],
      "text/markdown": [
       "1. 1\n",
       "2. 2\n",
       "3. 3\n",
       "4. 4\n",
       "5. 5\n",
       "\n",
       "\n"
      ],
      "text/plain": [
       "[1] 1 2 3 4 5"
      ]
     },
     "metadata": {},
     "output_type": "display_data"
    }
   ],
   "source": [
    "nchar(c(\"a\", \"ab\", \"abc\", \"abcd\", \"abcde\") )"
   ]
  },
  {
   "cell_type": "code",
   "execution_count": 215,
   "metadata": {
    "collapsed": false
   },
   "outputs": [
    {
     "data": {
      "text/html": [
       "<ol class=list-inline>\n",
       "\t<li>'a'</li>\n",
       "\t<li>'m'</li>\n",
       "\t<li>'e'</li>\n",
       "\t<li>'r'</li>\n",
       "\t<li>'i'</li>\n",
       "\t<li>'c'</li>\n",
       "\t<li>'a'</li>\n",
       "</ol>\n"
      ],
      "text/latex": [
       "\\begin{enumerate*}\n",
       "\\item 'a'\n",
       "\\item 'm'\n",
       "\\item 'e'\n",
       "\\item 'r'\n",
       "\\item 'i'\n",
       "\\item 'c'\n",
       "\\item 'a'\n",
       "\\end{enumerate*}\n"
      ],
      "text/markdown": [
       "1. 'a'\n",
       "2. 'm'\n",
       "3. 'e'\n",
       "4. 'r'\n",
       "5. 'i'\n",
       "6. 'c'\n",
       "7. 'a'\n",
       "\n",
       "\n"
      ],
      "text/plain": [
       "[1] \"a\" \"m\" \"e\" \"r\" \"i\" \"c\" \"a\""
      ]
     },
     "metadata": {},
     "output_type": "display_data"
    }
   ],
   "source": [
    "x=\"america\"\n",
    "strsplit(\"america\",NULL)[[1]]"
   ]
  },
  {
   "cell_type": "code",
   "execution_count": 217,
   "metadata": {
    "collapsed": false
   },
   "outputs": [
    {
     "data": {
      "text/html": [
       "<table>\n",
       "<tbody>\n",
       "\t<tr><td>1</td><td>1</td><td>1</td></tr>\n",
       "\t<tr><td>2</td><td>3</td><td>4</td></tr>\n",
       "</tbody>\n",
       "</table>\n"
      ],
      "text/latex": [
       "\\begin{tabular}{lll}\n",
       "\t 1 & 1 & 1\\\\\n",
       "\t 2 & 3 & 4\\\\\n",
       "\\end{tabular}\n"
      ],
      "text/markdown": [
       "\n",
       "| 1 | 1 | 1 | \n",
       "| 2 | 3 | 4 | \n",
       "\n",
       "\n"
      ],
      "text/plain": [
       "     [,1] [,2] [,3]\n",
       "[1,] 1    1    1   \n",
       "[2,] 2    3    4   "
      ]
     },
     "metadata": {},
     "output_type": "display_data"
    }
   ],
   "source": [
    "matrix(data=c(1,2,1,3,1,4), nrow=2)\n"
   ]
  },
  {
   "cell_type": "code",
   "execution_count": 218,
   "metadata": {
    "collapsed": false
   },
   "outputs": [
    {
     "data": {
      "text/html": [
       "<table>\n",
       "<tbody>\n",
       "\t<tr><td>1</td><td>3</td></tr>\n",
       "\t<tr><td>2</td><td>1</td></tr>\n",
       "\t<tr><td>1</td><td>4</td></tr>\n",
       "</tbody>\n",
       "</table>\n"
      ],
      "text/latex": [
       "\\begin{tabular}{ll}\n",
       "\t 1 & 3\\\\\n",
       "\t 2 & 1\\\\\n",
       "\t 1 & 4\\\\\n",
       "\\end{tabular}\n"
      ],
      "text/markdown": [
       "\n",
       "| 1 | 3 | \n",
       "| 2 | 1 | \n",
       "| 1 | 4 | \n",
       "\n",
       "\n"
      ],
      "text/plain": [
       "     [,1] [,2]\n",
       "[1,] 1    3   \n",
       "[2,] 2    1   \n",
       "[3,] 1    4   "
      ]
     },
     "metadata": {},
     "output_type": "display_data"
    }
   ],
   "source": [
    "matrix(data=c(1,2,1,3,1,4), ncol=2)\n"
   ]
  },
  {
   "cell_type": "code",
   "execution_count": 221,
   "metadata": {
    "collapsed": false
   },
   "outputs": [
    {
     "data": {
      "text/html": [
       "<table>\n",
       "<tbody>\n",
       "\t<tr><td>1</td><td>2</td><td>1</td></tr>\n",
       "\t<tr><td>3</td><td>1</td><td>4</td></tr>\n",
       "</tbody>\n",
       "</table>\n"
      ],
      "text/latex": [
       "\\begin{tabular}{lll}\n",
       "\t 1 & 2 & 1\\\\\n",
       "\t 3 & 1 & 4\\\\\n",
       "\\end{tabular}\n"
      ],
      "text/markdown": [
       "\n",
       "| 1 | 2 | 1 | \n",
       "| 3 | 1 | 4 | \n",
       "\n",
       "\n"
      ],
      "text/plain": [
       "     [,1] [,2] [,3]\n",
       "[1,] 1    2    1   \n",
       "[2,] 3    1    4   "
      ]
     },
     "metadata": {},
     "output_type": "display_data"
    }
   ],
   "source": [
    "matrix(data=c(1,2,1,3,1,4), ncol=3, byrow=TRUE)"
   ]
  },
  {
   "cell_type": "code",
   "execution_count": 227,
   "metadata": {
    "collapsed": false
   },
   "outputs": [
    {
     "data": {
      "text/html": [
       "<table>\n",
       "<thead><tr><th></th><th scope=col>columna 1 </th><th scope=col>columna 2 </th><th scope=col>columna 3 </th></tr></thead>\n",
       "<tbody>\n",
       "\t<tr><th scope=row>fila1</th><td>1</td><td>1</td><td>1</td></tr>\n",
       "\t<tr><th scope=row>fila2</th><td>2</td><td>3</td><td>4</td></tr>\n",
       "</tbody>\n",
       "</table>\n"
      ],
      "text/latex": [
       "\\begin{tabular}{r|lll}\n",
       "  & columna 1  & columna 2  & columna 3 \\\\\n",
       "\\hline\n",
       "\tfila1 & 1 & 1 & 1\\\\\n",
       "\tfila2 & 2 & 3 & 4\\\\\n",
       "\\end{tabular}\n"
      ],
      "text/markdown": [
       "\n",
       "| <!--/--> | columna 1  | columna 2  | columna 3  | \n",
       "|---|---|\n",
       "| fila1 | 1 | 1 | 1 | \n",
       "| fila2 | 2 | 3 | 4 | \n",
       "\n",
       "\n"
      ],
      "text/plain": [
       "      columna 1  columna 2  columna 3 \n",
       "fila1 1          1          1         \n",
       "fila2 2          3          4         "
      ]
     },
     "metadata": {},
     "output_type": "display_data"
    }
   ],
   "source": [
    "M = matrix(c(1,2,1,3,1,4),nrow=2)\n",
    "rownames(M)=paste(\"fila\",1:2,sep=\"\")\n",
    "colnames(M)=paste(\"columna\",1:3,seq=\"\")\n",
    "M"
   ]
  },
  {
   "cell_type": "code",
   "execution_count": 228,
   "metadata": {
    "collapsed": false
   },
   "outputs": [
    {
     "data": {
      "text/html": [
       "'columna 1 '"
      ],
      "text/latex": [
       "'columna 1 '"
      ],
      "text/markdown": [
       "'columna 1 '"
      ],
      "text/plain": [
       "[1] \"columna 1 \""
      ]
     },
     "metadata": {},
     "output_type": "display_data"
    }
   ],
   "source": [
    "colnames(M)[1]"
   ]
  },
  {
   "cell_type": "code",
   "execution_count": 229,
   "metadata": {
    "collapsed": false
   },
   "outputs": [
    {
     "data": {
      "text/html": [
       "<table>\n",
       "<tbody>\n",
       "\t<tr><td>TRUE</td><td>TRUE</td></tr>\n",
       "\t<tr><td>TRUE</td><td>TRUE</td></tr>\n",
       "</tbody>\n",
       "</table>\n"
      ],
      "text/latex": [
       "\\begin{tabular}{ll}\n",
       "\t TRUE & TRUE\\\\\n",
       "\t TRUE & TRUE\\\\\n",
       "\\end{tabular}\n"
      ],
      "text/markdown": [
       "\n",
       "| TRUE | TRUE | \n",
       "| TRUE | TRUE | \n",
       "\n",
       "\n"
      ],
      "text/plain": [
       "     [,1] [,2]\n",
       "[1,] TRUE TRUE\n",
       "[2,] TRUE TRUE"
      ]
     },
     "metadata": {},
     "output_type": "display_data"
    }
   ],
   "source": [
    "matrix(rep(TRUE,4),nrow=2)"
   ]
  },
  {
   "cell_type": "code",
   "execution_count": 238,
   "metadata": {
    "collapsed": false
   },
   "outputs": [
    {
     "ename": "ERROR",
     "evalue": "Error in matrix(letters[1:12], nrow = 3, byrow = TRUE, bycol = FALSE): unused argument (bycol = FALSE)\n",
     "output_type": "error",
     "traceback": [
      "Error in matrix(letters[1:12], nrow = 3, byrow = TRUE, bycol = FALSE): unused argument (bycol = FALSE)\nTraceback:\n",
      "1. matrix(letters[1:12], nrow = 3, byrow = TRUE, bycol = FALSE)"
     ]
    }
   ],
   "source": [
    "matrix(letters[1:12],nrow=3,byrow=TRUE,bycol=FALSE)"
   ]
  },
  {
   "cell_type": "code",
   "execution_count": 239,
   "metadata": {
    "collapsed": false
   },
   "outputs": [
    {
     "data": {
      "text/html": [
       "<table>\n",
       "<thead><tr><th></th><th scope=col>fila1</th><th scope=col>fila2</th></tr></thead>\n",
       "<tbody>\n",
       "\t<tr><th scope=row>columna 1 </th><td>1</td><td>2</td></tr>\n",
       "\t<tr><th scope=row>columna 2 </th><td>1</td><td>3</td></tr>\n",
       "\t<tr><th scope=row>columna 3 </th><td>1</td><td>4</td></tr>\n",
       "</tbody>\n",
       "</table>\n"
      ],
      "text/latex": [
       "\\begin{tabular}{r|ll}\n",
       "  & fila1 & fila2\\\\\n",
       "\\hline\n",
       "\tcolumna 1  & 1 & 2\\\\\n",
       "\tcolumna 2  & 1 & 3\\\\\n",
       "\tcolumna 3  & 1 & 4\\\\\n",
       "\\end{tabular}\n"
      ],
      "text/markdown": [
       "\n",
       "| <!--/--> | fila1 | fila2 | \n",
       "|---|---|---|\n",
       "| columna 1  | 1 | 2 | \n",
       "| columna 2  | 1 | 3 | \n",
       "| columna 3  | 1 | 4 | \n",
       "\n",
       "\n"
      ],
      "text/plain": [
       "           fila1 fila2\n",
       "columna 1  1     2    \n",
       "columna 2  1     3    \n",
       "columna 3  1     4    "
      ]
     },
     "metadata": {},
     "output_type": "display_data"
    }
   ],
   "source": [
    "t(M)"
   ]
  },
  {
   "cell_type": "code",
   "execution_count": 252,
   "metadata": {
    "collapsed": false
   },
   "outputs": [
    {
     "data": {
      "text/html": [
       "<table>\n",
       "<thead><tr><th></th><th scope=col>fila1</th><th scope=col>fila2</th></tr></thead>\n",
       "<tbody>\n",
       "\t<tr><th scope=row>columna 2 </th><td>1</td><td>3</td></tr>\n",
       "\t<tr><th scope=row>columna 3 </th><td>1</td><td>4</td></tr>\n",
       "</tbody>\n",
       "</table>\n"
      ],
      "text/latex": [
       "\\begin{tabular}{r|ll}\n",
       "  & fila1 & fila2\\\\\n",
       "\\hline\n",
       "\tcolumna 2  & 1 & 3\\\\\n",
       "\tcolumna 3  & 1 & 4\\\\\n",
       "\\end{tabular}\n"
      ],
      "text/markdown": [
       "\n",
       "| <!--/--> | fila1 | fila2 | \n",
       "|---|---|\n",
       "| columna 2  | 1 | 3 | \n",
       "| columna 3  | 1 | 4 | \n",
       "\n",
       "\n"
      ],
      "text/plain": [
       "           fila1 fila2\n",
       "columna 2  1     3    \n",
       "columna 3  1     4    "
      ]
     },
     "metadata": {},
     "output_type": "display_data"
    }
   ],
   "source": [
    "t(M)[2:3,]"
   ]
  },
  {
   "cell_type": "code",
   "execution_count": 254,
   "metadata": {
    "collapsed": false
   },
   "outputs": [
    {
     "data": {
      "text/html": [
       "<table>\n",
       "<thead><tr><th></th><th scope=col>fila1</th><th scope=col>fila2</th></tr></thead>\n",
       "<tbody>\n",
       "\t<tr><th scope=row>columna 1 </th><td>1</td><td>2</td></tr>\n",
       "\t<tr><th scope=row>columna 3 </th><td>1</td><td>4</td></tr>\n",
       "</tbody>\n",
       "</table>\n"
      ],
      "text/latex": [
       "\\begin{tabular}{r|ll}\n",
       "  & fila1 & fila2\\\\\n",
       "\\hline\n",
       "\tcolumna 1  & 1 & 2\\\\\n",
       "\tcolumna 3  & 1 & 4\\\\\n",
       "\\end{tabular}\n"
      ],
      "text/markdown": [
       "\n",
       "| <!--/--> | fila1 | fila2 | \n",
       "|---|---|\n",
       "| columna 1  | 1 | 2 | \n",
       "| columna 3  | 1 | 4 | \n",
       "\n",
       "\n"
      ],
      "text/plain": [
       "           fila1 fila2\n",
       "columna 1  1     2    \n",
       "columna 3  1     4    "
      ]
     },
     "metadata": {},
     "output_type": "display_data"
    }
   ],
   "source": [
    "t(M)[c(1,3),]"
   ]
  },
  {
   "cell_type": "code",
   "execution_count": 257,
   "metadata": {
    "collapsed": false
   },
   "outputs": [
    {
     "data": {
      "text/html": [
       "<table>\n",
       "<tbody>\n",
       "\t<tr><th scope=row>V1</th><td>1 </td><td>2 </td><td>3 </td><td>4 </td><td> 5</td></tr>\n",
       "\t<tr><th scope=row>V2</th><td>6 </td><td>7 </td><td>8 </td><td>9 </td><td>10</td></tr>\n",
       "</tbody>\n",
       "</table>\n"
      ],
      "text/latex": [
       "\\begin{tabular}{r|lllll}\n",
       "\tV1 & 1  & 2  & 3  & 4  &  5\\\\\n",
       "\tV2 & 6  & 7  & 8  & 9  & 10\\\\\n",
       "\\end{tabular}\n"
      ],
      "text/markdown": [
       "\n",
       "| V1 | 1  | 2  | 3  | 4  |  5 | \n",
       "| V2 | 6  | 7  | 8  | 9  | 10 | \n",
       "\n",
       "\n"
      ],
      "text/plain": [
       "   [,1] [,2] [,3] [,4] [,5]\n",
       "V1 1    2    3    4     5  \n",
       "V2 6    7    8    9    10  "
      ]
     },
     "metadata": {},
     "output_type": "display_data"
    },
    {
     "data": {
      "text/html": [
       "<table>\n",
       "<thead><tr><th scope=col>V1</th><th scope=col>V2</th></tr></thead>\n",
       "<tbody>\n",
       "\t<tr><td>1 </td><td> 6</td></tr>\n",
       "\t<tr><td>2 </td><td> 7</td></tr>\n",
       "\t<tr><td>3 </td><td> 8</td></tr>\n",
       "\t<tr><td>4 </td><td> 9</td></tr>\n",
       "\t<tr><td>5 </td><td>10</td></tr>\n",
       "</tbody>\n",
       "</table>\n"
      ],
      "text/latex": [
       "\\begin{tabular}{ll}\n",
       " V1 & V2\\\\\n",
       "\\hline\n",
       "\t 1  &  6\\\\\n",
       "\t 2  &  7\\\\\n",
       "\t 3  &  8\\\\\n",
       "\t 4  &  9\\\\\n",
       "\t 5  & 10\\\\\n",
       "\\end{tabular}\n"
      ],
      "text/markdown": [
       "\n",
       "V1 | V2 | \n",
       "|---|---|---|---|---|\n",
       "| 1  |  6 | \n",
       "| 2  |  7 | \n",
       "| 3  |  8 | \n",
       "| 4  |  9 | \n",
       "| 5  | 10 | \n",
       "\n",
       "\n"
      ],
      "text/plain": [
       "     V1 V2\n",
       "[1,] 1   6\n",
       "[2,] 2   7\n",
       "[3,] 3   8\n",
       "[4,] 4   9\n",
       "[5,] 5  10"
      ]
     },
     "metadata": {},
     "output_type": "display_data"
    }
   ],
   "source": [
    "V1 = 1:5\n",
    "V2 = 6:10\n",
    "rbind(V1,V2)\n",
    "cbind(V1,V2)"
   ]
  },
  {
   "cell_type": "code",
   "execution_count": 258,
   "metadata": {
    "collapsed": false
   },
   "outputs": [
    {
     "data": {
      "text/html": [
       "<ol class=list-inline>\n",
       "\t<li>2</li>\n",
       "\t<li>3</li>\n",
       "</ol>\n"
      ],
      "text/latex": [
       "\\begin{enumerate*}\n",
       "\\item 2\n",
       "\\item 3\n",
       "\\end{enumerate*}\n"
      ],
      "text/markdown": [
       "1. 2\n",
       "2. 3\n",
       "\n",
       "\n"
      ],
      "text/plain": [
       "[1] 2 3"
      ]
     },
     "metadata": {},
     "output_type": "display_data"
    }
   ],
   "source": [
    "dim(M)"
   ]
  },
  {
   "cell_type": "code",
   "execution_count": 260,
   "metadata": {
    "collapsed": false
   },
   "outputs": [
    {
     "data": {
      "text/html": [
       "<table>\n",
       "<thead><tr><th></th><th scope=col>columna 1 </th><th scope=col>columna 2 </th><th scope=col>columna 3 </th></tr></thead>\n",
       "<tbody>\n",
       "\t<tr><th scope=row>fila1</th><td>1</td><td>1</td><td>1</td></tr>\n",
       "\t<tr><th scope=row>fila2</th><td>2</td><td>3</td><td>4</td></tr>\n",
       "</tbody>\n",
       "</table>\n"
      ],
      "text/latex": [
       "\\begin{tabular}{r|lll}\n",
       "  & columna 1  & columna 2  & columna 3 \\\\\n",
       "\\hline\n",
       "\tfila1 & 1 & 1 & 1\\\\\n",
       "\tfila2 & 2 & 3 & 4\\\\\n",
       "\\end{tabular}\n"
      ],
      "text/markdown": [
       "\n",
       "| <!--/--> | columna 1  | columna 2  | columna 3  | \n",
       "|---|---|\n",
       "| fila1 | 1 | 1 | 1 | \n",
       "| fila2 | 2 | 3 | 4 | \n",
       "\n",
       "\n"
      ],
      "text/plain": [
       "      columna 1  columna 2  columna 3 \n",
       "fila1 1          1          1         \n",
       "fila2 2          3          4         "
      ]
     },
     "metadata": {},
     "output_type": "display_data"
    }
   ],
   "source": [
    "M"
   ]
  },
  {
   "cell_type": "code",
   "execution_count": 261,
   "metadata": {
    "collapsed": false
   },
   "outputs": [
    {
     "data": {
      "text/html": [
       "<dl>\n",
       "\t<dt>$dim</dt>\n",
       "\t\t<dd><ol class=list-inline>\n",
       "\t<li>2</li>\n",
       "\t<li>3</li>\n",
       "</ol>\n",
       "</dd>\n",
       "\t<dt>$dimnames</dt>\n",
       "\t\t<dd><ol>\n",
       "\t<li><ol class=list-inline>\n",
       "\t<li>'fila1'</li>\n",
       "\t<li>'fila2'</li>\n",
       "</ol>\n",
       "</li>\n",
       "\t<li><ol class=list-inline>\n",
       "\t<li>'columna 1 '</li>\n",
       "\t<li>'columna 2 '</li>\n",
       "\t<li>'columna 3 '</li>\n",
       "</ol>\n",
       "</li>\n",
       "</ol>\n",
       "</dd>\n",
       "</dl>\n"
      ],
      "text/latex": [
       "\\begin{description}\n",
       "\\item[\\$dim] \\begin{enumerate*}\n",
       "\\item 2\n",
       "\\item 3\n",
       "\\end{enumerate*}\n",
       "\n",
       "\\item[\\$dimnames] \\begin{enumerate}\n",
       "\\item \\begin{enumerate*}\n",
       "\\item 'fila1'\n",
       "\\item 'fila2'\n",
       "\\end{enumerate*}\n",
       "\n",
       "\\item \\begin{enumerate*}\n",
       "\\item 'columna 1 '\n",
       "\\item 'columna 2 '\n",
       "\\item 'columna 3 '\n",
       "\\end{enumerate*}\n",
       "\n",
       "\\end{enumerate}\n",
       "\n",
       "\\end{description}\n"
      ],
      "text/markdown": [
       "$dim\n",
       ":   1. 2\n",
       "2. 3\n",
       "\n",
       "\n",
       "\n",
       "$dimnames\n",
       ":   1. 1. 'fila1'\n",
       "2. 'fila2'\n",
       "\n",
       "\n",
       "\n",
       "2. 1. 'columna 1 '\n",
       "2. 'columna 2 '\n",
       "3. 'columna 3 '\n",
       "\n",
       "\n",
       "\n",
       "\n",
       "\n",
       "\n",
       "\n",
       "\n"
      ],
      "text/plain": [
       "$dim\n",
       "[1] 2 3\n",
       "\n",
       "$dimnames\n",
       "$dimnames[[1]]\n",
       "[1] \"fila1\" \"fila2\"\n",
       "\n",
       "$dimnames[[2]]\n",
       "[1] \"columna 1 \" \"columna 2 \" \"columna 3 \"\n",
       "\n"
      ]
     },
     "metadata": {},
     "output_type": "display_data"
    }
   ],
   "source": [
    "attributes(M)"
   ]
  },
  {
   "cell_type": "code",
   "execution_count": 262,
   "metadata": {
    "collapsed": false
   },
   "outputs": [
    {
     "data": {
      "text/html": [
       "'matrix'"
      ],
      "text/latex": [
       "'matrix'"
      ],
      "text/markdown": [
       "'matrix'"
      ],
      "text/plain": [
       "[1] \"matrix\""
      ]
     },
     "metadata": {},
     "output_type": "display_data"
    }
   ],
   "source": [
    "class(M)"
   ]
  },
  {
   "cell_type": "code",
   "execution_count": 263,
   "metadata": {
    "collapsed": false
   },
   "outputs": [
    {
     "data": {
      "text/html": [
       "'numeric'"
      ],
      "text/latex": [
       "'numeric'"
      ],
      "text/markdown": [
       "'numeric'"
      ],
      "text/plain": [
       "[1] \"numeric\""
      ]
     },
     "metadata": {},
     "output_type": "display_data"
    }
   ],
   "source": [
    "mode(M)"
   ]
  },
  {
   "cell_type": "code",
   "execution_count": 264,
   "metadata": {
    "collapsed": false
   },
   "outputs": [
    {
     "data": {
      "text/html": [
       "<table>\n",
       "<thead><tr><th></th><th scope=col>columna 1 </th><th scope=col>columna 2 </th><th scope=col>columna 3 </th></tr></thead>\n",
       "<tbody>\n",
       "\t<tr><th scope=row>fila1</th><td>1 </td><td>1 </td><td> 1</td></tr>\n",
       "\t<tr><th scope=row>fila2</th><td>4 </td><td>9 </td><td>16</td></tr>\n",
       "</tbody>\n",
       "</table>\n"
      ],
      "text/latex": [
       "\\begin{tabular}{r|lll}\n",
       "  & columna 1  & columna 2  & columna 3 \\\\\n",
       "\\hline\n",
       "\tfila1 & 1  & 1  &  1\\\\\n",
       "\tfila2 & 4  & 9  & 16\\\\\n",
       "\\end{tabular}\n"
      ],
      "text/markdown": [
       "\n",
       "| <!--/--> | columna 1  | columna 2  | columna 3  | \n",
       "|---|---|\n",
       "| fila1 | 1  | 1  |  1 | \n",
       "| fila2 | 4  | 9  | 16 | \n",
       "\n",
       "\n"
      ],
      "text/plain": [
       "      columna 1  columna 2  columna 3 \n",
       "fila1 1          1           1        \n",
       "fila2 4          9          16        "
      ]
     },
     "metadata": {},
     "output_type": "display_data"
    }
   ],
   "source": [
    "M^2"
   ]
  },
  {
   "cell_type": "code",
   "execution_count": 269,
   "metadata": {
    "collapsed": false
   },
   "outputs": [
    {
     "data": {
      "text/html": [
       "<table>\n",
       "<tbody>\n",
       "\t<tr><td>1 </td><td>5 </td><td> 9</td><td>13</td></tr>\n",
       "\t<tr><td>3 </td><td>7 </td><td>11</td><td>15</td></tr>\n",
       "</tbody>\n",
       "</table>\n"
      ],
      "text/latex": [
       "\\begin{tabular}{llll}\n",
       "\t 1  & 5  &  9 & 13\\\\\n",
       "\t 3  & 7  & 11 & 15\\\\\n",
       "\\end{tabular}\n"
      ],
      "text/markdown": [
       "\n",
       "| 1  | 5  |  9 | 13 | \n",
       "| 3  | 7  | 11 | 15 | \n",
       "\n",
       "\n"
      ],
      "text/plain": [
       "     [,1] [,2] [,3] [,4]\n",
       "[1,] 1    5     9   13  \n",
       "[2,] 3    7    11   15  "
      ]
     },
     "metadata": {},
     "output_type": "display_data"
    },
    {
     "data": {
      "text/html": [
       "<table>\n",
       "<tbody>\n",
       "\t<tr><td>2 </td><td>6 </td><td>10</td><td>14</td></tr>\n",
       "\t<tr><td>4 </td><td>8 </td><td>12</td><td>16</td></tr>\n",
       "</tbody>\n",
       "</table>\n"
      ],
      "text/latex": [
       "\\begin{tabular}{llll}\n",
       "\t 2  & 6  & 10 & 14\\\\\n",
       "\t 4  & 8  & 12 & 16\\\\\n",
       "\\end{tabular}\n"
      ],
      "text/markdown": [
       "\n",
       "| 2  | 6  | 10 | 14 | \n",
       "| 4  | 8  | 12 | 16 | \n",
       "\n",
       "\n"
      ],
      "text/plain": [
       "     [,1] [,2] [,3] [,4]\n",
       "[1,] 2    6    10   14  \n",
       "[2,] 4    8    12   16  "
      ]
     },
     "metadata": {},
     "output_type": "display_data"
    },
    {
     "data": {
      "text/html": [
       "<table>\n",
       "<tbody>\n",
       "\t<tr><td>2 </td><td>6 </td><td>10</td><td>14</td></tr>\n",
       "\t<tr><td>3 </td><td>7 </td><td>11</td><td>15</td></tr>\n",
       "</tbody>\n",
       "</table>\n"
      ],
      "text/latex": [
       "\\begin{tabular}{llll}\n",
       "\t 2  & 6  & 10 & 14\\\\\n",
       "\t 3  & 7  & 11 & 15\\\\\n",
       "\\end{tabular}\n"
      ],
      "text/markdown": [
       "\n",
       "| 2  | 6  | 10 | 14 | \n",
       "| 3  | 7  | 11 | 15 | \n",
       "\n",
       "\n"
      ],
      "text/plain": [
       "     [,1] [,2] [,3] [,4]\n",
       "[1,] 2    6    10   14  \n",
       "[2,] 3    7    11   15  "
      ]
     },
     "metadata": {},
     "output_type": "display_data"
    }
   ],
   "source": [
    "A <- matrix(seq(1,16,2), nrow=2)\n",
    "B <- matrix(seq(2,16,2), nrow=2)\n",
    "\n",
    "A\n",
    "B\n",
    "A+c(1,0)"
   ]
  },
  {
   "cell_type": "code",
   "execution_count": 273,
   "metadata": {
    "collapsed": false
   },
   "outputs": [
    {
     "data": {
      "text/html": [
       "<table>\n",
       "<tbody>\n",
       "\t<tr><td>1 </td><td>5 </td><td> 9</td><td>13</td><td>2 </td><td>6 </td><td>10</td><td>14</td></tr>\n",
       "\t<tr><td>3 </td><td>7 </td><td>11</td><td>15</td><td>4 </td><td>8 </td><td>12</td><td>16</td></tr>\n",
       "</tbody>\n",
       "</table>\n"
      ],
      "text/latex": [
       "\\begin{tabular}{llllllll}\n",
       "\t 1  & 5  &  9 & 13 & 2  & 6  & 10 & 14\\\\\n",
       "\t 3  & 7  & 11 & 15 & 4  & 8  & 12 & 16\\\\\n",
       "\\end{tabular}\n"
      ],
      "text/markdown": [
       "\n",
       "| 1  | 5  |  9 | 13 | 2  | 6  | 10 | 14 | \n",
       "| 3  | 7  | 11 | 15 | 4  | 8  | 12 | 16 | \n",
       "\n",
       "\n"
      ],
      "text/plain": [
       "     [,1] [,2] [,3] [,4] [,5] [,6] [,7] [,8]\n",
       "[1,] 1    5     9   13   2    6    10   14  \n",
       "[2,] 3    7    11   15   4    8    12   16  "
      ]
     },
     "metadata": {},
     "output_type": "display_data"
    }
   ],
   "source": [
    "cbind(A,B)"
   ]
  },
  {
   "cell_type": "code",
   "execution_count": 274,
   "metadata": {
    "collapsed": false
   },
   "outputs": [
    {
     "name": "stderr",
     "output_type": "stream",
     "text": [
      "Warning message in cbind(A, B) + c(1, 0, -2):\n",
      "“longitud de objeto mayor no es múltiplo de la longitud de uno menor”"
     ]
    },
    {
     "data": {
      "text/html": [
       "<table>\n",
       "<tbody>\n",
       "\t<tr><td>2 </td><td>3 </td><td>9 </td><td>14</td><td>0 </td><td>6 </td><td>11</td><td>12</td></tr>\n",
       "\t<tr><td>3 </td><td>8 </td><td>9 </td><td>15</td><td>5 </td><td>6 </td><td>12</td><td>17</td></tr>\n",
       "</tbody>\n",
       "</table>\n"
      ],
      "text/latex": [
       "\\begin{tabular}{llllllll}\n",
       "\t 2  & 3  & 9  & 14 & 0  & 6  & 11 & 12\\\\\n",
       "\t 3  & 8  & 9  & 15 & 5  & 6  & 12 & 17\\\\\n",
       "\\end{tabular}\n"
      ],
      "text/markdown": [
       "\n",
       "| 2  | 3  | 9  | 14 | 0  | 6  | 11 | 12 | \n",
       "| 3  | 8  | 9  | 15 | 5  | 6  | 12 | 17 | \n",
       "\n",
       "\n"
      ],
      "text/plain": [
       "     [,1] [,2] [,3] [,4] [,5] [,6] [,7] [,8]\n",
       "[1,] 2    3    9    14   0    6    11   12  \n",
       "[2,] 3    8    9    15   5    6    12   17  "
      ]
     },
     "metadata": {},
     "output_type": "display_data"
    }
   ],
   "source": [
    "cbind(A,B) + c(1,0,-2)"
   ]
  },
  {
   "cell_type": "code",
   "execution_count": 276,
   "metadata": {
    "collapsed": false
   },
   "outputs": [
    {
     "data": {
      "text/html": [
       "<table>\n",
       "<tbody>\n",
       "\t<tr><td>1 </td><td>5 </td><td> 9</td><td>13</td></tr>\n",
       "\t<tr><td>3 </td><td>7 </td><td>11</td><td>15</td></tr>\n",
       "\t<tr><td>2 </td><td>6 </td><td>10</td><td>14</td></tr>\n",
       "\t<tr><td>4 </td><td>8 </td><td>12</td><td>16</td></tr>\n",
       "</tbody>\n",
       "</table>\n"
      ],
      "text/latex": [
       "\\begin{tabular}{llll}\n",
       "\t 1  & 5  &  9 & 13\\\\\n",
       "\t 3  & 7  & 11 & 15\\\\\n",
       "\t 2  & 6  & 10 & 14\\\\\n",
       "\t 4  & 8  & 12 & 16\\\\\n",
       "\\end{tabular}\n"
      ],
      "text/markdown": [
       "\n",
       "| 1  | 5  |  9 | 13 | \n",
       "| 3  | 7  | 11 | 15 | \n",
       "| 2  | 6  | 10 | 14 | \n",
       "| 4  | 8  | 12 | 16 | \n",
       "\n",
       "\n"
      ],
      "text/plain": [
       "     [,1] [,2] [,3] [,4]\n",
       "[1,] 1    5     9   13  \n",
       "[2,] 3    7    11   15  \n",
       "[3,] 2    6    10   14  \n",
       "[4,] 4    8    12   16  "
      ]
     },
     "metadata": {},
     "output_type": "display_data"
    }
   ],
   "source": [
    "rbind(A,B) "
   ]
  },
  {
   "cell_type": "code",
   "execution_count": 277,
   "metadata": {
    "collapsed": false
   },
   "outputs": [
    {
     "name": "stderr",
     "output_type": "stream",
     "text": [
      "Warning message in rbind(A, B) + c(1, 0, -2):\n",
      "“longitud de objeto mayor no es múltiplo de la longitud de uno menor”"
     ]
    },
    {
     "data": {
      "text/html": [
       "<table>\n",
       "<tbody>\n",
       "\t<tr><td>2 </td><td>5 </td><td> 7</td><td>14</td></tr>\n",
       "\t<tr><td>3 </td><td>5 </td><td>12</td><td>15</td></tr>\n",
       "\t<tr><td>0 </td><td>7 </td><td>10</td><td>12</td></tr>\n",
       "\t<tr><td>5 </td><td>8 </td><td>10</td><td>17</td></tr>\n",
       "</tbody>\n",
       "</table>\n"
      ],
      "text/latex": [
       "\\begin{tabular}{llll}\n",
       "\t 2  & 5  &  7 & 14\\\\\n",
       "\t 3  & 5  & 12 & 15\\\\\n",
       "\t 0  & 7  & 10 & 12\\\\\n",
       "\t 5  & 8  & 10 & 17\\\\\n",
       "\\end{tabular}\n"
      ],
      "text/markdown": [
       "\n",
       "| 2  | 5  |  7 | 14 | \n",
       "| 3  | 5  | 12 | 15 | \n",
       "| 0  | 7  | 10 | 12 | \n",
       "| 5  | 8  | 10 | 17 | \n",
       "\n",
       "\n"
      ],
      "text/plain": [
       "     [,1] [,2] [,3] [,4]\n",
       "[1,] 2    5     7   14  \n",
       "[2,] 3    5    12   15  \n",
       "[3,] 0    7    10   12  \n",
       "[4,] 5    8    10   17  "
      ]
     },
     "metadata": {},
     "output_type": "display_data"
    }
   ],
   "source": [
    "rbind(A,B) + c(1,0,-2)"
   ]
  },
  {
   "cell_type": "code",
   "execution_count": 278,
   "metadata": {
    "collapsed": false
   },
   "outputs": [
    {
     "data": {
      "text/html": [
       "<table>\n",
       "<tbody>\n",
       "\t<tr><td>304</td><td>360</td></tr>\n",
       "\t<tr><td>368</td><td>440</td></tr>\n",
       "</tbody>\n",
       "</table>\n"
      ],
      "text/latex": [
       "\\begin{tabular}{ll}\n",
       "\t 304 & 360\\\\\n",
       "\t 368 & 440\\\\\n",
       "\\end{tabular}\n"
      ],
      "text/markdown": [
       "\n",
       "| 304 | 360 | \n",
       "| 368 | 440 | \n",
       "\n",
       "\n"
      ],
      "text/plain": [
       "     [,1] [,2]\n",
       "[1,] 304  360 \n",
       "[2,] 368  440 "
      ]
     },
     "metadata": {},
     "output_type": "display_data"
    }
   ],
   "source": [
    "A%*%t(B)"
   ]
  },
  {
   "cell_type": "code",
   "execution_count": 279,
   "metadata": {
    "collapsed": false
   },
   "outputs": [
    {
     "data": {
      "text/html": [
       "<table>\n",
       "<tbody>\n",
       "\t<tr><td>14 </td><td> 30</td><td> 46</td><td> 62</td></tr>\n",
       "\t<tr><td>38 </td><td> 86</td><td>134</td><td>182</td></tr>\n",
       "\t<tr><td>62 </td><td>142</td><td>222</td><td>302</td></tr>\n",
       "\t<tr><td>86 </td><td>198</td><td>310</td><td>422</td></tr>\n",
       "</tbody>\n",
       "</table>\n"
      ],
      "text/latex": [
       "\\begin{tabular}{llll}\n",
       "\t 14  &  30 &  46 &  62\\\\\n",
       "\t 38  &  86 & 134 & 182\\\\\n",
       "\t 62  & 142 & 222 & 302\\\\\n",
       "\t 86  & 198 & 310 & 422\\\\\n",
       "\\end{tabular}\n"
      ],
      "text/markdown": [
       "\n",
       "| 14  |  30 |  46 |  62 | \n",
       "| 38  |  86 | 134 | 182 | \n",
       "| 62  | 142 | 222 | 302 | \n",
       "| 86  | 198 | 310 | 422 | \n",
       "\n",
       "\n"
      ],
      "text/plain": [
       "     [,1] [,2] [,3] [,4]\n",
       "[1,] 14    30   46   62 \n",
       "[2,] 38    86  134  182 \n",
       "[3,] 62   142  222  302 \n",
       "[4,] 86   198  310  422 "
      ]
     },
     "metadata": {},
     "output_type": "display_data"
    }
   ],
   "source": [
    "t(A)%*%B"
   ]
  },
  {
   "cell_type": "code",
   "execution_count": 281,
   "metadata": {
    "collapsed": false
   },
   "outputs": [
    {
     "data": {
      "text/html": [
       "<table>\n",
       "<tbody>\n",
       "\t<tr><td>3</td><td>9</td></tr>\n",
       "\t<tr><td>7</td><td>4</td></tr>\n",
       "</tbody>\n",
       "</table>\n"
      ],
      "text/latex": [
       "\\begin{tabular}{ll}\n",
       "\t 3 & 9\\\\\n",
       "\t 7 & 4\\\\\n",
       "\\end{tabular}\n"
      ],
      "text/markdown": [
       "\n",
       "| 3 | 9 | \n",
       "| 7 | 4 | \n",
       "\n",
       "\n"
      ],
      "text/plain": [
       "     [,1] [,2]\n",
       "[1,] 3    9   \n",
       "[2,] 7    4   "
      ]
     },
     "metadata": {},
     "output_type": "display_data"
    }
   ],
   "source": [
    "matrix(c(3,7,9,4),nrow=2)"
   ]
  },
  {
   "cell_type": "code",
   "execution_count": 293,
   "metadata": {
    "collapsed": false
   },
   "outputs": [
    {
     "data": {
      "text/html": [
       "<table>\n",
       "<tbody>\n",
       "\t<tr><td>1.0000000</td><td>0.500    </td><td>0.3333333</td></tr>\n",
       "\t<tr><td>0.2500000</td><td>0.200    </td><td>0.1666667</td></tr>\n",
       "\t<tr><td>0.1428571</td><td>0.125    </td><td>0.1111111</td></tr>\n",
       "</tbody>\n",
       "</table>\n"
      ],
      "text/latex": [
       "\\begin{tabular}{lll}\n",
       "\t 1.0000000 & 0.500     & 0.3333333\\\\\n",
       "\t 0.2500000 & 0.200     & 0.1666667\\\\\n",
       "\t 0.1428571 & 0.125     & 0.1111111\\\\\n",
       "\\end{tabular}\n"
      ],
      "text/markdown": [
       "\n",
       "| 1.0000000 | 0.500     | 0.3333333 | \n",
       "| 0.2500000 | 0.200     | 0.1666667 | \n",
       "| 0.1428571 | 0.125     | 0.1111111 | \n",
       "\n",
       "\n"
      ],
      "text/plain": [
       "     [,1]      [,2]  [,3]     \n",
       "[1,] 1.0000000 0.500 0.3333333\n",
       "[2,] 0.2500000 0.200 0.1666667\n",
       "[3,] 0.1428571 0.125 0.1111111"
      ]
     },
     "metadata": {},
     "output_type": "display_data"
    }
   ],
   "source": [
    "matrix(1/(1:9), nrow=3, byrow=TRUE)\n"
   ]
  },
  {
   "cell_type": "code",
   "execution_count": 294,
   "metadata": {
    "collapsed": false
   },
   "outputs": [
    {
     "data": {
      "text/html": [
       "<table>\n",
       "<tbody>\n",
       "\t<tr><td>1.000</td><td>0.500</td><td>0.333</td></tr>\n",
       "\t<tr><td>0.250</td><td>0.200</td><td>0.167</td></tr>\n",
       "\t<tr><td>0.143</td><td>0.125</td><td>0.111</td></tr>\n",
       "</tbody>\n",
       "</table>\n"
      ],
      "text/latex": [
       "\\begin{tabular}{lll}\n",
       "\t 1.000 & 0.500 & 0.333\\\\\n",
       "\t 0.250 & 0.200 & 0.167\\\\\n",
       "\t 0.143 & 0.125 & 0.111\\\\\n",
       "\\end{tabular}\n"
      ],
      "text/markdown": [
       "\n",
       "| 1.000 | 0.500 | 0.333 | \n",
       "| 0.250 | 0.200 | 0.167 | \n",
       "| 0.143 | 0.125 | 0.111 | \n",
       "\n",
       "\n"
      ],
      "text/plain": [
       "     [,1]  [,2]  [,3] \n",
       "[1,] 1.000 0.500 0.333\n",
       "[2,] 0.250 0.200 0.167\n",
       "[3,] 0.143 0.125 0.111"
      ]
     },
     "metadata": {},
     "output_type": "display_data"
    }
   ],
   "source": [
    "round(matrix(1/(1:9), nrow=3, byrow=TRUE), digits=3)  \n"
   ]
  },
  {
   "cell_type": "code",
   "execution_count": 296,
   "metadata": {
    "collapsed": false
   },
   "outputs": [
    {
     "data": {
      "text/html": [
       "<table>\n",
       "<tbody>\n",
       "\t<tr><td>1  </td><td>1/4</td><td>1/7</td></tr>\n",
       "\t<tr><td>1/2</td><td>1/5</td><td>1/8</td></tr>\n",
       "\t<tr><td>1/3</td><td>1/6</td><td>1/9</td></tr>\n",
       "</tbody>\n",
       "</table>\n"
      ],
      "text/latex": [
       "\\begin{tabular}{lll}\n",
       "\t 1   & 1/4 & 1/7\\\\\n",
       "\t 1/2 & 1/5 & 1/8\\\\\n",
       "\t 1/3 & 1/6 & 1/9\\\\\n",
       "\\end{tabular}\n"
      ],
      "text/markdown": [
       "\n",
       "| 1   | 1/4 | 1/7 | \n",
       "| 1/2 | 1/5 | 1/8 | \n",
       "| 1/3 | 1/6 | 1/9 | \n",
       "\n",
       "\n"
      ],
      "text/plain": [
       "     [,1] [,2] [,3]\n",
       "[1,] 1    1/4  1/7 \n",
       "[2,] 1/2  1/5  1/8 \n",
       "[3,] 1/3  1/6  1/9 "
      ]
     },
     "metadata": {},
     "output_type": "display_data"
    }
   ],
   "source": [
    "matrix(c(\"1\",\"1/2\",\"1/3\",\"1/4\",\"1/5\",\"1/6\",\"1/7\",\"1/8\",\"1/9\"),nrow=3,)\n"
   ]
  },
  {
   "cell_type": "code",
   "execution_count": 302,
   "metadata": {
    "collapsed": false
   },
   "outputs": [
    {
     "data": {
      "text/html": [
       "<table>\n",
       "<tbody>\n",
       "\t<tr><td>2 </td><td>3 </td><td>4 </td><td> 5</td><td> 6</td><td> 7</td></tr>\n",
       "\t<tr><td>3 </td><td>4 </td><td>5 </td><td> 6</td><td> 7</td><td> 8</td></tr>\n",
       "\t<tr><td>4 </td><td>5 </td><td>6 </td><td> 7</td><td> 8</td><td> 9</td></tr>\n",
       "\t<tr><td>5 </td><td>6 </td><td>7 </td><td> 8</td><td> 9</td><td>10</td></tr>\n",
       "\t<tr><td>6 </td><td>7 </td><td>8 </td><td> 9</td><td>10</td><td>11</td></tr>\n",
       "\t<tr><td>7 </td><td>8 </td><td>9 </td><td>10</td><td>11</td><td>12</td></tr>\n",
       "</tbody>\n",
       "</table>\n"
      ],
      "text/latex": [
       "\\begin{tabular}{llllll}\n",
       "\t 2  & 3  & 4  &  5 &  6 &  7\\\\\n",
       "\t 3  & 4  & 5  &  6 &  7 &  8\\\\\n",
       "\t 4  & 5  & 6  &  7 &  8 &  9\\\\\n",
       "\t 5  & 6  & 7  &  8 &  9 & 10\\\\\n",
       "\t 6  & 7  & 8  &  9 & 10 & 11\\\\\n",
       "\t 7  & 8  & 9  & 10 & 11 & 12\\\\\n",
       "\\end{tabular}\n"
      ],
      "text/markdown": [
       "\n",
       "| 2  | 3  | 4  |  5 |  6 |  7 | \n",
       "| 3  | 4  | 5  |  6 |  7 |  8 | \n",
       "| 4  | 5  | 6  |  7 |  8 |  9 | \n",
       "| 5  | 6  | 7  |  8 |  9 | 10 | \n",
       "| 6  | 7  | 8  |  9 | 10 | 11 | \n",
       "| 7  | 8  | 9  | 10 | 11 | 12 | \n",
       "\n",
       "\n"
      ],
      "text/plain": [
       "     [,1] [,2] [,3] [,4] [,5] [,6]\n",
       "[1,] 2    3    4     5    6    7  \n",
       "[2,] 3    4    5     6    7    8  \n",
       "[3,] 4    5    6     7    8    9  \n",
       "[4,] 5    6    7     8    9   10  \n",
       "[5,] 6    7    8     9   10   11  \n",
       "[6,] 7    8    9    10   11   12  "
      ]
     },
     "metadata": {},
     "output_type": "display_data"
    }
   ],
   "source": [
    "matrix(rep(1:6,6), nrow=6, byrow=FALSE) +\n",
    "matrix(rep(1:6,6), nrow=6, byrow=TRUE) \n"
   ]
  },
  {
   "cell_type": "code",
   "execution_count": 303,
   "metadata": {
    "collapsed": false
   },
   "outputs": [
    {
     "data": {
      "text/html": [
       "<table>\n",
       "<tbody>\n",
       "\t<tr><td>2 </td><td>3 </td><td>4 </td><td> 5</td><td> 6</td><td> 7</td></tr>\n",
       "\t<tr><td>3 </td><td>4 </td><td>5 </td><td> 6</td><td> 7</td><td> 8</td></tr>\n",
       "\t<tr><td>4 </td><td>5 </td><td>6 </td><td> 7</td><td> 8</td><td> 9</td></tr>\n",
       "\t<tr><td>5 </td><td>6 </td><td>7 </td><td> 8</td><td> 9</td><td>10</td></tr>\n",
       "\t<tr><td>6 </td><td>7 </td><td>8 </td><td> 9</td><td>10</td><td>11</td></tr>\n",
       "\t<tr><td>7 </td><td>8 </td><td>9 </td><td>10</td><td>11</td><td>12</td></tr>\n",
       "</tbody>\n",
       "</table>\n"
      ],
      "text/latex": [
       "\\begin{tabular}{llllll}\n",
       "\t 2  & 3  & 4  &  5 &  6 &  7\\\\\n",
       "\t 3  & 4  & 5  &  6 &  7 &  8\\\\\n",
       "\t 4  & 5  & 6  &  7 &  8 &  9\\\\\n",
       "\t 5  & 6  & 7  &  8 &  9 & 10\\\\\n",
       "\t 6  & 7  & 8  &  9 & 10 & 11\\\\\n",
       "\t 7  & 8  & 9  & 10 & 11 & 12\\\\\n",
       "\\end{tabular}\n"
      ],
      "text/markdown": [
       "\n",
       "| 2  | 3  | 4  |  5 |  6 |  7 | \n",
       "| 3  | 4  | 5  |  6 |  7 |  8 | \n",
       "| 4  | 5  | 6  |  7 |  8 |  9 | \n",
       "| 5  | 6  | 7  |  8 |  9 | 10 | \n",
       "| 6  | 7  | 8  |  9 | 10 | 11 | \n",
       "| 7  | 8  | 9  | 10 | 11 | 12 | \n",
       "\n",
       "\n"
      ],
      "text/plain": [
       "     [,1] [,2] [,3] [,4] [,5] [,6]\n",
       "[1,] 2    3    4     5    6    7  \n",
       "[2,] 3    4    5     6    7    8  \n",
       "[3,] 4    5    6     7    8    9  \n",
       "[4,] 5    6    7     8    9   10  \n",
       "[5,] 6    7    8     9   10   11  \n",
       "[6,] 7    8    9    10   11   12  "
      ]
     },
     "metadata": {},
     "output_type": "display_data"
    }
   ],
   "source": [
    "matrix(c(1+1:6,2+1:6,3+1:6,4+1:6,5+1:6,6+1:6), nrow=6)\n"
   ]
  },
  {
   "cell_type": "code",
   "execution_count": 304,
   "metadata": {
    "collapsed": false
   },
   "outputs": [
    {
     "data": {
      "text/html": [
       "<ol class=list-inline>\n",
       "\t<li>2</li>\n",
       "\t<li>3</li>\n",
       "\t<li>4</li>\n",
       "\t<li>5</li>\n",
       "\t<li>6</li>\n",
       "\t<li>7</li>\n",
       "\t<li>3</li>\n",
       "\t<li>4</li>\n",
       "\t<li>5</li>\n",
       "\t<li>6</li>\n",
       "\t<li>7</li>\n",
       "\t<li>8</li>\n",
       "\t<li>4</li>\n",
       "\t<li>5</li>\n",
       "\t<li>6</li>\n",
       "\t<li>7</li>\n",
       "\t<li>8</li>\n",
       "\t<li>9</li>\n",
       "\t<li>5</li>\n",
       "\t<li>6</li>\n",
       "\t<li>7</li>\n",
       "\t<li>8</li>\n",
       "\t<li>9</li>\n",
       "\t<li>10</li>\n",
       "\t<li>6</li>\n",
       "\t<li>7</li>\n",
       "\t<li>8</li>\n",
       "\t<li>9</li>\n",
       "\t<li>10</li>\n",
       "\t<li>11</li>\n",
       "\t<li>7</li>\n",
       "\t<li>8</li>\n",
       "\t<li>9</li>\n",
       "\t<li>10</li>\n",
       "\t<li>11</li>\n",
       "\t<li>12</li>\n",
       "</ol>\n"
      ],
      "text/latex": [
       "\\begin{enumerate*}\n",
       "\\item 2\n",
       "\\item 3\n",
       "\\item 4\n",
       "\\item 5\n",
       "\\item 6\n",
       "\\item 7\n",
       "\\item 3\n",
       "\\item 4\n",
       "\\item 5\n",
       "\\item 6\n",
       "\\item 7\n",
       "\\item 8\n",
       "\\item 4\n",
       "\\item 5\n",
       "\\item 6\n",
       "\\item 7\n",
       "\\item 8\n",
       "\\item 9\n",
       "\\item 5\n",
       "\\item 6\n",
       "\\item 7\n",
       "\\item 8\n",
       "\\item 9\n",
       "\\item 10\n",
       "\\item 6\n",
       "\\item 7\n",
       "\\item 8\n",
       "\\item 9\n",
       "\\item 10\n",
       "\\item 11\n",
       "\\item 7\n",
       "\\item 8\n",
       "\\item 9\n",
       "\\item 10\n",
       "\\item 11\n",
       "\\item 12\n",
       "\\end{enumerate*}\n"
      ],
      "text/markdown": [
       "1. 2\n",
       "2. 3\n",
       "3. 4\n",
       "4. 5\n",
       "5. 6\n",
       "6. 7\n",
       "7. 3\n",
       "8. 4\n",
       "9. 5\n",
       "10. 6\n",
       "11. 7\n",
       "12. 8\n",
       "13. 4\n",
       "14. 5\n",
       "15. 6\n",
       "16. 7\n",
       "17. 8\n",
       "18. 9\n",
       "19. 5\n",
       "20. 6\n",
       "21. 7\n",
       "22. 8\n",
       "23. 9\n",
       "24. 10\n",
       "25. 6\n",
       "26. 7\n",
       "27. 8\n",
       "28. 9\n",
       "29. 10\n",
       "30. 11\n",
       "31. 7\n",
       "32. 8\n",
       "33. 9\n",
       "34. 10\n",
       "35. 11\n",
       "36. 12\n",
       "\n",
       "\n"
      ],
      "text/plain": [
       " [1]  2  3  4  5  6  7  3  4  5  6  7  8  4  5  6  7  8  9  5  6  7  8  9 10  6\n",
       "[26]  7  8  9 10 11  7  8  9 10 11 12"
      ]
     },
     "metadata": {},
     "output_type": "display_data"
    }
   ],
   "source": [
    "c(1+1:6,2+1:6,3+1:6,4+1:6,5+1:6,6+1:6)"
   ]
  },
  {
   "cell_type": "code",
   "execution_count": 316,
   "metadata": {
    "collapsed": false
   },
   "outputs": [
    {
     "ename": "ERROR",
     "evalue": "Error in parse(text = x, srcfile = src): <text>:1:40: inesperado ';'\n1: A = t(matrix(1/(1:9),nrow=3,byrow=TRUE);\n                                           ^\n",
     "output_type": "error",
     "traceback": [
      "Error in parse(text = x, srcfile = src): <text>:1:40: inesperado ';'\n1: A = t(matrix(1/(1:9),nrow=3,byrow=TRUE);\n                                           ^\nTraceback:\n"
     ]
    }
   ],
   "source": [
    "A = t(matrix(1/(1:9),nrow=3,byrow=TRUE);\n"
   ]
  },
  {
   "cell_type": "code",
   "execution_count": 330,
   "metadata": {
    "collapsed": false
   },
   "outputs": [
    {
     "data": {
      "text/html": [
       "<table>\n",
       "<tbody>\n",
       "\t<tr><td>1</td><td>0</td><td>0</td></tr>\n",
       "\t<tr><td>0</td><td>2</td><td>0</td></tr>\n",
       "\t<tr><td>0</td><td>0</td><td>3</td></tr>\n",
       "</tbody>\n",
       "</table>\n"
      ],
      "text/latex": [
       "\\begin{tabular}{lll}\n",
       "\t 1 & 0 & 0\\\\\n",
       "\t 0 & 2 & 0\\\\\n",
       "\t 0 & 0 & 3\\\\\n",
       "\\end{tabular}\n"
      ],
      "text/markdown": [
       "\n",
       "| 1 | 0 | 0 | \n",
       "| 0 | 2 | 0 | \n",
       "| 0 | 0 | 3 | \n",
       "\n",
       "\n"
      ],
      "text/plain": [
       "     [,1] [,2] [,3]\n",
       "[1,] 1    0    0   \n",
       "[2,] 0    2    0   \n",
       "[3,] 0    0    3   "
      ]
     },
     "metadata": {},
     "output_type": "display_data"
    }
   ],
   "source": [
    "D=diag(c(1,2,3))"
   ]
  },
  {
   "cell_type": "code",
   "execution_count": 366,
   "metadata": {
    "collapsed": false
   },
   "outputs": [
    {
     "data": {
      "text/html": [
       "<table>\n",
       "<tbody>\n",
       "\t<tr><td>4</td><td>4</td></tr>\n",
       "\t<tr><td>4</td><td>4</td></tr>\n",
       "\t<tr><td>4</td><td>4</td></tr>\n",
       "</tbody>\n",
       "</table>\n"
      ],
      "text/latex": [
       "\\begin{tabular}{ll}\n",
       "\t 4 & 4\\\\\n",
       "\t 4 & 4\\\\\n",
       "\t 4 & 4\\\\\n",
       "\\end{tabular}\n"
      ],
      "text/markdown": [
       "\n",
       "| 4 | 4 | \n",
       "| 4 | 4 | \n",
       "| 4 | 4 | \n",
       "\n",
       "\n"
      ],
      "text/plain": [
       "     [,1] [,2]\n",
       "[1,] 4    4   \n",
       "[2,] 4    4   \n",
       "[3,] 4    4   "
      ]
     },
     "metadata": {},
     "output_type": "display_data"
    },
    {
     "data": {
      "text/html": [
       "<table>\n",
       "<tbody>\n",
       "\t<tr><td>1</td><td>0</td><td>0</td><td>4</td></tr>\n",
       "\t<tr><td>0</td><td>2</td><td>0</td><td>4</td></tr>\n",
       "\t<tr><td>0</td><td>0</td><td>3</td><td>4</td></tr>\n",
       "\t<tr><td>5</td><td>5</td><td>5</td><td>5</td></tr>\n",
       "</tbody>\n",
       "</table>\n"
      ],
      "text/latex": [
       "\\begin{tabular}{llll}\n",
       "\t 1 & 0 & 0 & 4\\\\\n",
       "\t 0 & 2 & 0 & 4\\\\\n",
       "\t 0 & 0 & 3 & 4\\\\\n",
       "\t 5 & 5 & 5 & 5\\\\\n",
       "\\end{tabular}\n"
      ],
      "text/markdown": [
       "\n",
       "| 1 | 0 | 0 | 4 | \n",
       "| 0 | 2 | 0 | 4 | \n",
       "| 0 | 0 | 3 | 4 | \n",
       "| 5 | 5 | 5 | 5 | \n",
       "\n",
       "\n"
      ],
      "text/plain": [
       "     [,1] [,2] [,3] [,4]\n",
       "[1,] 1    0    0    4   \n",
       "[2,] 0    2    0    4   \n",
       "[3,] 0    0    3    4   \n",
       "[4,] 5    5    5    5   "
      ]
     },
     "metadata": {},
     "output_type": "display_data"
    }
   ],
   "source": [
    "cbind(rep(4,3),rep(4,3))\n",
    "x=rbind(cbind(diag(c(1,2,3)), rep(4,3)), rep(5,4))\n",
    "x"
   ]
  },
  {
   "cell_type": "code",
   "execution_count": 385,
   "metadata": {
    "collapsed": false
   },
   "outputs": [
    {
     "data": {
      "text/html": [
       "<table>\n",
       "<tbody>\n",
       "\t<tr><td>3</td><td>0</td><td>0</td><td>2</td></tr>\n",
       "\t<tr><td>0</td><td>1</td><td>0</td><td>2</td></tr>\n",
       "\t<tr><td>0</td><td>0</td><td>4</td><td>2</td></tr>\n",
       "\t<tr><td>5</td><td>5</td><td>5</td><td>5</td></tr>\n",
       "</tbody>\n",
       "</table>\n"
      ],
      "text/latex": [
       "\\begin{tabular}{llll}\n",
       "\t 3 & 0 & 0 & 2\\\\\n",
       "\t 0 & 1 & 0 & 2\\\\\n",
       "\t 0 & 0 & 4 & 2\\\\\n",
       "\t 5 & 5 & 5 & 5\\\\\n",
       "\\end{tabular}\n"
      ],
      "text/markdown": [
       "\n",
       "| 3 | 0 | 0 | 2 | \n",
       "| 0 | 1 | 0 | 2 | \n",
       "| 0 | 0 | 4 | 2 | \n",
       "| 5 | 5 | 5 | 5 | \n",
       "\n",
       "\n"
      ],
      "text/plain": [
       "     [,1] [,2] [,3] [,4]\n",
       "[1,] 3    0    0    2   \n",
       "[2,] 0    1    0    2   \n",
       "[3,] 0    0    4    2   \n",
       "[4,] 5    5    5    5   "
      ]
     },
     "metadata": {},
     "output_type": "display_data"
    },
    {
     "data": {
      "text/html": [
       "<table>\n",
       "<tbody>\n",
       "\t<tr><td>3</td><td>0</td><td>2</td></tr>\n",
       "\t<tr><td>0</td><td>4</td><td>2</td></tr>\n",
       "\t<tr><td>5</td><td>5</td><td>5</td></tr>\n",
       "</tbody>\n",
       "</table>\n"
      ],
      "text/latex": [
       "\\begin{tabular}{lll}\n",
       "\t 3 & 0 & 2\\\\\n",
       "\t 0 & 4 & 2\\\\\n",
       "\t 5 & 5 & 5\\\\\n",
       "\\end{tabular}\n"
      ],
      "text/markdown": [
       "\n",
       "| 3 | 0 | 2 | \n",
       "| 0 | 4 | 2 | \n",
       "| 5 | 5 | 5 | \n",
       "\n",
       "\n"
      ],
      "text/plain": [
       "     [,1] [,2] [,3]\n",
       "[1,] 3    0    2   \n",
       "[2,] 0    4    2   \n",
       "[3,] 5    5    5   "
      ]
     },
     "metadata": {},
     "output_type": "display_data"
    }
   ],
   "source": [
    "rbind(cbind(diag(c(3,1,4)), rep(2,3)), rep(5,4))\n",
    "rbind(cbind(diag(c(3,1,4)), rep(2,3)), rep(5,4))[-2,-2]\n"
   ]
  },
  {
   "cell_type": "code",
   "execution_count": 395,
   "metadata": {
    "collapsed": false
   },
   "outputs": [
    {
     "data": {
      "text/html": [
       "<table>\n",
       "<tbody>\n",
       "\t<tr><td>1</td><td>0</td><td>0</td><td>4</td></tr>\n",
       "\t<tr><td>0</td><td>2</td><td>0</td><td>4</td></tr>\n",
       "\t<tr><td>0</td><td>0</td><td>3</td><td>4</td></tr>\n",
       "\t<tr><td>5</td><td>5</td><td>5</td><td>5</td></tr>\n",
       "</tbody>\n",
       "</table>\n"
      ],
      "text/latex": [
       "\\begin{tabular}{llll}\n",
       "\t 1 & 0 & 0 & 4\\\\\n",
       "\t 0 & 2 & 0 & 4\\\\\n",
       "\t 0 & 0 & 3 & 4\\\\\n",
       "\t 5 & 5 & 5 & 5\\\\\n",
       "\\end{tabular}\n"
      ],
      "text/markdown": [
       "\n",
       "| 1 | 0 | 0 | 4 | \n",
       "| 0 | 2 | 0 | 4 | \n",
       "| 0 | 0 | 3 | 4 | \n",
       "| 5 | 5 | 5 | 5 | \n",
       "\n",
       "\n"
      ],
      "text/plain": [
       "     [,1] [,2] [,3] [,4]\n",
       "[1,] 1    0    0    4   \n",
       "[2,] 0    2    0    4   \n",
       "[3,] 0    0    3    4   \n",
       "[4,] 5    5    5    5   "
      ]
     },
     "metadata": {},
     "output_type": "display_data"
    },
    {
     "data": {
      "text/html": [
       "<table>\n",
       "<tbody>\n",
       "\t<tr><td>1</td><td>0</td><td>0</td><td>4</td></tr>\n",
       "\t<tr><td>0</td><td>0</td><td>3</td><td>4</td></tr>\n",
       "\t<tr><td>5</td><td>5</td><td>5</td><td>5</td></tr>\n",
       "</tbody>\n",
       "</table>\n"
      ],
      "text/latex": [
       "\\begin{tabular}{llll}\n",
       "\t 1 & 0 & 0 & 4\\\\\n",
       "\t 0 & 0 & 3 & 4\\\\\n",
       "\t 5 & 5 & 5 & 5\\\\\n",
       "\\end{tabular}\n"
      ],
      "text/markdown": [
       "\n",
       "| 1 | 0 | 0 | 4 | \n",
       "| 0 | 0 | 3 | 4 | \n",
       "| 5 | 5 | 5 | 5 | \n",
       "\n",
       "\n"
      ],
      "text/plain": [
       "     [,1] [,2] [,3] [,4]\n",
       "[1,] 1    0    0    4   \n",
       "[2,] 0    0    3    4   \n",
       "[3,] 5    5    5    5   "
      ]
     },
     "metadata": {},
     "output_type": "display_data"
    }
   ],
   "source": [
    "x\n",
    "x[-2,]"
   ]
  },
  {
   "cell_type": "code",
   "execution_count": 396,
   "metadata": {
    "collapsed": false
   },
   "outputs": [
    {
     "data": {
      "text/html": [
       "-190"
      ],
      "text/latex": [
       "-190"
      ],
      "text/markdown": [
       "-190"
      ],
      "text/plain": [
       "[1] -190"
      ]
     },
     "metadata": {},
     "output_type": "display_data"
    }
   ],
   "source": [
    "det(x)"
   ]
  },
  {
   "cell_type": "code",
   "execution_count": 400,
   "metadata": {
    "collapsed": false
   },
   "outputs": [
    {
     "data": {
      "text/html": [
       "<table>\n",
       "<tbody>\n",
       "\t<tr><td> 1.000000e+00</td><td> 0.000000e+00</td><td> 0.000000e+00</td><td> 4.440892e-16</td></tr>\n",
       "\t<tr><td> 5.551115e-17</td><td> 1.000000e+00</td><td> 5.551115e-17</td><td>-2.775558e-16</td></tr>\n",
       "\t<tr><td> 2.775558e-17</td><td> 2.775558e-17</td><td> 1.000000e+00</td><td>-2.220446e-16</td></tr>\n",
       "\t<tr><td>-2.775558e-17</td><td>-2.775558e-17</td><td>-2.775558e-17</td><td> 1.000000e+00</td></tr>\n",
       "</tbody>\n",
       "</table>\n"
      ],
      "text/latex": [
       "\\begin{tabular}{llll}\n",
       "\t  1.000000e+00 &  0.000000e+00 &  0.000000e+00 &  4.440892e-16\\\\\n",
       "\t  5.551115e-17 &  1.000000e+00 &  5.551115e-17 & -2.775558e-16\\\\\n",
       "\t  2.775558e-17 &  2.775558e-17 &  1.000000e+00 & -2.220446e-16\\\\\n",
       "\t -2.775558e-17 & -2.775558e-17 & -2.775558e-17 &  1.000000e+00\\\\\n",
       "\\end{tabular}\n"
      ],
      "text/markdown": [
       "\n",
       "|  1.000000e+00 |  0.000000e+00 |  0.000000e+00 |  4.440892e-16 | \n",
       "|  5.551115e-17 |  1.000000e+00 |  5.551115e-17 | -2.775558e-16 | \n",
       "|  2.775558e-17 |  2.775558e-17 |  1.000000e+00 | -2.220446e-16 | \n",
       "| -2.775558e-17 | -2.775558e-17 | -2.775558e-17 |  1.000000e+00 | \n",
       "\n",
       "\n"
      ],
      "text/plain": [
       "     [,1]          [,2]          [,3]          [,4]         \n",
       "[1,]  1.000000e+00  0.000000e+00  0.000000e+00  4.440892e-16\n",
       "[2,]  5.551115e-17  1.000000e+00  5.551115e-17 -2.775558e-16\n",
       "[3,]  2.775558e-17  2.775558e-17  1.000000e+00 -2.220446e-16\n",
       "[4,] -2.775558e-17 -2.775558e-17 -2.775558e-17  1.000000e+00"
      ]
     },
     "metadata": {},
     "output_type": "display_data"
    }
   ],
   "source": [
    "solve(x)%*%x"
   ]
  },
  {
   "cell_type": "code",
   "execution_count": 402,
   "metadata": {
    "collapsed": false
   },
   "outputs": [
    {
     "data": {
      "text/html": [
       "<dl>\n",
       "\t<dt>$values</dt>\n",
       "\t\t<dd><ol class=list-inline>\n",
       "\t<li>11.41871435311</li>\n",
       "\t<li>-4.45201426387225</li>\n",
       "\t<li>2.59057391867248</li>\n",
       "\t<li>1.44272599208975</li>\n",
       "</ol>\n",
       "</dd>\n",
       "\t<dt>$vectors</dt>\n",
       "\t\t<dd><table>\n",
       "<tbody>\n",
       "\t<tr><td>0.3080273  </td><td> 0.4934388 </td><td>-0.20626600</td><td>-0.76155827</td></tr>\n",
       "\t<tr><td>0.3407311  </td><td> 0.4169605 </td><td>-0.55552965</td><td> 0.60501950</td></tr>\n",
       "\t<tr><td>0.3812041  </td><td> 0.3610078 </td><td> 0.80132004</td><td> 0.21650759</td></tr>\n",
       "\t<tr><td>0.8023122  </td><td>-0.6725588 </td><td>-0.08202033</td><td>-0.08429041</td></tr>\n",
       "</tbody>\n",
       "</table>\n",
       "</dd>\n",
       "</dl>\n"
      ],
      "text/latex": [
       "\\begin{description}\n",
       "\\item[\\$values] \\begin{enumerate*}\n",
       "\\item 11.41871435311\n",
       "\\item -4.45201426387225\n",
       "\\item 2.59057391867248\n",
       "\\item 1.44272599208975\n",
       "\\end{enumerate*}\n",
       "\n",
       "\\item[\\$vectors] \\begin{tabular}{llll}\n",
       "\t 0.3080273   &  0.4934388  & -0.20626600 & -0.76155827\\\\\n",
       "\t 0.3407311   &  0.4169605  & -0.55552965 &  0.60501950\\\\\n",
       "\t 0.3812041   &  0.3610078  &  0.80132004 &  0.21650759\\\\\n",
       "\t 0.8023122   & -0.6725588  & -0.08202033 & -0.08429041\\\\\n",
       "\\end{tabular}\n",
       "\n",
       "\\end{description}\n"
      ],
      "text/markdown": [
       "$values\n",
       ":   1. 11.41871435311\n",
       "2. -4.45201426387225\n",
       "3. 2.59057391867248\n",
       "4. 1.44272599208975\n",
       "\n",
       "\n",
       "\n",
       "$vectors\n",
       ":   \n",
       "| 0.3080273   |  0.4934388  | -0.20626600 | -0.76155827 | \n",
       "| 0.3407311   |  0.4169605  | -0.55552965 |  0.60501950 | \n",
       "| 0.3812041   |  0.3610078  |  0.80132004 |  0.21650759 | \n",
       "| 0.8023122   | -0.6725588  | -0.08202033 | -0.08429041 | \n",
       "\n",
       "\n",
       "\n",
       "\n",
       "\n"
      ],
      "text/plain": [
       "$values\n",
       "[1] 11.418714 -4.452014  2.590574  1.442726\n",
       "\n",
       "$vectors\n",
       "          [,1]       [,2]        [,3]        [,4]\n",
       "[1,] 0.3080273  0.4934388 -0.20626600 -0.76155827\n",
       "[2,] 0.3407311  0.4169605 -0.55552965  0.60501950\n",
       "[3,] 0.3812041  0.3610078  0.80132004  0.21650759\n",
       "[4,] 0.8023122 -0.6725588 -0.08202033 -0.08429041\n"
      ]
     },
     "metadata": {},
     "output_type": "display_data"
    }
   ],
   "source": [
    "eigen(x)"
   ]
  },
  {
   "cell_type": "code",
   "execution_count": 403,
   "metadata": {
    "collapsed": false
   },
   "outputs": [
    {
     "data": {
      "text/html": [
       "'data.frame'"
      ],
      "text/latex": [
       "'data.frame'"
      ],
      "text/markdown": [
       "'data.frame'"
      ],
      "text/plain": [
       "[1] \"data.frame\""
      ]
     },
     "metadata": {},
     "output_type": "display_data"
    }
   ],
   "source": [
    "class(iris)"
   ]
  },
  {
   "cell_type": "code",
   "execution_count": 404,
   "metadata": {
    "collapsed": false
   },
   "outputs": [
    {
     "data": {
      "text/html": [
       "<ol>\n",
       "\t<li><ol class=list-inline>\n",
       "\t<li>'1'</li>\n",
       "\t<li>'2'</li>\n",
       "\t<li>'3'</li>\n",
       "\t<li>'4'</li>\n",
       "\t<li>'5'</li>\n",
       "\t<li>'6'</li>\n",
       "\t<li>'7'</li>\n",
       "\t<li>'8'</li>\n",
       "\t<li>'9'</li>\n",
       "\t<li>'10'</li>\n",
       "\t<li>'11'</li>\n",
       "\t<li>'12'</li>\n",
       "\t<li>'13'</li>\n",
       "\t<li>'14'</li>\n",
       "\t<li>'15'</li>\n",
       "\t<li>'16'</li>\n",
       "\t<li>'17'</li>\n",
       "\t<li>'18'</li>\n",
       "\t<li>'19'</li>\n",
       "\t<li>'20'</li>\n",
       "\t<li>'21'</li>\n",
       "\t<li>'22'</li>\n",
       "\t<li>'23'</li>\n",
       "\t<li>'24'</li>\n",
       "\t<li>'25'</li>\n",
       "\t<li>'26'</li>\n",
       "\t<li>'27'</li>\n",
       "\t<li>'28'</li>\n",
       "\t<li>'29'</li>\n",
       "\t<li>'30'</li>\n",
       "\t<li>'31'</li>\n",
       "\t<li>'32'</li>\n",
       "\t<li>'33'</li>\n",
       "\t<li>'34'</li>\n",
       "\t<li>'35'</li>\n",
       "\t<li>'36'</li>\n",
       "\t<li>'37'</li>\n",
       "\t<li>'38'</li>\n",
       "\t<li>'39'</li>\n",
       "\t<li>'40'</li>\n",
       "\t<li>'41'</li>\n",
       "\t<li>'42'</li>\n",
       "\t<li>'43'</li>\n",
       "\t<li>'44'</li>\n",
       "\t<li>'45'</li>\n",
       "\t<li>'46'</li>\n",
       "\t<li>'47'</li>\n",
       "\t<li>'48'</li>\n",
       "\t<li>'49'</li>\n",
       "\t<li>'50'</li>\n",
       "\t<li>'51'</li>\n",
       "\t<li>'52'</li>\n",
       "\t<li>'53'</li>\n",
       "\t<li>'54'</li>\n",
       "\t<li>'55'</li>\n",
       "\t<li>'56'</li>\n",
       "\t<li>'57'</li>\n",
       "\t<li>'58'</li>\n",
       "\t<li>'59'</li>\n",
       "\t<li>'60'</li>\n",
       "\t<li>'61'</li>\n",
       "\t<li>'62'</li>\n",
       "\t<li>'63'</li>\n",
       "\t<li>'64'</li>\n",
       "\t<li>'65'</li>\n",
       "\t<li>'66'</li>\n",
       "\t<li>'67'</li>\n",
       "\t<li>'68'</li>\n",
       "\t<li>'69'</li>\n",
       "\t<li>'70'</li>\n",
       "\t<li>'71'</li>\n",
       "\t<li>'72'</li>\n",
       "\t<li>'73'</li>\n",
       "\t<li>'74'</li>\n",
       "\t<li>'75'</li>\n",
       "\t<li>'76'</li>\n",
       "\t<li>'77'</li>\n",
       "\t<li>'78'</li>\n",
       "\t<li>'79'</li>\n",
       "\t<li>'80'</li>\n",
       "\t<li>'81'</li>\n",
       "\t<li>'82'</li>\n",
       "\t<li>'83'</li>\n",
       "\t<li>'84'</li>\n",
       "\t<li>'85'</li>\n",
       "\t<li>'86'</li>\n",
       "\t<li>'87'</li>\n",
       "\t<li>'88'</li>\n",
       "\t<li>'89'</li>\n",
       "\t<li>'90'</li>\n",
       "\t<li>'91'</li>\n",
       "\t<li>'92'</li>\n",
       "\t<li>'93'</li>\n",
       "\t<li>'94'</li>\n",
       "\t<li>'95'</li>\n",
       "\t<li>'96'</li>\n",
       "\t<li>'97'</li>\n",
       "\t<li>'98'</li>\n",
       "\t<li>'99'</li>\n",
       "\t<li>'100'</li>\n",
       "\t<li>'101'</li>\n",
       "\t<li>'102'</li>\n",
       "\t<li>'103'</li>\n",
       "\t<li>'104'</li>\n",
       "\t<li>'105'</li>\n",
       "\t<li>'106'</li>\n",
       "\t<li>'107'</li>\n",
       "\t<li>'108'</li>\n",
       "\t<li>'109'</li>\n",
       "\t<li>'110'</li>\n",
       "\t<li>'111'</li>\n",
       "\t<li>'112'</li>\n",
       "\t<li>'113'</li>\n",
       "\t<li>'114'</li>\n",
       "\t<li>'115'</li>\n",
       "\t<li>'116'</li>\n",
       "\t<li>'117'</li>\n",
       "\t<li>'118'</li>\n",
       "\t<li>'119'</li>\n",
       "\t<li>'120'</li>\n",
       "\t<li>'121'</li>\n",
       "\t<li>'122'</li>\n",
       "\t<li>'123'</li>\n",
       "\t<li>'124'</li>\n",
       "\t<li>'125'</li>\n",
       "\t<li>'126'</li>\n",
       "\t<li>'127'</li>\n",
       "\t<li>'128'</li>\n",
       "\t<li>'129'</li>\n",
       "\t<li>'130'</li>\n",
       "\t<li>'131'</li>\n",
       "\t<li>'132'</li>\n",
       "\t<li>'133'</li>\n",
       "\t<li>'134'</li>\n",
       "\t<li>'135'</li>\n",
       "\t<li>'136'</li>\n",
       "\t<li>'137'</li>\n",
       "\t<li>'138'</li>\n",
       "\t<li>'139'</li>\n",
       "\t<li>'140'</li>\n",
       "\t<li>'141'</li>\n",
       "\t<li>'142'</li>\n",
       "\t<li>'143'</li>\n",
       "\t<li>'144'</li>\n",
       "\t<li>'145'</li>\n",
       "\t<li>'146'</li>\n",
       "\t<li>'147'</li>\n",
       "\t<li>'148'</li>\n",
       "\t<li>'149'</li>\n",
       "\t<li>'150'</li>\n",
       "</ol>\n",
       "</li>\n",
       "\t<li><ol class=list-inline>\n",
       "\t<li>'Sepal.Length'</li>\n",
       "\t<li>'Sepal.Width'</li>\n",
       "\t<li>'Petal.Length'</li>\n",
       "\t<li>'Petal.Width'</li>\n",
       "\t<li>'Species'</li>\n",
       "</ol>\n",
       "</li>\n",
       "</ol>\n"
      ],
      "text/latex": [
       "\\begin{enumerate}\n",
       "\\item \\begin{enumerate*}\n",
       "\\item '1'\n",
       "\\item '2'\n",
       "\\item '3'\n",
       "\\item '4'\n",
       "\\item '5'\n",
       "\\item '6'\n",
       "\\item '7'\n",
       "\\item '8'\n",
       "\\item '9'\n",
       "\\item '10'\n",
       "\\item '11'\n",
       "\\item '12'\n",
       "\\item '13'\n",
       "\\item '14'\n",
       "\\item '15'\n",
       "\\item '16'\n",
       "\\item '17'\n",
       "\\item '18'\n",
       "\\item '19'\n",
       "\\item '20'\n",
       "\\item '21'\n",
       "\\item '22'\n",
       "\\item '23'\n",
       "\\item '24'\n",
       "\\item '25'\n",
       "\\item '26'\n",
       "\\item '27'\n",
       "\\item '28'\n",
       "\\item '29'\n",
       "\\item '30'\n",
       "\\item '31'\n",
       "\\item '32'\n",
       "\\item '33'\n",
       "\\item '34'\n",
       "\\item '35'\n",
       "\\item '36'\n",
       "\\item '37'\n",
       "\\item '38'\n",
       "\\item '39'\n",
       "\\item '40'\n",
       "\\item '41'\n",
       "\\item '42'\n",
       "\\item '43'\n",
       "\\item '44'\n",
       "\\item '45'\n",
       "\\item '46'\n",
       "\\item '47'\n",
       "\\item '48'\n",
       "\\item '49'\n",
       "\\item '50'\n",
       "\\item '51'\n",
       "\\item '52'\n",
       "\\item '53'\n",
       "\\item '54'\n",
       "\\item '55'\n",
       "\\item '56'\n",
       "\\item '57'\n",
       "\\item '58'\n",
       "\\item '59'\n",
       "\\item '60'\n",
       "\\item '61'\n",
       "\\item '62'\n",
       "\\item '63'\n",
       "\\item '64'\n",
       "\\item '65'\n",
       "\\item '66'\n",
       "\\item '67'\n",
       "\\item '68'\n",
       "\\item '69'\n",
       "\\item '70'\n",
       "\\item '71'\n",
       "\\item '72'\n",
       "\\item '73'\n",
       "\\item '74'\n",
       "\\item '75'\n",
       "\\item '76'\n",
       "\\item '77'\n",
       "\\item '78'\n",
       "\\item '79'\n",
       "\\item '80'\n",
       "\\item '81'\n",
       "\\item '82'\n",
       "\\item '83'\n",
       "\\item '84'\n",
       "\\item '85'\n",
       "\\item '86'\n",
       "\\item '87'\n",
       "\\item '88'\n",
       "\\item '89'\n",
       "\\item '90'\n",
       "\\item '91'\n",
       "\\item '92'\n",
       "\\item '93'\n",
       "\\item '94'\n",
       "\\item '95'\n",
       "\\item '96'\n",
       "\\item '97'\n",
       "\\item '98'\n",
       "\\item '99'\n",
       "\\item '100'\n",
       "\\item '101'\n",
       "\\item '102'\n",
       "\\item '103'\n",
       "\\item '104'\n",
       "\\item '105'\n",
       "\\item '106'\n",
       "\\item '107'\n",
       "\\item '108'\n",
       "\\item '109'\n",
       "\\item '110'\n",
       "\\item '111'\n",
       "\\item '112'\n",
       "\\item '113'\n",
       "\\item '114'\n",
       "\\item '115'\n",
       "\\item '116'\n",
       "\\item '117'\n",
       "\\item '118'\n",
       "\\item '119'\n",
       "\\item '120'\n",
       "\\item '121'\n",
       "\\item '122'\n",
       "\\item '123'\n",
       "\\item '124'\n",
       "\\item '125'\n",
       "\\item '126'\n",
       "\\item '127'\n",
       "\\item '128'\n",
       "\\item '129'\n",
       "\\item '130'\n",
       "\\item '131'\n",
       "\\item '132'\n",
       "\\item '133'\n",
       "\\item '134'\n",
       "\\item '135'\n",
       "\\item '136'\n",
       "\\item '137'\n",
       "\\item '138'\n",
       "\\item '139'\n",
       "\\item '140'\n",
       "\\item '141'\n",
       "\\item '142'\n",
       "\\item '143'\n",
       "\\item '144'\n",
       "\\item '145'\n",
       "\\item '146'\n",
       "\\item '147'\n",
       "\\item '148'\n",
       "\\item '149'\n",
       "\\item '150'\n",
       "\\end{enumerate*}\n",
       "\n",
       "\\item \\begin{enumerate*}\n",
       "\\item 'Sepal.Length'\n",
       "\\item 'Sepal.Width'\n",
       "\\item 'Petal.Length'\n",
       "\\item 'Petal.Width'\n",
       "\\item 'Species'\n",
       "\\end{enumerate*}\n",
       "\n",
       "\\end{enumerate}\n"
      ],
      "text/markdown": [
       "1. 1. '1'\n",
       "2. '2'\n",
       "3. '3'\n",
       "4. '4'\n",
       "5. '5'\n",
       "6. '6'\n",
       "7. '7'\n",
       "8. '8'\n",
       "9. '9'\n",
       "10. '10'\n",
       "11. '11'\n",
       "12. '12'\n",
       "13. '13'\n",
       "14. '14'\n",
       "15. '15'\n",
       "16. '16'\n",
       "17. '17'\n",
       "18. '18'\n",
       "19. '19'\n",
       "20. '20'\n",
       "21. '21'\n",
       "22. '22'\n",
       "23. '23'\n",
       "24. '24'\n",
       "25. '25'\n",
       "26. '26'\n",
       "27. '27'\n",
       "28. '28'\n",
       "29. '29'\n",
       "30. '30'\n",
       "31. '31'\n",
       "32. '32'\n",
       "33. '33'\n",
       "34. '34'\n",
       "35. '35'\n",
       "36. '36'\n",
       "37. '37'\n",
       "38. '38'\n",
       "39. '39'\n",
       "40. '40'\n",
       "41. '41'\n",
       "42. '42'\n",
       "43. '43'\n",
       "44. '44'\n",
       "45. '45'\n",
       "46. '46'\n",
       "47. '47'\n",
       "48. '48'\n",
       "49. '49'\n",
       "50. '50'\n",
       "51. '51'\n",
       "52. '52'\n",
       "53. '53'\n",
       "54. '54'\n",
       "55. '55'\n",
       "56. '56'\n",
       "57. '57'\n",
       "58. '58'\n",
       "59. '59'\n",
       "60. '60'\n",
       "61. '61'\n",
       "62. '62'\n",
       "63. '63'\n",
       "64. '64'\n",
       "65. '65'\n",
       "66. '66'\n",
       "67. '67'\n",
       "68. '68'\n",
       "69. '69'\n",
       "70. '70'\n",
       "71. '71'\n",
       "72. '72'\n",
       "73. '73'\n",
       "74. '74'\n",
       "75. '75'\n",
       "76. '76'\n",
       "77. '77'\n",
       "78. '78'\n",
       "79. '79'\n",
       "80. '80'\n",
       "81. '81'\n",
       "82. '82'\n",
       "83. '83'\n",
       "84. '84'\n",
       "85. '85'\n",
       "86. '86'\n",
       "87. '87'\n",
       "88. '88'\n",
       "89. '89'\n",
       "90. '90'\n",
       "91. '91'\n",
       "92. '92'\n",
       "93. '93'\n",
       "94. '94'\n",
       "95. '95'\n",
       "96. '96'\n",
       "97. '97'\n",
       "98. '98'\n",
       "99. '99'\n",
       "100. '100'\n",
       "101. '101'\n",
       "102. '102'\n",
       "103. '103'\n",
       "104. '104'\n",
       "105. '105'\n",
       "106. '106'\n",
       "107. '107'\n",
       "108. '108'\n",
       "109. '109'\n",
       "110. '110'\n",
       "111. '111'\n",
       "112. '112'\n",
       "113. '113'\n",
       "114. '114'\n",
       "115. '115'\n",
       "116. '116'\n",
       "117. '117'\n",
       "118. '118'\n",
       "119. '119'\n",
       "120. '120'\n",
       "121. '121'\n",
       "122. '122'\n",
       "123. '123'\n",
       "124. '124'\n",
       "125. '125'\n",
       "126. '126'\n",
       "127. '127'\n",
       "128. '128'\n",
       "129. '129'\n",
       "130. '130'\n",
       "131. '131'\n",
       "132. '132'\n",
       "133. '133'\n",
       "134. '134'\n",
       "135. '135'\n",
       "136. '136'\n",
       "137. '137'\n",
       "138. '138'\n",
       "139. '139'\n",
       "140. '140'\n",
       "141. '141'\n",
       "142. '142'\n",
       "143. '143'\n",
       "144. '144'\n",
       "145. '145'\n",
       "146. '146'\n",
       "147. '147'\n",
       "148. '148'\n",
       "149. '149'\n",
       "150. '150'\n",
       "\n",
       "\n",
       "\n",
       "2. 1. 'Sepal.Length'\n",
       "2. 'Sepal.Width'\n",
       "3. 'Petal.Length'\n",
       "4. 'Petal.Width'\n",
       "5. 'Species'\n",
       "\n",
       "\n",
       "\n",
       "\n",
       "\n"
      ],
      "text/plain": [
       "[[1]]\n",
       "  [1] \"1\"   \"2\"   \"3\"   \"4\"   \"5\"   \"6\"   \"7\"   \"8\"   \"9\"   \"10\"  \"11\"  \"12\" \n",
       " [13] \"13\"  \"14\"  \"15\"  \"16\"  \"17\"  \"18\"  \"19\"  \"20\"  \"21\"  \"22\"  \"23\"  \"24\" \n",
       " [25] \"25\"  \"26\"  \"27\"  \"28\"  \"29\"  \"30\"  \"31\"  \"32\"  \"33\"  \"34\"  \"35\"  \"36\" \n",
       " [37] \"37\"  \"38\"  \"39\"  \"40\"  \"41\"  \"42\"  \"43\"  \"44\"  \"45\"  \"46\"  \"47\"  \"48\" \n",
       " [49] \"49\"  \"50\"  \"51\"  \"52\"  \"53\"  \"54\"  \"55\"  \"56\"  \"57\"  \"58\"  \"59\"  \"60\" \n",
       " [61] \"61\"  \"62\"  \"63\"  \"64\"  \"65\"  \"66\"  \"67\"  \"68\"  \"69\"  \"70\"  \"71\"  \"72\" \n",
       " [73] \"73\"  \"74\"  \"75\"  \"76\"  \"77\"  \"78\"  \"79\"  \"80\"  \"81\"  \"82\"  \"83\"  \"84\" \n",
       " [85] \"85\"  \"86\"  \"87\"  \"88\"  \"89\"  \"90\"  \"91\"  \"92\"  \"93\"  \"94\"  \"95\"  \"96\" \n",
       " [97] \"97\"  \"98\"  \"99\"  \"100\" \"101\" \"102\" \"103\" \"104\" \"105\" \"106\" \"107\" \"108\"\n",
       "[109] \"109\" \"110\" \"111\" \"112\" \"113\" \"114\" \"115\" \"116\" \"117\" \"118\" \"119\" \"120\"\n",
       "[121] \"121\" \"122\" \"123\" \"124\" \"125\" \"126\" \"127\" \"128\" \"129\" \"130\" \"131\" \"132\"\n",
       "[133] \"133\" \"134\" \"135\" \"136\" \"137\" \"138\" \"139\" \"140\" \"141\" \"142\" \"143\" \"144\"\n",
       "[145] \"145\" \"146\" \"147\" \"148\" \"149\" \"150\"\n",
       "\n",
       "[[2]]\n",
       "[1] \"Sepal.Length\" \"Sepal.Width\"  \"Petal.Length\" \"Petal.Width\"  \"Species\"     \n"
      ]
     },
     "metadata": {},
     "output_type": "display_data"
    }
   ],
   "source": [
    "dimnames(iris)"
   ]
  },
  {
   "cell_type": "code",
   "execution_count": 409,
   "metadata": {
    "collapsed": false
   },
   "outputs": [
    {
     "data": {
      "text/html": [
       "3.5"
      ],
      "text/latex": [
       "3.5"
      ],
      "text/markdown": [
       "3.5"
      ],
      "text/plain": [
       "[1] 3.5"
      ]
     },
     "metadata": {},
     "output_type": "display_data"
    }
   ],
   "source": [
    "c( anchurasepalo <- iris$Sepal.Width )[[1]]"
   ]
  },
  {
   "cell_type": "code",
   "execution_count": 412,
   "metadata": {
    "collapsed": false
   },
   "outputs": [
    {
     "data": {
      "text/html": [
       "<ol class=list-inline>\n",
       "\t<li>setosa</li>\n",
       "\t<li>setosa</li>\n",
       "\t<li>setosa</li>\n",
       "\t<li>setosa</li>\n",
       "\t<li>setosa</li>\n",
       "\t<li>setosa</li>\n",
       "\t<li>setosa</li>\n",
       "\t<li>setosa</li>\n",
       "\t<li>setosa</li>\n",
       "\t<li>setosa</li>\n",
       "\t<li>setosa</li>\n",
       "\t<li>setosa</li>\n",
       "\t<li>setosa</li>\n",
       "\t<li>setosa</li>\n",
       "\t<li>setosa</li>\n",
       "\t<li>setosa</li>\n",
       "\t<li>setosa</li>\n",
       "\t<li>setosa</li>\n",
       "\t<li>setosa</li>\n",
       "\t<li>setosa</li>\n",
       "\t<li>setosa</li>\n",
       "\t<li>setosa</li>\n",
       "\t<li>setosa</li>\n",
       "\t<li>setosa</li>\n",
       "\t<li>setosa</li>\n",
       "\t<li>setosa</li>\n",
       "\t<li>setosa</li>\n",
       "\t<li>setosa</li>\n",
       "\t<li>setosa</li>\n",
       "\t<li>setosa</li>\n",
       "\t<li>setosa</li>\n",
       "\t<li>setosa</li>\n",
       "\t<li>setosa</li>\n",
       "\t<li>setosa</li>\n",
       "\t<li>setosa</li>\n",
       "\t<li>setosa</li>\n",
       "\t<li>setosa</li>\n",
       "\t<li>setosa</li>\n",
       "\t<li>setosa</li>\n",
       "\t<li>setosa</li>\n",
       "\t<li>setosa</li>\n",
       "\t<li>setosa</li>\n",
       "\t<li>setosa</li>\n",
       "\t<li>setosa</li>\n",
       "\t<li>setosa</li>\n",
       "\t<li>setosa</li>\n",
       "\t<li>setosa</li>\n",
       "\t<li>setosa</li>\n",
       "\t<li>setosa</li>\n",
       "\t<li>setosa</li>\n",
       "\t<li>versicolor</li>\n",
       "\t<li>versicolor</li>\n",
       "\t<li>versicolor</li>\n",
       "\t<li>versicolor</li>\n",
       "\t<li>versicolor</li>\n",
       "\t<li>versicolor</li>\n",
       "\t<li>versicolor</li>\n",
       "\t<li>versicolor</li>\n",
       "\t<li>versicolor</li>\n",
       "\t<li>versicolor</li>\n",
       "\t<li>versicolor</li>\n",
       "\t<li>versicolor</li>\n",
       "\t<li>versicolor</li>\n",
       "\t<li>versicolor</li>\n",
       "\t<li>versicolor</li>\n",
       "\t<li>versicolor</li>\n",
       "\t<li>versicolor</li>\n",
       "\t<li>versicolor</li>\n",
       "\t<li>versicolor</li>\n",
       "\t<li>versicolor</li>\n",
       "\t<li>versicolor</li>\n",
       "\t<li>versicolor</li>\n",
       "\t<li>versicolor</li>\n",
       "\t<li>versicolor</li>\n",
       "\t<li>versicolor</li>\n",
       "\t<li>versicolor</li>\n",
       "\t<li>versicolor</li>\n",
       "\t<li>versicolor</li>\n",
       "\t<li>versicolor</li>\n",
       "\t<li>versicolor</li>\n",
       "\t<li>versicolor</li>\n",
       "\t<li>versicolor</li>\n",
       "\t<li>versicolor</li>\n",
       "\t<li>versicolor</li>\n",
       "\t<li>versicolor</li>\n",
       "\t<li>versicolor</li>\n",
       "\t<li>versicolor</li>\n",
       "\t<li>versicolor</li>\n",
       "\t<li>versicolor</li>\n",
       "\t<li>versicolor</li>\n",
       "\t<li>versicolor</li>\n",
       "\t<li>versicolor</li>\n",
       "\t<li>versicolor</li>\n",
       "\t<li>versicolor</li>\n",
       "\t<li>versicolor</li>\n",
       "\t<li>versicolor</li>\n",
       "\t<li>versicolor</li>\n",
       "\t<li>versicolor</li>\n",
       "\t<li>versicolor</li>\n",
       "\t<li>versicolor</li>\n",
       "\t<li>virginica</li>\n",
       "\t<li>virginica</li>\n",
       "\t<li>virginica</li>\n",
       "\t<li>virginica</li>\n",
       "\t<li>virginica</li>\n",
       "\t<li>virginica</li>\n",
       "\t<li>virginica</li>\n",
       "\t<li>virginica</li>\n",
       "\t<li>virginica</li>\n",
       "\t<li>virginica</li>\n",
       "\t<li>virginica</li>\n",
       "\t<li>virginica</li>\n",
       "\t<li>virginica</li>\n",
       "\t<li>virginica</li>\n",
       "\t<li>virginica</li>\n",
       "\t<li>virginica</li>\n",
       "\t<li>virginica</li>\n",
       "\t<li>virginica</li>\n",
       "\t<li>virginica</li>\n",
       "\t<li>virginica</li>\n",
       "\t<li>virginica</li>\n",
       "\t<li>virginica</li>\n",
       "\t<li>virginica</li>\n",
       "\t<li>virginica</li>\n",
       "\t<li>virginica</li>\n",
       "\t<li>virginica</li>\n",
       "\t<li>virginica</li>\n",
       "\t<li>virginica</li>\n",
       "\t<li>virginica</li>\n",
       "\t<li>virginica</li>\n",
       "\t<li>virginica</li>\n",
       "\t<li>virginica</li>\n",
       "\t<li>virginica</li>\n",
       "\t<li>virginica</li>\n",
       "\t<li>virginica</li>\n",
       "\t<li>virginica</li>\n",
       "\t<li>virginica</li>\n",
       "\t<li>virginica</li>\n",
       "\t<li>virginica</li>\n",
       "\t<li>virginica</li>\n",
       "\t<li>virginica</li>\n",
       "\t<li>virginica</li>\n",
       "\t<li>virginica</li>\n",
       "\t<li>virginica</li>\n",
       "\t<li>virginica</li>\n",
       "\t<li>virginica</li>\n",
       "\t<li>virginica</li>\n",
       "\t<li>virginica</li>\n",
       "\t<li>virginica</li>\n",
       "\t<li>virginica</li>\n",
       "</ol>\n"
      ],
      "text/latex": [
       "\\begin{enumerate*}\n",
       "\\item setosa\n",
       "\\item setosa\n",
       "\\item setosa\n",
       "\\item setosa\n",
       "\\item setosa\n",
       "\\item setosa\n",
       "\\item setosa\n",
       "\\item setosa\n",
       "\\item setosa\n",
       "\\item setosa\n",
       "\\item setosa\n",
       "\\item setosa\n",
       "\\item setosa\n",
       "\\item setosa\n",
       "\\item setosa\n",
       "\\item setosa\n",
       "\\item setosa\n",
       "\\item setosa\n",
       "\\item setosa\n",
       "\\item setosa\n",
       "\\item setosa\n",
       "\\item setosa\n",
       "\\item setosa\n",
       "\\item setosa\n",
       "\\item setosa\n",
       "\\item setosa\n",
       "\\item setosa\n",
       "\\item setosa\n",
       "\\item setosa\n",
       "\\item setosa\n",
       "\\item setosa\n",
       "\\item setosa\n",
       "\\item setosa\n",
       "\\item setosa\n",
       "\\item setosa\n",
       "\\item setosa\n",
       "\\item setosa\n",
       "\\item setosa\n",
       "\\item setosa\n",
       "\\item setosa\n",
       "\\item setosa\n",
       "\\item setosa\n",
       "\\item setosa\n",
       "\\item setosa\n",
       "\\item setosa\n",
       "\\item setosa\n",
       "\\item setosa\n",
       "\\item setosa\n",
       "\\item setosa\n",
       "\\item setosa\n",
       "\\item versicolor\n",
       "\\item versicolor\n",
       "\\item versicolor\n",
       "\\item versicolor\n",
       "\\item versicolor\n",
       "\\item versicolor\n",
       "\\item versicolor\n",
       "\\item versicolor\n",
       "\\item versicolor\n",
       "\\item versicolor\n",
       "\\item versicolor\n",
       "\\item versicolor\n",
       "\\item versicolor\n",
       "\\item versicolor\n",
       "\\item versicolor\n",
       "\\item versicolor\n",
       "\\item versicolor\n",
       "\\item versicolor\n",
       "\\item versicolor\n",
       "\\item versicolor\n",
       "\\item versicolor\n",
       "\\item versicolor\n",
       "\\item versicolor\n",
       "\\item versicolor\n",
       "\\item versicolor\n",
       "\\item versicolor\n",
       "\\item versicolor\n",
       "\\item versicolor\n",
       "\\item versicolor\n",
       "\\item versicolor\n",
       "\\item versicolor\n",
       "\\item versicolor\n",
       "\\item versicolor\n",
       "\\item versicolor\n",
       "\\item versicolor\n",
       "\\item versicolor\n",
       "\\item versicolor\n",
       "\\item versicolor\n",
       "\\item versicolor\n",
       "\\item versicolor\n",
       "\\item versicolor\n",
       "\\item versicolor\n",
       "\\item versicolor\n",
       "\\item versicolor\n",
       "\\item versicolor\n",
       "\\item versicolor\n",
       "\\item versicolor\n",
       "\\item versicolor\n",
       "\\item versicolor\n",
       "\\item versicolor\n",
       "\\item virginica\n",
       "\\item virginica\n",
       "\\item virginica\n",
       "\\item virginica\n",
       "\\item virginica\n",
       "\\item virginica\n",
       "\\item virginica\n",
       "\\item virginica\n",
       "\\item virginica\n",
       "\\item virginica\n",
       "\\item virginica\n",
       "\\item virginica\n",
       "\\item virginica\n",
       "\\item virginica\n",
       "\\item virginica\n",
       "\\item virginica\n",
       "\\item virginica\n",
       "\\item virginica\n",
       "\\item virginica\n",
       "\\item virginica\n",
       "\\item virginica\n",
       "\\item virginica\n",
       "\\item virginica\n",
       "\\item virginica\n",
       "\\item virginica\n",
       "\\item virginica\n",
       "\\item virginica\n",
       "\\item virginica\n",
       "\\item virginica\n",
       "\\item virginica\n",
       "\\item virginica\n",
       "\\item virginica\n",
       "\\item virginica\n",
       "\\item virginica\n",
       "\\item virginica\n",
       "\\item virginica\n",
       "\\item virginica\n",
       "\\item virginica\n",
       "\\item virginica\n",
       "\\item virginica\n",
       "\\item virginica\n",
       "\\item virginica\n",
       "\\item virginica\n",
       "\\item virginica\n",
       "\\item virginica\n",
       "\\item virginica\n",
       "\\item virginica\n",
       "\\item virginica\n",
       "\\item virginica\n",
       "\\item virginica\n",
       "\\end{enumerate*}\n"
      ],
      "text/markdown": [
       "1. setosa\n",
       "2. setosa\n",
       "3. setosa\n",
       "4. setosa\n",
       "5. setosa\n",
       "6. setosa\n",
       "7. setosa\n",
       "8. setosa\n",
       "9. setosa\n",
       "10. setosa\n",
       "11. setosa\n",
       "12. setosa\n",
       "13. setosa\n",
       "14. setosa\n",
       "15. setosa\n",
       "16. setosa\n",
       "17. setosa\n",
       "18. setosa\n",
       "19. setosa\n",
       "20. setosa\n",
       "21. setosa\n",
       "22. setosa\n",
       "23. setosa\n",
       "24. setosa\n",
       "25. setosa\n",
       "26. setosa\n",
       "27. setosa\n",
       "28. setosa\n",
       "29. setosa\n",
       "30. setosa\n",
       "31. setosa\n",
       "32. setosa\n",
       "33. setosa\n",
       "34. setosa\n",
       "35. setosa\n",
       "36. setosa\n",
       "37. setosa\n",
       "38. setosa\n",
       "39. setosa\n",
       "40. setosa\n",
       "41. setosa\n",
       "42. setosa\n",
       "43. setosa\n",
       "44. setosa\n",
       "45. setosa\n",
       "46. setosa\n",
       "47. setosa\n",
       "48. setosa\n",
       "49. setosa\n",
       "50. setosa\n",
       "51. versicolor\n",
       "52. versicolor\n",
       "53. versicolor\n",
       "54. versicolor\n",
       "55. versicolor\n",
       "56. versicolor\n",
       "57. versicolor\n",
       "58. versicolor\n",
       "59. versicolor\n",
       "60. versicolor\n",
       "61. versicolor\n",
       "62. versicolor\n",
       "63. versicolor\n",
       "64. versicolor\n",
       "65. versicolor\n",
       "66. versicolor\n",
       "67. versicolor\n",
       "68. versicolor\n",
       "69. versicolor\n",
       "70. versicolor\n",
       "71. versicolor\n",
       "72. versicolor\n",
       "73. versicolor\n",
       "74. versicolor\n",
       "75. versicolor\n",
       "76. versicolor\n",
       "77. versicolor\n",
       "78. versicolor\n",
       "79. versicolor\n",
       "80. versicolor\n",
       "81. versicolor\n",
       "82. versicolor\n",
       "83. versicolor\n",
       "84. versicolor\n",
       "85. versicolor\n",
       "86. versicolor\n",
       "87. versicolor\n",
       "88. versicolor\n",
       "89. versicolor\n",
       "90. versicolor\n",
       "91. versicolor\n",
       "92. versicolor\n",
       "93. versicolor\n",
       "94. versicolor\n",
       "95. versicolor\n",
       "96. versicolor\n",
       "97. versicolor\n",
       "98. versicolor\n",
       "99. versicolor\n",
       "100. versicolor\n",
       "101. virginica\n",
       "102. virginica\n",
       "103. virginica\n",
       "104. virginica\n",
       "105. virginica\n",
       "106. virginica\n",
       "107. virginica\n",
       "108. virginica\n",
       "109. virginica\n",
       "110. virginica\n",
       "111. virginica\n",
       "112. virginica\n",
       "113. virginica\n",
       "114. virginica\n",
       "115. virginica\n",
       "116. virginica\n",
       "117. virginica\n",
       "118. virginica\n",
       "119. virginica\n",
       "120. virginica\n",
       "121. virginica\n",
       "122. virginica\n",
       "123. virginica\n",
       "124. virginica\n",
       "125. virginica\n",
       "126. virginica\n",
       "127. virginica\n",
       "128. virginica\n",
       "129. virginica\n",
       "130. virginica\n",
       "131. virginica\n",
       "132. virginica\n",
       "133. virginica\n",
       "134. virginica\n",
       "135. virginica\n",
       "136. virginica\n",
       "137. virginica\n",
       "138. virginica\n",
       "139. virginica\n",
       "140. virginica\n",
       "141. virginica\n",
       "142. virginica\n",
       "143. virginica\n",
       "144. virginica\n",
       "145. virginica\n",
       "146. virginica\n",
       "147. virginica\n",
       "148. virginica\n",
       "149. virginica\n",
       "150. virginica\n",
       "\n",
       "\n"
      ],
      "text/plain": [
       "  [1] setosa     setosa     setosa     setosa     setosa     setosa    \n",
       "  [7] setosa     setosa     setosa     setosa     setosa     setosa    \n",
       " [13] setosa     setosa     setosa     setosa     setosa     setosa    \n",
       " [19] setosa     setosa     setosa     setosa     setosa     setosa    \n",
       " [25] setosa     setosa     setosa     setosa     setosa     setosa    \n",
       " [31] setosa     setosa     setosa     setosa     setosa     setosa    \n",
       " [37] setosa     setosa     setosa     setosa     setosa     setosa    \n",
       " [43] setosa     setosa     setosa     setosa     setosa     setosa    \n",
       " [49] setosa     setosa     versicolor versicolor versicolor versicolor\n",
       " [55] versicolor versicolor versicolor versicolor versicolor versicolor\n",
       " [61] versicolor versicolor versicolor versicolor versicolor versicolor\n",
       " [67] versicolor versicolor versicolor versicolor versicolor versicolor\n",
       " [73] versicolor versicolor versicolor versicolor versicolor versicolor\n",
       " [79] versicolor versicolor versicolor versicolor versicolor versicolor\n",
       " [85] versicolor versicolor versicolor versicolor versicolor versicolor\n",
       " [91] versicolor versicolor versicolor versicolor versicolor versicolor\n",
       " [97] versicolor versicolor versicolor versicolor virginica  virginica \n",
       "[103] virginica  virginica  virginica  virginica  virginica  virginica \n",
       "[109] virginica  virginica  virginica  virginica  virginica  virginica \n",
       "[115] virginica  virginica  virginica  virginica  virginica  virginica \n",
       "[121] virginica  virginica  virginica  virginica  virginica  virginica \n",
       "[127] virginica  virginica  virginica  virginica  virginica  virginica \n",
       "[133] virginica  virginica  virginica  virginica  virginica  virginica \n",
       "[139] virginica  virginica  virginica  virginica  virginica  virginica \n",
       "[145] virginica  virginica  virginica  virginica  virginica  virginica \n",
       "Levels: setosa versicolor virginica"
      ]
     },
     "metadata": {},
     "output_type": "display_data"
    },
    {
     "data": {
      "text/html": [
       "TRUE"
      ],
      "text/latex": [
       "TRUE"
      ],
      "text/markdown": [
       "TRUE"
      ],
      "text/plain": [
       "[1] TRUE"
      ]
     },
     "metadata": {},
     "output_type": "display_data"
    }
   ],
   "source": [
    "( variedad <- iris$Species )\n",
    "\n",
    "is.factor(variedad)\n",
    "\n"
   ]
  },
  {
   "cell_type": "code",
   "execution_count": 413,
   "metadata": {
    "collapsed": false
   },
   "outputs": [
    {
     "data": {
      "text/html": [
       "<table>\n",
       "<thead><tr><th scope=col>alet</th><th scope=col>bnum</th><th scope=col>caract</th><th scope=col>dlogic</th></tr></thead>\n",
       "<tbody>\n",
       "\t<tr><td>A    </td><td> 80  </td><td>X    </td><td> TRUE</td></tr>\n",
       "\t<tr><td>B    </td><td>120  </td><td>X    </td><td>FALSE</td></tr>\n",
       "\t<tr><td>C    </td><td> 75  </td><td>Y    </td><td>FALSE</td></tr>\n",
       "\t<tr><td>D    </td><td> 98  </td><td>Z    </td><td> TRUE</td></tr>\n",
       "\t<tr><td>E    </td><td> 33  </td><td>Y    </td><td> TRUE</td></tr>\n",
       "</tbody>\n",
       "</table>\n"
      ],
      "text/latex": [
       "\\begin{tabular}{r|llll}\n",
       " alet & bnum & caract & dlogic\\\\\n",
       "\\hline\n",
       "\t A     &  80   & X     &  TRUE\\\\\n",
       "\t B     & 120   & X     & FALSE\\\\\n",
       "\t C     &  75   & Y     & FALSE\\\\\n",
       "\t D     &  98   & Z     &  TRUE\\\\\n",
       "\t E     &  33   & Y     &  TRUE\\\\\n",
       "\\end{tabular}\n"
      ],
      "text/markdown": [
       "\n",
       "alet | bnum | caract | dlogic | \n",
       "|---|---|---|---|---|\n",
       "| A     |  80   | X     |  TRUE | \n",
       "| B     | 120   | X     | FALSE | \n",
       "| C     |  75   | Y     | FALSE | \n",
       "| D     |  98   | Z     |  TRUE | \n",
       "| E     |  33   | Y     |  TRUE | \n",
       "\n",
       "\n"
      ],
      "text/plain": [
       "  alet bnum caract dlogic\n",
       "1 A     80  X       TRUE \n",
       "2 B    120  X      FALSE \n",
       "3 C     75  Y      FALSE \n",
       "4 D     98  Z       TRUE \n",
       "5 E     33  Y       TRUE "
      ]
     },
     "metadata": {},
     "output_type": "display_data"
    },
    {
     "data": {
      "text/html": [
       "TRUE"
      ],
      "text/latex": [
       "TRUE"
      ],
      "text/markdown": [
       "TRUE"
      ],
      "text/plain": [
       "[1] TRUE"
      ]
     },
     "metadata": {},
     "output_type": "display_data"
    },
    {
     "data": {
      "text/html": [
       "'data.frame'"
      ],
      "text/latex": [
       "'data.frame'"
      ],
      "text/markdown": [
       "'data.frame'"
      ],
      "text/plain": [
       "[1] \"data.frame\""
      ]
     },
     "metadata": {},
     "output_type": "display_data"
    }
   ],
   "source": [
    "alet <- LETTERS[1:5]\n",
    "bnum <- c(80, 120, 75, 98, 33)\n",
    "caract <- c(\"X\", \"X\", \"Y\", \"Z\", \"Y\")\n",
    "dlogic <- c(T, F, F, T, T) # T es TRUE, y F es FALSE\n",
    "datos <- data.frame(alet, bnum, caract,dlogic)\n",
    "datos\n",
    "is.data.frame(datos)\n",
    "class(datos)"
   ]
  },
  {
   "cell_type": "code",
   "execution_count": 414,
   "metadata": {
    "collapsed": false
   },
   "outputs": [
    {
     "data": {
      "text/html": [
       "<table>\n",
       "<thead><tr><th scope=col>Var1</th><th scope=col>Var2</th></tr></thead>\n",
       "<tbody>\n",
       "\t<tr><td>a</td><td>k</td></tr>\n",
       "\t<tr><td>b</td><td>k</td></tr>\n",
       "\t<tr><td>c</td><td>k</td></tr>\n",
       "\t<tr><td>d</td><td>k</td></tr>\n",
       "\t<tr><td>a</td><td>l</td></tr>\n",
       "\t<tr><td>b</td><td>l</td></tr>\n",
       "\t<tr><td>c</td><td>l</td></tr>\n",
       "\t<tr><td>d</td><td>l</td></tr>\n",
       "\t<tr><td>a</td><td>m</td></tr>\n",
       "\t<tr><td>b</td><td>m</td></tr>\n",
       "\t<tr><td>c</td><td>m</td></tr>\n",
       "\t<tr><td>d</td><td>m</td></tr>\n",
       "</tbody>\n",
       "</table>\n"
      ],
      "text/latex": [
       "\\begin{tabular}{r|ll}\n",
       " Var1 & Var2\\\\\n",
       "\\hline\n",
       "\t a & k\\\\\n",
       "\t b & k\\\\\n",
       "\t c & k\\\\\n",
       "\t d & k\\\\\n",
       "\t a & l\\\\\n",
       "\t b & l\\\\\n",
       "\t c & l\\\\\n",
       "\t d & l\\\\\n",
       "\t a & m\\\\\n",
       "\t b & m\\\\\n",
       "\t c & m\\\\\n",
       "\t d & m\\\\\n",
       "\\end{tabular}\n"
      ],
      "text/markdown": [
       "\n",
       "Var1 | Var2 | \n",
       "|---|---|---|---|---|---|---|---|---|---|---|---|\n",
       "| a | k | \n",
       "| b | k | \n",
       "| c | k | \n",
       "| d | k | \n",
       "| a | l | \n",
       "| b | l | \n",
       "| c | l | \n",
       "| d | l | \n",
       "| a | m | \n",
       "| b | m | \n",
       "| c | m | \n",
       "| d | m | \n",
       "\n",
       "\n"
      ],
      "text/plain": [
       "   Var1 Var2\n",
       "1  a    k   \n",
       "2  b    k   \n",
       "3  c    k   \n",
       "4  d    k   \n",
       "5  a    l   \n",
       "6  b    l   \n",
       "7  c    l   \n",
       "8  d    l   \n",
       "9  a    m   \n",
       "10 b    m   \n",
       "11 c    m   \n",
       "12 d    m   "
      ]
     },
     "metadata": {},
     "output_type": "display_data"
    }
   ],
   "source": [
    "?expand.grid\n",
    "X <- letters[1:4]\n",
    "Y <- letters[11:13]\n",
    "expand.grid(X,Y)"
   ]
  },
  {
   "cell_type": "code",
   "execution_count": 420,
   "metadata": {
    "collapsed": false
   },
   "outputs": [
    {
     "data": {
      "text/html": [
       "<table>\n",
       "<thead><tr><th scope=col>ident</th><th scope=col>grupo</th><th scope=col>t</th><th scope=col>valor</th><th scope=col>result</th></tr></thead>\n",
       "<tbody>\n",
       "\t<tr><td> 1   </td><td>A    </td><td>1    </td><td>20   </td><td> TRUE</td></tr>\n",
       "\t<tr><td> 2   </td><td>A    </td><td>2    </td><td>13   </td><td>FALSE</td></tr>\n",
       "\t<tr><td> 3   </td><td>A    </td><td>3    </td><td>14   </td><td> TRUE</td></tr>\n",
       "\t<tr><td> 4   </td><td>A    </td><td>1    </td><td> 9   </td><td>FALSE</td></tr>\n",
       "\t<tr><td> 5   </td><td>A    </td><td>2    </td><td>10   </td><td> TRUE</td></tr>\n",
       "\t<tr><td> 6   </td><td>A    </td><td>3    </td><td>14   </td><td>FALSE</td></tr>\n",
       "\t<tr><td> 7   </td><td>B    </td><td>1    </td><td>16   </td><td> TRUE</td></tr>\n",
       "\t<tr><td> 8   </td><td>B    </td><td>2    </td><td>22   </td><td>FALSE</td></tr>\n",
       "\t<tr><td> 9   </td><td>B    </td><td>3    </td><td>17   </td><td> TRUE</td></tr>\n",
       "\t<tr><td>10   </td><td>B    </td><td>1    </td><td>13   </td><td>FALSE</td></tr>\n",
       "\t<tr><td>11   </td><td>B    </td><td>2    </td><td>19   </td><td> TRUE</td></tr>\n",
       "\t<tr><td>12   </td><td>B    </td><td>3    </td><td> 8   </td><td>FALSE</td></tr>\n",
       "</tbody>\n",
       "</table>\n"
      ],
      "text/latex": [
       "\\begin{tabular}{r|lllll}\n",
       " ident & grupo & t & valor & result\\\\\n",
       "\\hline\n",
       "\t  1    & A     & 1     & 20    &  TRUE\\\\\n",
       "\t  2    & A     & 2     & 13    & FALSE\\\\\n",
       "\t  3    & A     & 3     & 14    &  TRUE\\\\\n",
       "\t  4    & A     & 1     &  9    & FALSE\\\\\n",
       "\t  5    & A     & 2     & 10    &  TRUE\\\\\n",
       "\t  6    & A     & 3     & 14    & FALSE\\\\\n",
       "\t  7    & B     & 1     & 16    &  TRUE\\\\\n",
       "\t  8    & B     & 2     & 22    & FALSE\\\\\n",
       "\t  9    & B     & 3     & 17    &  TRUE\\\\\n",
       "\t 10    & B     & 1     & 13    & FALSE\\\\\n",
       "\t 11    & B     & 2     & 19    &  TRUE\\\\\n",
       "\t 12    & B     & 3     &  8    & FALSE\\\\\n",
       "\\end{tabular}\n"
      ],
      "text/markdown": [
       "\n",
       "ident | grupo | t | valor | result | \n",
       "|---|---|---|---|---|---|---|---|---|---|---|---|\n",
       "|  1    | A     | 1     | 20    |  TRUE | \n",
       "|  2    | A     | 2     | 13    | FALSE | \n",
       "|  3    | A     | 3     | 14    |  TRUE | \n",
       "|  4    | A     | 1     |  9    | FALSE | \n",
       "|  5    | A     | 2     | 10    |  TRUE | \n",
       "|  6    | A     | 3     | 14    | FALSE | \n",
       "|  7    | B     | 1     | 16    |  TRUE | \n",
       "|  8    | B     | 2     | 22    | FALSE | \n",
       "|  9    | B     | 3     | 17    |  TRUE | \n",
       "| 10    | B     | 1     | 13    | FALSE | \n",
       "| 11    | B     | 2     | 19    |  TRUE | \n",
       "| 12    | B     | 3     |  8    | FALSE | \n",
       "\n",
       "\n"
      ],
      "text/plain": [
       "   ident grupo t valor result\n",
       "1   1    A     1 20     TRUE \n",
       "2   2    A     2 13    FALSE \n",
       "3   3    A     3 14     TRUE \n",
       "4   4    A     1  9    FALSE \n",
       "5   5    A     2 10     TRUE \n",
       "6   6    A     3 14    FALSE \n",
       "7   7    B     1 16     TRUE \n",
       "8   8    B     2 22    FALSE \n",
       "9   9    B     3 17     TRUE \n",
       "10 10    B     1 13    FALSE \n",
       "11 11    B     2 19     TRUE \n",
       "12 12    B     3  8    FALSE "
      ]
     },
     "metadata": {},
     "output_type": "display_data"
    }
   ],
   "source": [
    "ident=1:12\n",
    "grupo=c(rep(\"A\",6),rep(\"B\",6))\n",
    "t=c(rep(c(1,2,3),4))\n",
    "result=rep(c(TRUE,FALSE),6)\n",
    "valor <- c( 20, 13, 14, 9, 10, 14, 16, 22, 17, 13, 19, 8)\n",
    "data.frame(ident,grupo,t,valor,result)"
   ]
  },
  {
   "cell_type": "code",
   "execution_count": 422,
   "metadata": {
    "collapsed": false
   },
   "outputs": [
    {
     "name": "stdout",
     "output_type": "stream",
     "text": [
      "List of 3\n",
      " $ curso   : chr \"SME\"\n",
      " $ no.temas: num 4\n",
      " $ notas   : num [1:5] 7 8 8 6 9\n"
     ]
    }
   ],
   "source": [
    "lista1 <- list(curso=\"SME\", no.temas=4, notas=c(7,8,8,6,9) )\n",
    "str(lista1)"
   ]
  },
  {
   "cell_type": "code",
   "execution_count": 423,
   "metadata": {
    "collapsed": false
   },
   "outputs": [
    {
     "data": {
      "text/html": [
       "'SME'"
      ],
      "text/latex": [
       "'SME'"
      ],
      "text/markdown": [
       "'SME'"
      ],
      "text/plain": [
       "[1] \"SME\""
      ]
     },
     "metadata": {},
     "output_type": "display_data"
    }
   ],
   "source": [
    "lista1$curso"
   ]
  },
  {
   "cell_type": "code",
   "execution_count": 424,
   "metadata": {
    "collapsed": false
   },
   "outputs": [
    {
     "data": {
      "text/html": [
       "<strong>$notas</strong> = <ol class=list-inline>\n",
       "\t<li>7</li>\n",
       "\t<li>8</li>\n",
       "\t<li>8</li>\n",
       "\t<li>6</li>\n",
       "\t<li>9</li>\n",
       "</ol>\n"
      ],
      "text/latex": [
       "\\textbf{\\$notas} = \\begin{enumerate*}\n",
       "\\item 7\n",
       "\\item 8\n",
       "\\item 8\n",
       "\\item 6\n",
       "\\item 9\n",
       "\\end{enumerate*}\n"
      ],
      "text/markdown": [
       "**$notas** = 1. 7\n",
       "2. 8\n",
       "3. 8\n",
       "4. 6\n",
       "5. 9\n",
       "\n",
       "\n"
      ],
      "text/plain": [
       "$notas\n",
       "[1] 7 8 8 6 9\n"
      ]
     },
     "metadata": {},
     "output_type": "display_data"
    }
   ],
   "source": [
    "lista1[3]"
   ]
  },
  {
   "cell_type": "code",
   "execution_count": 425,
   "metadata": {
    "collapsed": false
   },
   "outputs": [
    {
     "data": {
      "text/html": [
       "<ol class=list-inline>\n",
       "\t<li>7</li>\n",
       "\t<li>8</li>\n",
       "\t<li>8</li>\n",
       "\t<li>6</li>\n",
       "\t<li>9</li>\n",
       "</ol>\n"
      ],
      "text/latex": [
       "\\begin{enumerate*}\n",
       "\\item 7\n",
       "\\item 8\n",
       "\\item 8\n",
       "\\item 6\n",
       "\\item 9\n",
       "\\end{enumerate*}\n"
      ],
      "text/markdown": [
       "1. 7\n",
       "2. 8\n",
       "3. 8\n",
       "4. 6\n",
       "5. 9\n",
       "\n",
       "\n"
      ],
      "text/plain": [
       "[1] 7 8 8 6 9"
      ]
     },
     "metadata": {},
     "output_type": "display_data"
    }
   ],
   "source": [
    "lista1[[3]]"
   ]
  },
  {
   "cell_type": "code",
   "execution_count": 426,
   "metadata": {
    "collapsed": true
   },
   "outputs": [],
   "source": [
    "E <- eigen(matrix(c(-1,2,-4,5,7,0,0,8,3), nrow=3))"
   ]
  },
  {
   "cell_type": "code",
   "execution_count": 427,
   "metadata": {
    "collapsed": false
   },
   "outputs": [
    {
     "data": {
      "text/html": [
       "'list'"
      ],
      "text/latex": [
       "'list'"
      ],
      "text/markdown": [
       "'list'"
      ],
      "text/plain": [
       "[1] \"list\""
      ]
     },
     "metadata": {},
     "output_type": "display_data"
    }
   ],
   "source": [
    "class(E)"
   ]
  },
  {
   "cell_type": "code",
   "execution_count": 428,
   "metadata": {
    "collapsed": false
   },
   "outputs": [
    {
     "name": "stdout",
     "output_type": "stream",
     "text": [
      "List of 2\n",
      " $ values : cplx [1:3] 6.5+3.27i 6.5-3.27i -3.99+0i\n",
      " $ vectors: cplx [1:3, 1:3] -0.438+0.191i -0.782+0i 0.159-0.367i ...\n"
     ]
    }
   ],
   "source": [
    "str(E)"
   ]
  },
  {
   "cell_type": "code",
   "execution_count": 430,
   "metadata": {
    "collapsed": false
   },
   "outputs": [
    {
     "data": {
      "text/html": [
       "<ol class=list-inline>\n",
       "\t<li>6.49586182690446+3.26544786184429i</li>\n",
       "\t<li>6.49586182690446-3.26544786184429i</li>\n",
       "\t<li>-3.99172365380893+0i</li>\n",
       "</ol>\n"
      ],
      "text/latex": [
       "\\begin{enumerate*}\n",
       "\\item 6.49586182690446+3.26544786184429i\n",
       "\\item 6.49586182690446-3.26544786184429i\n",
       "\\item -3.99172365380893+0i\n",
       "\\end{enumerate*}\n"
      ],
      "text/markdown": [
       "1. 6.49586182690446+3.26544786184429i\n",
       "2. 6.49586182690446-3.26544786184429i\n",
       "3. -3.99172365380893+0i\n",
       "\n",
       "\n"
      ],
      "text/plain": [
       "[1]  6.495862+3.265448i  6.495862-3.265448i -3.991724+0.000000i"
      ]
     },
     "metadata": {},
     "output_type": "display_data"
    }
   ],
   "source": [
    "E$values"
   ]
  },
  {
   "cell_type": "code",
   "execution_count": 432,
   "metadata": {
    "collapsed": false
   },
   "outputs": [
    {
     "data": {
      "text/html": [
       "'complex'"
      ],
      "text/latex": [
       "'complex'"
      ],
      "text/markdown": [
       "'complex'"
      ],
      "text/plain": [
       "[1] \"complex\""
      ]
     },
     "metadata": {},
     "output_type": "display_data"
    }
   ],
   "source": [
    "typeof(E$values)"
   ]
  },
  {
   "cell_type": "code",
   "execution_count": 433,
   "metadata": {
    "collapsed": false
   },
   "outputs": [
    {
     "data": {
      "text/html": [
       "-3.99172365380893+0i"
      ],
      "text/latex": [
       "-3.99172365380893+0i"
      ],
      "text/markdown": [
       "-3.99172365380893+0i"
      ],
      "text/plain": [
       "[1] -3.991724+0i"
      ]
     },
     "metadata": {},
     "output_type": "display_data"
    }
   ],
   "source": [
    "E$values[[3]]"
   ]
  },
  {
   "cell_type": "code",
   "execution_count": 434,
   "metadata": {
    "collapsed": false
   },
   "outputs": [
    {
     "data": {
      "text/html": [
       "-0.781958644270772+0i"
      ],
      "text/latex": [
       "-0.781958644270772+0i"
      ],
      "text/markdown": [
       "-0.781958644270772+0i"
      ],
      "text/plain": [
       "[1] -0.7819586+0i"
      ]
     },
     "metadata": {},
     "output_type": "display_data"
    }
   ],
   "source": [
    "E[[2]][2,2]\n",
    "\n"
   ]
  },
  {
   "cell_type": "code",
   "execution_count": 437,
   "metadata": {
    "collapsed": false
   },
   "outputs": [
    {
     "data": {
      "image/png": "[encoded data removed]",
      "text/plain": [
       "Plot with title “x/(y + exp(z))”"
      ]
     },
     "metadata": {},
     "output_type": "display_data"
    }
   ],
   "source": [
    "exp1 <- expression(x / (y + exp(z)))\n",
    "x <- 1:10; y <- 2*x; z <- x^0\n",
    "plot(x, eval(exp1), main=exp1)"
   ]
  },
  {
   "cell_type": "code",
   "execution_count": 438,
   "metadata": {
    "collapsed": false
   },
   "outputs": [
    {
     "name": "stdout",
     "output_type": "stream",
     "text": [
      "\n",
      "\n",
      "\tdemo(plotmath)\n",
      "\t---- ~~~~~~~~\n",
      "\n",
      "> #  Copyright (C) 2002-2009 The R Core Team\n",
      "> \n",
      "> require(datasets)\n",
      "\n",
      "> require(grDevices); require(graphics)\n",
      "\n",
      "> ## --- \"math annotation\" in plots :\n",
      "> \n",
      "> ######\n",
      "> # create tables of mathematical annotation functionality\n",
      "> ######\n",
      "> make.table <- function(nr, nc) {\n",
      "+     savepar <- par(mar=rep(0, 4), pty=\"s\")\n",
      "+     plot(c(0, nc*2 + 1), c(0, -(nr + 1)),\n",
      "+          type=\"n\", xlab=\"\", ylab=\"\", axes=FALSE)\n",
      "+     savepar\n",
      "+ }\n",
      "\n",
      "> get.r <- function(i, nr) {\n",
      "+     i %% nr + 1\n",
      "+ }\n",
      "\n",
      "> get.c <- function(i, nr) {\n",
      "+     i %/% nr + 1\n",
      "+ }\n",
      "\n",
      "> draw.title.cell <- function(title, i, nr) {\n",
      "+     r <- get.r(i, nr)\n",
      "+     c <- get.c(i, nr)\n",
      "+     text(2*c - .5, -r, title)\n",
      "+     rect((2*(c - 1) + .5), -(r - .5), (2*c + .5), -(r + .5))\n",
      "+ }\n",
      "\n",
      "> draw.plotmath.cell <- function(expr, i, nr, string = NULL) {\n",
      "+     r <- get.r(i, nr)\n",
      "+     c <- get.c(i, nr)\n",
      "+     if (is.null(string)) {\n",
      "+         string <- deparse(expr)\n",
      "+         string <- substr(string, 12, nchar(string) - 1)\n",
      "+     }\n",
      "+     text((2*(c - 1) + 1), -r, string, col=\"grey\")\n",
      "+     text((2*c), -r, expr, adj=c(.5,.5))\n",
      "+     rect((2*(c - 1) + .5), -(r - .5), (2*c + .5), -(r + .5), border=\"grey\")\n",
      "+ }\n",
      "\n",
      "> nr <- 20\n",
      "\n",
      "> nc <- 2\n",
      "\n",
      "> oldpar <- make.table(nr, nc)\n",
      "\n",
      "> i <- 0\n",
      "\n",
      "> draw.title.cell(\"Arithmetic Operators\", i, nr); i <- i + 1\n",
      "\n",
      "> draw.plotmath.cell(expression(x + y), i, nr); i <- i + 1\n",
      "\n",
      "> draw.plotmath.cell(expression(x - y), i, nr); i <- i + 1\n",
      "\n",
      "> draw.plotmath.cell(expression(x * y), i, nr); i <- i + 1\n",
      "\n",
      "> draw.plotmath.cell(expression(x / y), i, nr); i <- i + 1\n",
      "\n",
      "> draw.plotmath.cell(expression(x %+-% y), i, nr); i <- i + 1\n",
      "\n",
      "> draw.plotmath.cell(expression(x %/% y), i, nr); i <- i + 1\n",
      "\n",
      "> draw.plotmath.cell(expression(x %*% y), i, nr); i <- i + 1\n",
      "\n",
      "> draw.plotmath.cell(expression(x %.% y), i, nr); i <- i + 1\n",
      "\n",
      "> draw.plotmath.cell(expression(-x), i, nr); i <- i + 1\n",
      "\n",
      "> draw.plotmath.cell(expression(+x), i, nr); i <- i + 1\n",
      "\n",
      "> draw.title.cell(\"Sub/Superscripts\", i, nr); i <- i + 1\n",
      "\n",
      "> draw.plotmath.cell(expression(x[i]), i, nr); i <- i + 1\n",
      "\n",
      "> draw.plotmath.cell(expression(x^2), i, nr); i <- i + 1\n",
      "\n",
      "> draw.title.cell(\"Juxtaposition\", i, nr); i <- i + 1\n",
      "\n",
      "> draw.plotmath.cell(expression(x * y), i, nr); i <- i + 1\n",
      "\n",
      "> draw.plotmath.cell(expression(paste(x, y, z)), i, nr); i <- i + 1\n",
      "\n",
      "> draw.title.cell(\"Radicals\", i, nr); i <- i + 1\n",
      "\n",
      "> draw.plotmath.cell(expression(sqrt(x)), i, nr); i <- i + 1\n",
      "\n",
      "> draw.plotmath.cell(expression(sqrt(x, y)), i, nr); i <- i + 1\n",
      "\n",
      "> draw.title.cell(\"Lists\", i, nr); i <- i + 1\n",
      "\n",
      "> draw.plotmath.cell(expression(list(x, y, z)), i, nr); i <- i + 1\n",
      "\n",
      "> draw.title.cell(\"Relations\", i, nr); i <- i + 1\n",
      "\n",
      "> draw.plotmath.cell(expression(x == y), i, nr); i <- i + 1\n",
      "\n",
      "> draw.plotmath.cell(expression(x != y), i, nr); i <- i + 1\n",
      "\n",
      "> draw.plotmath.cell(expression(x < y), i, nr); i <- i + 1\n",
      "\n",
      "> draw.plotmath.cell(expression(x <= y), i, nr); i <- i + 1\n",
      "\n",
      "> draw.plotmath.cell(expression(x > y), i, nr); i <- i + 1\n",
      "\n",
      "> draw.plotmath.cell(expression(x >= y), i, nr); i <- i + 1\n",
      "\n",
      "> draw.plotmath.cell(expression(x %~~% y), i, nr); i <- i + 1\n",
      "\n",
      "> draw.plotmath.cell(expression(x %=~% y), i, nr); i <- i + 1\n",
      "\n",
      "> draw.plotmath.cell(expression(x %==% y), i, nr); i <- i + 1\n",
      "\n",
      "> draw.plotmath.cell(expression(x %prop% y), i, nr); i <- i + 1\n",
      "\n",
      "> draw.plotmath.cell(expression(x %~% y), i, nr); i <- i + 1\n",
      "\n",
      "> draw.title.cell(\"Typeface\", i, nr); i <- i + 1\n",
      "\n",
      "> draw.plotmath.cell(expression(plain(x)), i, nr); i <- i + 1\n",
      "\n",
      "> draw.plotmath.cell(expression(italic(x)), i, nr); i <- i + 1\n",
      "\n",
      "> draw.plotmath.cell(expression(bold(x)), i, nr); i <- i + 1\n",
      "\n",
      "> draw.plotmath.cell(expression(bolditalic(x)), i, nr); i <- i + 1\n",
      "\n",
      "> draw.plotmath.cell(expression(underline(x)), i, nr); i <- i + 1\n",
      "\n",
      "> # Need fewer, wider columns for ellipsis ...\n",
      "> nr <- 20\n",
      "\n",
      "> nc <- 2\n",
      "\n",
      "> make.table(nr, nc)\n"
     ]
    },
    {
     "data": {
      "image/png": "[encoded data removed]",
      "text/plain": [
       "plot without title"
      ]
     },
     "metadata": {},
     "output_type": "display_data"
    },
    {
     "name": "stdout",
     "output_type": "stream",
     "text": [
      "$mar\n",
      "[1] 0 0 0 0\n",
      "\n",
      "$pty\n",
      "[1] \"s\"\n",
      "\n",
      "\n",
      "> i <- 0\n",
      "\n",
      "> draw.title.cell(\"Ellipsis\", i, nr); i <- i + 1\n",
      "\n",
      "> draw.plotmath.cell(expression(list(x[1], ..., x[n])), i, nr); i <- i + 1\n",
      "\n",
      "> draw.plotmath.cell(expression(x[1] + ... + x[n]), i, nr); i <- i + 1\n",
      "\n",
      "> draw.plotmath.cell(expression(list(x[1], cdots, x[n])), i, nr); i <- i + 1\n",
      "\n",
      "> draw.plotmath.cell(expression(x[1] + ldots + x[n]), i, nr); i <- i + 1\n",
      "\n",
      "> draw.title.cell(\"Set Relations\", i, nr); i <- i + 1\n",
      "\n",
      "> draw.plotmath.cell(expression(x %subset% y), i, nr); i <- i + 1\n",
      "\n",
      "> draw.plotmath.cell(expression(x %subseteq% y), i, nr); i <- i + 1\n",
      "\n",
      "> draw.plotmath.cell(expression(x %supset% y), i, nr); i <- i + 1\n",
      "\n",
      "> draw.plotmath.cell(expression(x %supseteq% y), i, nr); i <- i + 1\n",
      "\n",
      "> draw.plotmath.cell(expression(x %notsubset% y), i, nr); i <- i + 1\n",
      "\n",
      "> draw.plotmath.cell(expression(x %in% y), i, nr); i <- i + 1\n",
      "\n",
      "> draw.plotmath.cell(expression(x %notin% y), i, nr); i <- i + 1\n",
      "\n",
      "> draw.title.cell(\"Accents\", i, nr); i <- i + 1\n",
      "\n",
      "> draw.plotmath.cell(expression(hat(x)), i, nr); i <- i + 1\n",
      "\n",
      "> draw.plotmath.cell(expression(tilde(x)), i, nr); i <- i + 1\n",
      "\n",
      "> draw.plotmath.cell(expression(ring(x)), i, nr); i <- i + 1\n",
      "\n",
      "> draw.plotmath.cell(expression(bar(xy)), i, nr); i <- i + 1\n",
      "\n",
      "> draw.plotmath.cell(expression(widehat(xy)), i, nr); i <- i + 1\n",
      "\n",
      "> draw.plotmath.cell(expression(widetilde(xy)), i, nr); i <- i + 1\n",
      "\n",
      "> draw.title.cell(\"Arrows\", i, nr); i <- i + 1\n",
      "\n",
      "> draw.plotmath.cell(expression(x %<->% y), i, nr); i <- i + 1\n",
      "\n",
      "> draw.plotmath.cell(expression(x %->% y), i, nr); i <- i + 1\n",
      "\n",
      "> draw.plotmath.cell(expression(x %<-% y), i, nr); i <- i + 1\n",
      "\n",
      "> draw.plotmath.cell(expression(x %up% y), i, nr); i <- i + 1\n",
      "\n",
      "> draw.plotmath.cell(expression(x %down% y), i, nr); i <- i + 1\n",
      "\n",
      "> draw.plotmath.cell(expression(x %<=>% y), i, nr); i <- i + 1\n",
      "\n",
      "> draw.plotmath.cell(expression(x %=>% y), i, nr); i <- i + 1\n",
      "\n",
      "> draw.plotmath.cell(expression(x %<=% y), i, nr); i <- i + 1\n",
      "\n",
      "> draw.plotmath.cell(expression(x %dblup% y), i, nr); i <- i + 1\n",
      "\n",
      "> draw.plotmath.cell(expression(x %dbldown% y), i, nr); i <- i + 1\n",
      "\n",
      "> draw.title.cell(\"Symbolic Names\", i, nr); i <- i + 1\n",
      "\n",
      "> draw.plotmath.cell(expression(Alpha - Omega), i, nr); i <- i + 1\n",
      "\n",
      "> draw.plotmath.cell(expression(alpha - omega), i, nr); i <- i + 1\n",
      "\n",
      "> draw.plotmath.cell(expression(phi1 + sigma1), i, nr); i <- i + 1\n",
      "\n",
      "> draw.plotmath.cell(expression(Upsilon1), i, nr); i <- i + 1\n",
      "\n",
      "> draw.plotmath.cell(expression(infinity), i, nr); i <- i + 1\n",
      "\n",
      "> draw.plotmath.cell(expression(32 * degree), i, nr); i <- i + 1\n",
      "\n",
      "> draw.plotmath.cell(expression(60 * minute), i, nr); i <- i + 1\n",
      "\n",
      "> draw.plotmath.cell(expression(30 * second), i, nr); i <- i + 1\n",
      "\n",
      "> # Need even fewer, wider columns for typeface and style ...\n",
      "> nr <- 20\n",
      "\n",
      "> nc <- 1\n",
      "\n",
      "> make.table(nr, nc)\n",
      "$mar\n",
      "[1] 0 0 0 0\n",
      "\n",
      "$pty\n",
      "[1] \"s\"\n",
      "\n",
      "\n",
      "> i <- 0\n",
      "\n",
      "> draw.title.cell(\"Style\", i, nr); i <- i + 1\n",
      "\n",
      "> draw.plotmath.cell(expression(displaystyle(x)), i, nr); i <- i + 1\n",
      "\n",
      "> draw.plotmath.cell(expression(textstyle(x)), i, nr); i <- i + 1\n",
      "\n",
      "> draw.plotmath.cell(expression(scriptstyle(x)), i, nr); i <- i + 1\n",
      "\n",
      "> draw.plotmath.cell(expression(scriptscriptstyle(x)), i, nr); i <- i + 1\n",
      "\n",
      "> draw.title.cell(\"Spacing\", i, nr); i <- i + 1\n",
      "\n",
      "> draw.plotmath.cell(expression(x ~~ y), i, nr); i <- i + 1\n",
      "\n",
      "> # Need fewer, taller rows for fractions ...\n",
      "> # cheat a bit to save pages\n",
      "> par(new = TRUE)\n",
      "\n",
      "> nr <- 10\n",
      "\n",
      "> nc <- 1\n",
      "\n",
      "> make.table(nr, nc)\n"
     ]
    },
    {
     "data": {
      "image/png": "[encoded data removed]",
      "text/plain": [
       "plot without title"
      ]
     },
     "metadata": {},
     "output_type": "display_data"
    },
    {
     "name": "stdout",
     "output_type": "stream",
     "text": [
      "$mar\n",
      "[1] 0 0 0 0\n",
      "\n",
      "$pty\n",
      "[1] \"s\"\n",
      "\n",
      "\n",
      "> i <- 4\n",
      "\n",
      "> draw.plotmath.cell(expression(x + phantom(0) + y), i, nr); i <- i + 1\n",
      "\n",
      "> draw.plotmath.cell(expression(x + over(1, phantom(0))), i, nr); i <- i + 1\n",
      "\n",
      "> draw.title.cell(\"Fractions\", i, nr); i <- i + 1\n",
      "\n",
      "> draw.plotmath.cell(expression(frac(x, y)), i, nr); i <- i + 1\n",
      "\n",
      "> draw.plotmath.cell(expression(over(x, y)), i, nr); i <- i + 1\n",
      "\n",
      "> draw.plotmath.cell(expression(atop(x, y)), i, nr); i <- i + 1\n",
      "\n",
      "> # Need fewer, taller rows and fewer, wider columns for big operators ...\n",
      "> nr <- 10\n",
      "\n",
      "> nc <- 1\n",
      "\n",
      "> make.table(nr, nc)\n"
     ]
    },
    {
     "data": {
      "image/png": "[encoded data removed]",
      "text/plain": [
       "plot without title"
      ]
     },
     "metadata": {},
     "output_type": "display_data"
    },
    {
     "name": "stdout",
     "output_type": "stream",
     "text": [
      "$mar\n",
      "[1] 0 0 0 0\n",
      "\n",
      "$pty\n",
      "[1] \"s\"\n",
      "\n",
      "\n",
      "> i <- 0\n",
      "\n",
      "> draw.title.cell(\"Big Operators\", i, nr); i <- i + 1\n",
      "\n",
      "> draw.plotmath.cell(expression(sum(x[i], i=1, n)), i, nr); i <- i + 1\n",
      "\n",
      "> draw.plotmath.cell(expression(prod(plain(P)(X == x), x)), i, nr); i <- i + 1\n",
      "\n",
      "> draw.plotmath.cell(expression(integral(f(x) * dx, a, b)), i, nr); i <- i + 1\n",
      "\n",
      "> draw.plotmath.cell(expression(union(A[i], i==1, n)), i, nr); i <- i + 1\n",
      "\n",
      "> draw.plotmath.cell(expression(intersect(A[i], i==1, n)), i, nr); i <- i + 1\n",
      "\n",
      "> draw.plotmath.cell(expression(lim(f(x), x %->% 0)), i, nr); i <- i + 1\n",
      "\n",
      "> draw.plotmath.cell(expression(min(g(x), x >= 0)), i, nr); i <- i + 1\n",
      "\n",
      "> draw.plotmath.cell(expression(inf(S)), i, nr); i <- i + 1\n",
      "\n",
      "> draw.plotmath.cell(expression(sup(S)), i, nr); i <- i + 1\n",
      "\n",
      "> make.table(nr, nc)\n"
     ]
    },
    {
     "data": {
      "image/png": "[encoded data removed]",
      "text/plain": [
       "plot without title"
      ]
     },
     "metadata": {},
     "output_type": "display_data"
    },
    {
     "name": "stdout",
     "output_type": "stream",
     "text": [
      "$mar\n",
      "[1] 0 0 0 0\n",
      "\n",
      "$pty\n",
      "[1] \"s\"\n",
      "\n",
      "\n",
      "> i <- 0\n",
      "\n",
      "> draw.title.cell(\"Grouping\", i, nr); i <- i + 1\n",
      "\n",
      "> draw.plotmath.cell(expression((x + y)*z), i, nr); i <- i + 1\n",
      "\n",
      "> draw.plotmath.cell(expression(x^y + z), i, nr); i <- i + 1\n",
      "\n",
      "> draw.plotmath.cell(expression(x^(y + z)), i, nr); i <- i + 1\n",
      "\n",
      "> # have to do this one by hand\n",
      "> draw.plotmath.cell(expression(x^{y + z}), i, nr, string=\"x^{y + z}\"); i <- i + 1\n",
      "\n",
      "> draw.plotmath.cell(expression(group(\"(\", list(a, b), \"]\")), i, nr); i <- i + 1\n",
      "\n",
      "> draw.plotmath.cell(expression(bgroup(\"(\", atop(x, y), \")\")), i, nr); i <- i + 1\n",
      "\n",
      "> draw.plotmath.cell(expression(group(lceil, x, rceil)), i, nr); i <- i + 1\n",
      "\n",
      "> draw.plotmath.cell(expression(group(lfloor, x, rfloor)), i, nr); i <- i + 1\n",
      "\n",
      "> draw.plotmath.cell(expression(group(\"|\", x, \"|\")), i, nr); i <- i + 1\n",
      "\n",
      "> par(oldpar)\n"
     ]
    },
    {
     "data": {
      "image/png": "[encoded data removed]",
      "text/plain": [
       "plot without title"
      ]
     },
     "metadata": {},
     "output_type": "display_data"
    }
   ],
   "source": [
    "demo(plotmath)"
   ]
  },
  {
   "cell_type": "code",
   "execution_count": 439,
   "metadata": {
    "collapsed": true
   },
   "outputs": [],
   "source": [
    "?rank"
   ]
  },
  {
   "cell_type": "code",
   "execution_count": null,
   "metadata": {
    "collapsed": true
   },
   "outputs": [],
   "source": []
  }
 ],
 "metadata": {
  "anaconda-cloud": {},
  "kernelspec": {
   "display_name": "R",
   "language": "R",
   "name": "ir"
  },
  "language_info": {
   "codemirror_mode": "r",
   "file_extension": ".r",
   "mimetype": "text/x-r-source",
   "name": "R",
   "pygments_lexer": "r",
   "version": "3.3.2"
  }
 },
 "nbformat": 4,
 "nbformat_minor": 1
}
