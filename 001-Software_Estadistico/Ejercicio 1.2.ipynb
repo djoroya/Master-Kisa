{
 "cells": [
  {
   "cell_type": "markdown",
   "metadata": {},
   "source": [
    "# Ejercicio 1.2"
   ]
  },
  {
   "cell_type": "markdown",
   "metadata": {},
   "source": [
    "Creamos la variable baraja"
   ]
  },
  {
   "cell_type": "code",
   "execution_count": 882,
   "metadata": {
    "collapsed": false
   },
   "outputs": [
    {
     "name": "stdout",
     "output_type": "stream",
     "text": [
      "[1] \"Las primeras filas de la baraja\"\n"
     ]
    },
    {
     "data": {
      "text/html": [
       "<dl class=dl-horizontal>\n",
       "\t<dt>Oros-1</dt>\n",
       "\t\t<dd>1</dd>\n",
       "\t<dt>Oros-2</dt>\n",
       "\t\t<dd>2</dd>\n",
       "\t<dt>Oros-3</dt>\n",
       "\t\t<dd>3</dd>\n",
       "\t<dt>Oros-4</dt>\n",
       "\t\t<dd>4</dd>\n",
       "\t<dt>Oros-5</dt>\n",
       "\t\t<dd>5</dd>\n",
       "\t<dt>Oros-6</dt>\n",
       "\t\t<dd>6</dd>\n",
       "</dl>\n"
      ],
      "text/latex": [
       "\\begin{description*}\n",
       "\\item[Oros-1] 1\n",
       "\\item[Oros-2] 2\n",
       "\\item[Oros-3] 3\n",
       "\\item[Oros-4] 4\n",
       "\\item[Oros-5] 5\n",
       "\\item[Oros-6] 6\n",
       "\\end{description*}\n"
      ],
      "text/markdown": [
       "Oros-1\n",
       ":   1Oros-2\n",
       ":   2Oros-3\n",
       ":   3Oros-4\n",
       ":   4Oros-5\n",
       ":   5Oros-6\n",
       ":   6\n",
       "\n"
      ],
      "text/plain": [
       "Oros-1 Oros-2 Oros-3 Oros-4 Oros-5 Oros-6 \n",
       "     1      2      3      4      5      6 "
      ]
     },
     "metadata": {},
     "output_type": "display_data"
    },
    {
     "data": {
      "text/html": [
       "<dl class=dl-horizontal>\n",
       "\t<dt>Bastos-5</dt>\n",
       "\t\t<dd>35</dd>\n",
       "\t<dt>Bastos-6</dt>\n",
       "\t\t<dd>36</dd>\n",
       "\t<dt>Bastos-7</dt>\n",
       "\t\t<dd>37</dd>\n",
       "\t<dt>Bastos-10</dt>\n",
       "\t\t<dd>38</dd>\n",
       "\t<dt>Bastos-11</dt>\n",
       "\t\t<dd>39</dd>\n",
       "\t<dt>Bastos-12</dt>\n",
       "\t\t<dd>40</dd>\n",
       "</dl>\n"
      ],
      "text/latex": [
       "\\begin{description*}\n",
       "\\item[Bastos-5] 35\n",
       "\\item[Bastos-6] 36\n",
       "\\item[Bastos-7] 37\n",
       "\\item[Bastos-10] 38\n",
       "\\item[Bastos-11] 39\n",
       "\\item[Bastos-12] 40\n",
       "\\end{description*}\n"
      ],
      "text/markdown": [
       "Bastos-5\n",
       ":   35Bastos-6\n",
       ":   36Bastos-7\n",
       ":   37Bastos-10\n",
       ":   38Bastos-11\n",
       ":   39Bastos-12\n",
       ":   40\n",
       "\n"
      ],
      "text/plain": [
       " Bastos-5  Bastos-6  Bastos-7 Bastos-10 Bastos-11 Bastos-12 \n",
       "       35        36        37        38        39        40 "
      ]
     },
     "metadata": {},
     "output_type": "display_data"
    }
   ],
   "source": [
    "n=as.character(rep(c(1:7,10:12),4))\n",
    "m=c(rep(\"Oros\",10),rep(\"Copas\",10),rep(\"Espadas\",10),rep(\"Bastos\",10))\n",
    "baraja = c(1:40) \n",
    "names(baraja) = paste(m,n,sep=\"-\")\n",
    "print(\"Las primeras filas de la baraja\")\n",
    "head(baraja)\n",
    "tail(baraja)"
   ]
  },
  {
   "cell_type": "markdown",
   "metadata": {},
   "source": [
    "Creamos la dataframe que contendra las manos de los jugadores durante una partida"
   ]
  },
  {
   "cell_type": "code",
   "execution_count": 890,
   "metadata": {
    "collapsed": false,
    "scrolled": true
   },
   "outputs": [
    {
     "data": {
      "text/html": [
       "<table>\n",
       "<thead><tr><th scope=col>A1</th><th scope=col>B1</th><th scope=col>A2</th><th scope=col>B2</th></tr></thead>\n",
       "<tbody>\n",
       "\t<tr><td> 9</td><td>19</td><td>12</td><td> 3</td></tr>\n",
       "\t<tr><td>30</td><td>38</td><td> 7</td><td>33</td></tr>\n",
       "\t<tr><td>11</td><td>30</td><td>24</td><td>12</td></tr>\n",
       "\t<tr><td>35</td><td>29</td><td>40</td><td> 2</td></tr>\n",
       "</tbody>\n",
       "</table>\n"
      ],
      "text/latex": [
       "\\begin{tabular}{r|llll}\n",
       " A1 & B1 & A2 & B2\\\\\n",
       "\\hline\n",
       "\t  9 & 19 & 12 &  3\\\\\n",
       "\t 30 & 38 &  7 & 33\\\\\n",
       "\t 11 & 30 & 24 & 12\\\\\n",
       "\t 35 & 29 & 40 &  2\\\\\n",
       "\\end{tabular}\n"
      ],
      "text/markdown": [
       "\n",
       "A1 | B1 | A2 | B2 | \n",
       "|---|---|---|---|\n",
       "|  9 | 19 | 12 |  3 | \n",
       "| 30 | 38 |  7 | 33 | \n",
       "| 11 | 30 | 24 | 12 | \n",
       "| 35 | 29 | 40 |  2 | \n",
       "\n",
       "\n"
      ],
      "text/plain": [
       "  A1 B1 A2 B2\n",
       "1  9 19 12  3\n",
       "2 30 38  7 33\n",
       "3 11 30 24 12\n",
       "4 35 29 40  2"
      ]
     },
     "metadata": {},
     "output_type": "display_data"
    }
   ],
   "source": [
    "manos.df = data.frame(matrix(ncol=4,nrow=4))\n",
    "names(manos.df) = c(\"A1\",\"B1\",\"A2\",\"B2\")\n",
    "set.seed(2012)\n",
    "manos.df[1]=baraja[sample(1:40,4)]\n",
    "set.seed(2013)\n",
    "manos.df[2]=baraja[sample(1:40,4)]\n",
    "set.seed(2014)\n",
    "manos.df[3]=baraja[sample(1:40,4)]\n",
    "set.seed(2015)\n",
    "manos.df[4]=baraja[sample(1:40,4)]\n",
    "\n",
    "manos.df"
   ]
  },
  {
   "cell_type": "markdown",
   "metadata": {},
   "source": [
    "Aunque no es necesario, será de gran ayuda saber a que corresponden los número mostrados arriba. Así que mostraremos la dataframe manos en un lenguaje mas legible."
   ]
  },
  {
   "cell_type": "code",
   "execution_count": 892,
   "metadata": {
    "collapsed": false
   },
   "outputs": [
    {
     "name": "stdout",
     "output_type": "stream",
     "text": [
      " chr [1:4, 1:4] \"Oros-11\" \"Espadas-12\" \"Copas-1\" \"Bastos-5\" ...\n",
      " - attr(*, \"names\")= chr [1:16] \"A1\" \"B1\" \"A2\" \"B2\" ...\n"
     ]
    },
    {
     "data": {
      "text/html": [
       "<table>\n",
       "<thead><tr><th scope=col>A1</th><th scope=col>B1</th><th scope=col>A2</th><th scope=col>B2</th></tr></thead>\n",
       "<tbody>\n",
       "\t<tr><td> 9</td><td>19</td><td>12</td><td> 3</td></tr>\n",
       "\t<tr><td>30</td><td>38</td><td> 7</td><td>33</td></tr>\n",
       "\t<tr><td>11</td><td>30</td><td>24</td><td>12</td></tr>\n",
       "\t<tr><td>35</td><td>29</td><td>40</td><td> 2</td></tr>\n",
       "</tbody>\n",
       "</table>\n"
      ],
      "text/latex": [
       "\\begin{tabular}{r|llll}\n",
       " A1 & B1 & A2 & B2\\\\\n",
       "\\hline\n",
       "\t  9 & 19 & 12 &  3\\\\\n",
       "\t 30 & 38 &  7 & 33\\\\\n",
       "\t 11 & 30 & 24 & 12\\\\\n",
       "\t 35 & 29 & 40 &  2\\\\\n",
       "\\end{tabular}\n"
      ],
      "text/markdown": [
       "\n",
       "A1 | B1 | A2 | B2 | \n",
       "|---|---|---|---|\n",
       "|  9 | 19 | 12 |  3 | \n",
       "| 30 | 38 |  7 | 33 | \n",
       "| 11 | 30 | 24 | 12 | \n",
       "| 35 | 29 | 40 |  2 | \n",
       "\n",
       "\n"
      ],
      "text/plain": [
       "  A1 B1 A2 B2\n",
       "1  9 19 12  3\n",
       "2 30 38  7 33\n",
       "3 11 30 24 12\n",
       "4 35 29 40  2"
      ]
     },
     "metadata": {},
     "output_type": "display_data"
    }
   ],
   "source": [
    "juego.char=matrix(names(baraja)[t(manos.df[1:4])],nrow=4,byrow=TRUE)\n",
    "names(juego.char) = names(manos.df) \n",
    "str(juego.char)\n",
    "manos.df"
   ]
  },
  {
   "cell_type": "markdown",
   "metadata": {},
   "source": [
    "Deberemos tener en cuenta el valor especial de los valores especiales de las cartas con número 10, 11 y 12"
   ]
  },
  {
   "cell_type": "code",
   "execution_count": 615,
   "metadata": {
    "collapsed": false
   },
   "outputs": [
    {
     "data": {
      "text/html": [
       "<dl class=dl-horizontal>\n",
       "\t<dt>Oros-10</dt>\n",
       "\t\t<dd>8</dd>\n",
       "\t<dt>Oros-11</dt>\n",
       "\t\t<dd>9</dd>\n",
       "\t<dt>Oros-12</dt>\n",
       "\t\t<dd>10</dd>\n",
       "\t<dt>Copas-10</dt>\n",
       "\t\t<dd>18</dd>\n",
       "\t<dt>Copas-11</dt>\n",
       "\t\t<dd>19</dd>\n",
       "\t<dt>Copas-12</dt>\n",
       "\t\t<dd>20</dd>\n",
       "\t<dt>Espadas-10</dt>\n",
       "\t\t<dd>28</dd>\n",
       "\t<dt>Espadas-11</dt>\n",
       "\t\t<dd>29</dd>\n",
       "\t<dt>Espadas-12</dt>\n",
       "\t\t<dd>30</dd>\n",
       "\t<dt>Bastos-10</dt>\n",
       "\t\t<dd>38</dd>\n",
       "\t<dt>Bastos-11</dt>\n",
       "\t\t<dd>39</dd>\n",
       "\t<dt>Bastos-12</dt>\n",
       "\t\t<dd>40</dd>\n",
       "</dl>\n"
      ],
      "text/latex": [
       "\\begin{description*}\n",
       "\\item[Oros-10] 8\n",
       "\\item[Oros-11] 9\n",
       "\\item[Oros-12] 10\n",
       "\\item[Copas-10] 18\n",
       "\\item[Copas-11] 19\n",
       "\\item[Copas-12] 20\n",
       "\\item[Espadas-10] 28\n",
       "\\item[Espadas-11] 29\n",
       "\\item[Espadas-12] 30\n",
       "\\item[Bastos-10] 38\n",
       "\\item[Bastos-11] 39\n",
       "\\item[Bastos-12] 40\n",
       "\\end{description*}\n"
      ],
      "text/markdown": [
       "Oros-10\n",
       ":   8Oros-11\n",
       ":   9Oros-12\n",
       ":   10Copas-10\n",
       ":   18Copas-11\n",
       ":   19Copas-12\n",
       ":   20Espadas-10\n",
       ":   28Espadas-11\n",
       ":   29Espadas-12\n",
       ":   30Bastos-10\n",
       ":   38Bastos-11\n",
       ":   39Bastos-12\n",
       ":   40\n",
       "\n"
      ],
      "text/plain": [
       "   Oros-10    Oros-11    Oros-12   Copas-10   Copas-11   Copas-12 Espadas-10 \n",
       "         8          9         10         18         19         20         28 \n",
       "Espadas-11 Espadas-12  Bastos-10  Bastos-11  Bastos-12 \n",
       "        29         30         38         39         40 "
      ]
     },
     "metadata": {},
     "output_type": "display_data"
    }
   ],
   "source": [
    "cartas.juego =c(matrix(names(baraja),ncol=4)[8:10,])\n",
    "baraja[cartas.juego]"
   ]
  },
  {
   "cell_type": "markdown",
   "metadata": {},
   "source": [
    "Creamos una función llamada valor, que nos devuelva el valor de la carta, tomando el número ordinal de la carta de la lista baraja"
   ]
  },
  {
   "cell_type": "code",
   "execution_count": 883,
   "metadata": {
    "collapsed": false
   },
   "outputs": [],
   "source": [
    "valor = function(n){   \n",
    "    carta = unlist(strsplit(names(baraja)[n],\"-\"))[(1:length(n))*2]\n",
    "    carta = c(carta)\n",
    "\n",
    "    valor = as.numeric(carta)\n",
    "    for (i in 1:length(n)){\n",
    "        if(n[i] %in% baraja[cartas.juego]){\n",
    "                valor[i] = 10\n",
    "            }\n",
    "        }\n",
    "    valor=sum(valor)\n",
    "    return(valor)\n",
    "    }"
   ]
  },
  {
   "cell_type": "markdown",
   "metadata": {},
   "source": [
    "Utilizando la función \"valor\" obtenemos los puntos de cada jugador. Luego preguntamos si existe algún valor es mayor que 30. Si es así colocamos TRUE en la columna J, en caso contrario el valor será FALSE. "
   ]
  },
  {
   "cell_type": "code",
   "execution_count": 885,
   "metadata": {
    "collapsed": false
   },
   "outputs": [
    {
     "data": {
      "text/html": [
       "<table>\n",
       "<thead><tr><th scope=col>juego.A1</th><th scope=col>juego.B1</th><th scope=col>juego.A2</th><th scope=col>juego.B2</th><th scope=col>J</th></tr></thead>\n",
       "<tbody>\n",
       "\t<tr><td>26  </td><td>40  </td><td>23  </td><td>10  </td><td>TRUE</td></tr>\n",
       "</tbody>\n",
       "</table>\n"
      ],
      "text/latex": [
       "\\begin{tabular}{r|lllll}\n",
       " juego.A1 & juego.B1 & juego.A2 & juego.B2 & J\\\\\n",
       "\\hline\n",
       "\t 26   & 40   & 23   & 10   & TRUE\\\\\n",
       "\\end{tabular}\n"
      ],
      "text/markdown": [
       "\n",
       "juego.A1 | juego.B1 | juego.A2 | juego.B2 | J | \n",
       "|---|\n",
       "| 26   | 40   | 23   | 10   | TRUE | \n",
       "\n",
       "\n"
      ],
      "text/plain": [
       "  juego.A1 juego.B1 juego.A2 juego.B2 J   \n",
       "1 26       40       23       10       TRUE"
      ]
     },
     "metadata": {},
     "output_type": "display_data"
    }
   ],
   "source": [
    "juego.df = data.frame(matrix(ncol=5,nrow=1))\n",
    "names(juego.df) = paste(rep(\"juego\",4),names(manos.df),sep = \".\")\n",
    "names(juego.df)[5] = \"J\"\n",
    "\n",
    "juego.df[\"juego.A1\"]=valor(c(manos.df[\"A1\"])[[1]])\n",
    "juego.df[\"juego.A2\"]=valor(c(manos.df[\"A2\"])[[1]])\n",
    "juego.df[\"juego.B1\"]=valor(c(manos.df[\"B1\"])[[1]])\n",
    "juego.df[\"juego.B2\"]=valor(c(manos.df[\"B2\"])[[1]])\n",
    "\n",
    "juego.df[\"J\"] = if(TRUE %in% (juego.df[1:4] > 30)){TRUE}else{FALSE}\n",
    "\n",
    "juego.df"
   ]
  },
  {
   "cell_type": "code",
   "execution_count": 886,
   "metadata": {
    "collapsed": false
   },
   "outputs": [
    {
     "name": "stdout",
     "output_type": "stream",
     "text": [
      "[1] \"Las primeras filas de la baraja\"\n"
     ]
    },
    {
     "data": {
      "text/html": [
       "<dl class=dl-horizontal>\n",
       "\t<dt>Oros-1</dt>\n",
       "\t\t<dd>1</dd>\n",
       "\t<dt>Oros-2</dt>\n",
       "\t\t<dd>2</dd>\n",
       "\t<dt>Oros-3</dt>\n",
       "\t\t<dd>3</dd>\n",
       "\t<dt>Oros-4</dt>\n",
       "\t\t<dd>4</dd>\n",
       "\t<dt>Oros-5</dt>\n",
       "\t\t<dd>5</dd>\n",
       "\t<dt>Oros-6</dt>\n",
       "\t\t<dd>6</dd>\n",
       "</dl>\n"
      ],
      "text/latex": [
       "\\begin{description*}\n",
       "\\item[Oros-1] 1\n",
       "\\item[Oros-2] 2\n",
       "\\item[Oros-3] 3\n",
       "\\item[Oros-4] 4\n",
       "\\item[Oros-5] 5\n",
       "\\item[Oros-6] 6\n",
       "\\end{description*}\n"
      ],
      "text/markdown": [
       "Oros-1\n",
       ":   1Oros-2\n",
       ":   2Oros-3\n",
       ":   3Oros-4\n",
       ":   4Oros-5\n",
       ":   5Oros-6\n",
       ":   6\n",
       "\n"
      ],
      "text/plain": [
       "Oros-1 Oros-2 Oros-3 Oros-4 Oros-5 Oros-6 \n",
       "     1      2      3      4      5      6 "
      ]
     },
     "metadata": {},
     "output_type": "display_data"
    },
    {
     "data": {
      "text/html": [
       "<dl class=dl-horizontal>\n",
       "\t<dt>Bastos-5</dt>\n",
       "\t\t<dd>35</dd>\n",
       "\t<dt>Bastos-6</dt>\n",
       "\t\t<dd>36</dd>\n",
       "\t<dt>Bastos-7</dt>\n",
       "\t\t<dd>37</dd>\n",
       "\t<dt>Bastos-10</dt>\n",
       "\t\t<dd>38</dd>\n",
       "\t<dt>Bastos-11</dt>\n",
       "\t\t<dd>39</dd>\n",
       "\t<dt>Bastos-12</dt>\n",
       "\t\t<dd>40</dd>\n",
       "</dl>\n"
      ],
      "text/latex": [
       "\\begin{description*}\n",
       "\\item[Bastos-5] 35\n",
       "\\item[Bastos-6] 36\n",
       "\\item[Bastos-7] 37\n",
       "\\item[Bastos-10] 38\n",
       "\\item[Bastos-11] 39\n",
       "\\item[Bastos-12] 40\n",
       "\\end{description*}\n"
      ],
      "text/markdown": [
       "Bastos-5\n",
       ":   35Bastos-6\n",
       ":   36Bastos-7\n",
       ":   37Bastos-10\n",
       ":   38Bastos-11\n",
       ":   39Bastos-12\n",
       ":   40\n",
       "\n"
      ],
      "text/plain": [
       " Bastos-5  Bastos-6  Bastos-7 Bastos-10 Bastos-11 Bastos-12 \n",
       "       35        36        37        38        39        40 "
      ]
     },
     "metadata": {},
     "output_type": "display_data"
    }
   ],
   "source": [
    "n=as.character(rep(c(1:7,10:12),4))\n",
    "m=c(rep(\"Oros\",10),rep(\"Copas\",10),rep(\"Espadas\",10),rep(\"Bastos\",10))\n",
    "baraja = c(1:40) \n",
    "names(baraja) = paste(m,n,sep=\"-\")\n",
    "print(\"Las primeras filas de la baraja\")\n",
    "head(baraja)\n",
    "tail(baraja)"
   ]
  },
  {
   "cell_type": "code",
   "execution_count": null,
   "metadata": {
    "collapsed": true
   },
   "outputs": [],
   "source": []
  }
 ],
 "metadata": {
  "anaconda-cloud": {},
  "kernelspec": {
   "display_name": "R",
   "language": "R",
   "name": "ir"
  },
  "language_info": {
   "codemirror_mode": "r",
   "file_extension": ".r",
   "mimetype": "text/x-r-source",
   "name": "R",
   "pygments_lexer": "r",
   "version": "3.3.2"
  }
 },
 "nbformat": 4,
 "nbformat_minor": 2
}
