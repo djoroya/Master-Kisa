{
 "cells": [
  {
   "cell_type": "code",
   "execution_count": 1,
   "metadata": {
    "collapsed": false
   },
   "outputs": [
    {
     "data": {
      "text/html": [
       "<strong>pdf:</strong> 2"
      ],
      "text/latex": [
       "\\textbf{pdf:} 2"
      ],
      "text/markdown": [
       "**pdf:** 2"
      ],
      "text/plain": [
       "pdf \n",
       "  2 "
      ]
     },
     "metadata": {},
     "output_type": "display_data"
    }
   ],
   "source": [
    "opar <- par()\n",
    "#\n",
    "#####################################################################################\n",
    "#\n",
    "# Función para representar gráficamente todos los ejercicios\n",
    "#\n",
    "# Para representar solo un ejercicio,\n",
    "# basta con fijar el valor de 'kex',\n",
    "# en lugar de hacerlo correr por todo 1:nexamples\n",
    "#\n",
    "ejercicios2.dat <- function(data, titulo=\"\", subtitulo=\"\")\n",
    "{\n",
    "  #\n",
    "  par(oma=c(4,4,10,4))\n",
    "  par(mfrow=c(3,2))\n",
    "  par(mar=rep(2,4)+0.1)\n",
    "  nexamples <- nlevels(data$example)\n",
    "  #\n",
    "  for(kex in 1:nexamples)\n",
    "  {\n",
    "    data1 <- data[data[,3]==kex, 1:2]\n",
    "    plot(data1, pch=21, cex=0.75, col=\"black\", bg=\"white\"\n",
    "         , axes=FALSE, xlab=\"\", ylab=\"\", frame.plot=FALSE)\n",
    "    mtext(kex, side=3, adj=0, cex=1)\n",
    "    if(kex==1) title(\"Conjuntos de datos\", line=5, outer=TRUE)\n",
    "  }\n",
    "  par(mar=c(5,4,4,2)+0.1)\n",
    "  par(mfrow=c(1,1))\n",
    "  par(oma=rep(0,4))\n",
    "  #\n",
    "}\n",
    "#\n",
    "####################################################################################\n",
    "#\n",
    "load(\"ejercicios2.RData\")\n",
    "#\n",
    "####################################################################################\n",
    "#\n",
    "pdf(\"ejercicios2.pdf\")\n",
    "#\n",
    "ejercicios2.dat(data)\n",
    "#\n",
    "dev.off()\n",
    "#"
   ]
  },
  {
   "cell_type": "code",
   "execution_count": 2,
   "metadata": {
    "collapsed": false
   },
   "outputs": [
    {
     "data": {
      "text/html": [
       "<strong>pdf:</strong> 2"
      ],
      "text/latex": [
       "\\textbf{pdf:} 2"
      ],
      "text/markdown": [
       "**pdf:** 2"
      ],
      "text/plain": [
       "pdf \n",
       "  2 "
      ]
     },
     "metadata": {},
     "output_type": "display_data"
    }
   ],
   "source": [
    "# Edición de las soluciones a los ejercicios\n",
    "#\n",
    "pdf(\"ejercicio2solkm.pdf\")\n",
    "#\n",
    "nexamples <- nlevels(data$example)\n",
    "#\n",
    "for(kex in 1:nexamples)\n",
    "{\n",
    "  data1 <- data[data[,3]==kex, 1:2]\n",
    "  x.m <- data1\n",
    "  km <- kmeans(x.m, centers=2, nstart=10)\n",
    "#\n",
    "  plot(data1, pch=21, cex=0.75, col=\"black\", bg=\"white\"\n",
    "       , axes=FALSE, xlab=\"\", ylab=\"\", frame.plot=FALSE)\n",
    "  points(x.m, pch=21, cex=0.8, col=\"black\", bg=km$cluster+1)\n",
    "  points(km$centers, col=(1:nrow(km$centers))+1, pch=8, cex=1.5)\n",
    "  mtext(kex, side=3, adj=0, cex=1)\n",
    "  if(kex==1) title(\"Conjuntos de datos\", line=5, outer=TRUE)\n",
    "}\n",
    "#\n",
    "dev.off()\n",
    "#"
   ]
  },
  {
   "cell_type": "code",
   "execution_count": null,
   "metadata": {
    "collapsed": true
   },
   "outputs": [],
   "source": []
  }
 ],
 "metadata": {
  "kernelspec": {
   "display_name": "R",
   "language": "R",
   "name": "ir"
  },
  "language_info": {
   "codemirror_mode": "r",
   "file_extension": ".r",
   "mimetype": "text/x-r-source",
   "name": "R",
   "pygments_lexer": "r",
   "version": "3.3.2"
  }
 },
 "nbformat": 4,
 "nbformat_minor": 2
}
