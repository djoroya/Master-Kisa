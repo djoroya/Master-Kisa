{
 "cells": [
  {
   "cell_type": "markdown",
   "metadata": {},
   "source": [
    "# Formato para la implementación de los ejercicios de la Tarea  2 en Python"
   ]
  },
  {
   "cell_type": "markdown",
   "metadata": {},
   "source": [
    "### Los programas implementados para la  solución de los ejercicios se evaluarán ejecutando una notebook con el formato que se describe a continuación. Cada estudiante debe asegurarse que sus programas se ejecutan de manera correcta y en un tiempo razonable utilizando este formato. "
   ]
  },
  {
   "cell_type": "markdown",
   "metadata": {},
   "source": [
    "### Los programas se pueden implementar en Python ó R. No deben implementarse en los dos lenguajes pues solamente se evaluará en uno de ellos. El código en Python o R podrá incluirse directamente en las celdas de la notebook o implementarse independientemente para ser invocado DESDE LA NOTEBOOK. Es decir, los programas no se evaluarán independientemente sino a partir del llamado que se hace en la notebook. "
   ]
  },
  {
   "cell_type": "code",
   "execution_count": 131,
   "metadata": {},
   "outputs": [],
   "source": [
    "# Ejemplo de resolución del problema QAP en Python\n",
    "\n",
    "# Importamos las librerías imprescindibles para la ejecución del ejercicio\n",
    "import numpy as np\n",
    "\n",
    "\n",
    "def Read_QAP_Instance(fname):\n",
    "  # Este programa recibe el nombre y ubicación de un fichero con los datos de una instancia del problema QAP\n",
    "  # y devuelve una estructura con los datos de la instancia.\n",
    "    QAPInstance = {\"mt-distancia\":\"\" ,\"mt-flujo\":\"\",\"number\":\"\"}\n",
    "    file = open(fname,'r')\n",
    "    QAPInstance[\"number\"] = int(file.readline())\n",
    "    file.close   \n",
    "    \n",
    "    np_matrix = np.loadtxt(fname,skiprows=1)\n",
    "\n",
    "    QAPInstance[\"mt-flujo\"]     = np_matrix[0:QAPInstance[\"number\"]+1]\n",
    "    QAPInstance[\"mt-distancia\"] = np_matrix[QAPInstance[\"number\"]:]\n",
    "\n",
    "    return QAPInstance\n",
    "\n",
    "def QAPEvaluator(fname,permutation):\n",
    "    result = 0\n",
    "    my_QAP_Instance = Read_QAP_Instance(fname)  # Se lee la instancia\n",
    "  # En los siguientes pasos se implementa la evaluación del problema QAP en Python   \n",
    "    D = my_QAP_Instance[\"mt-distancia\"]\n",
    "    F = my_QAP_Instance[\"mt-flujo\"]\n",
    "    result = 0\n",
    "    for i in range(0,my_QAP_Instance[\"number\"]):\n",
    "        for j in range(0,my_QAP_Instance[\"number\"]):\n",
    "            # restamos uno a los elementos de permitacion \n",
    "            result = result +  D[i][j] * F[permutation[i]-1][permutation[j]-1] \n",
    "  # Finalmente se devuelve el resultado\n",
    "    return result  \n",
    "\n",
    "\n",
    "def neighborhood(permutation):\n",
    "    permutation = np.array(permutation)\n",
    "    ones  = np.where(permutation==1)[0]\n",
    "    zeros = np.where(permutation==0)[0]\n",
    "    \n",
    "    nb = []\n",
    "    index = -1\n",
    "    for ione in ones:\n",
    "        for izero in zeros:\n",
    "            p = np.array(permutation)\n",
    "            p[ione] = permutation[izero]\n",
    "            p[izero] = permutation[ione]\n",
    "            index = index + 1 \n",
    "            nb.append(p)\n",
    "\n",
    "    return nb\n",
    "\n",
    "\n",
    "def QAPLocalSearch(fname,permutation):\n",
    "    best_val = 0\n",
    "    best_sol = permutation\n",
    "    \n",
    "  # IMPORTANTE:  Se lee la instancia  UNA SOLA VEZ.\n",
    "  # ES INCORRECTO LEER LA INSTANCIA DEL FICHERO CADA VEZ QUE SE EVALUA UNA SOLUCIÓN\n",
    "    my_QAP_Instance = Read_QAP_Instance(fname)  \n",
    "\n",
    "  # En los siguientes pasos se implementa la evaluación la búsqueda local en Python   \n",
    "\n",
    "    \n",
    "\n",
    "\n",
    "  # Finalmente se devuelven el mejor valor encontrado así como la mejor solución\n",
    "    return best_val,best_sol       \n",
    "\n",
    "\n",
    "\n",
    "    "
   ]
  },
  {
   "cell_type": "code",
   "execution_count": 132,
   "metadata": {},
   "outputs": [
    {
     "ename": "IndexError",
     "evalue": "list assignment index out of range",
     "output_type": "error",
     "traceback": [
      "\u001b[0;31m---------------------------------------------------------------------------\u001b[0m",
      "\u001b[0;31mIndexError\u001b[0m                                Traceback (most recent call last)",
      "\u001b[0;32m<ipython-input-132-4c83dcdc8e68>\u001b[0m in \u001b[0;36m<module>\u001b[0;34m()\u001b[0m\n\u001b[1;32m      1\u001b[0m \u001b[0mpermutation\u001b[0m \u001b[0;34m=\u001b[0m \u001b[0;34m[\u001b[0m\u001b[0;36m1\u001b[0m\u001b[0;34m,\u001b[0m\u001b[0;36m1\u001b[0m\u001b[0;34m,\u001b[0m\u001b[0;36m0\u001b[0m\u001b[0;34m,\u001b[0m\u001b[0;36m0\u001b[0m\u001b[0;34m]\u001b[0m\u001b[0;34m\u001b[0m\u001b[0m\n\u001b[0;32m----> 2\u001b[0;31m \u001b[0mneighborhood\u001b[0m\u001b[0;34m(\u001b[0m\u001b[0mpermutation\u001b[0m\u001b[0;34m)\u001b[0m\u001b[0;34m\u001b[0m\u001b[0m\n\u001b[0m",
      "\u001b[0;32m<ipython-input-131-9b0c0d2bb8ad>\u001b[0m in \u001b[0;36mneighborhood\u001b[0;34m(permutation)\u001b[0m\n\u001b[1;32m     48\u001b[0m             \u001b[0mp\u001b[0m\u001b[0;34m[\u001b[0m\u001b[0mizero\u001b[0m\u001b[0;34m]\u001b[0m \u001b[0;34m=\u001b[0m \u001b[0mpermutation\u001b[0m\u001b[0;34m[\u001b[0m\u001b[0mione\u001b[0m\u001b[0;34m]\u001b[0m\u001b[0;34m\u001b[0m\u001b[0m\n\u001b[1;32m     49\u001b[0m             \u001b[0mindex\u001b[0m \u001b[0;34m=\u001b[0m \u001b[0mindex\u001b[0m \u001b[0;34m+\u001b[0m \u001b[0;36m1\u001b[0m\u001b[0;34m\u001b[0m\u001b[0m\n\u001b[0;32m---> 50\u001b[0;31m             \u001b[0mnb\u001b[0m\u001b[0;34m[\u001b[0m\u001b[0mindex\u001b[0m\u001b[0;34m]\u001b[0m \u001b[0;34m=\u001b[0m \u001b[0mp\u001b[0m\u001b[0;34m\u001b[0m\u001b[0m\n\u001b[0m\u001b[1;32m     51\u001b[0m \u001b[0;34m\u001b[0m\u001b[0m\n\u001b[1;32m     52\u001b[0m     \u001b[0;32mreturn\u001b[0m \u001b[0mnb\u001b[0m\u001b[0;34m\u001b[0m\u001b[0m\n",
      "\u001b[0;31mIndexError\u001b[0m: list assignment index out of range"
     ]
    }
   ],
   "source": [
    "permutation = [1,1,0,0]\n",
    "neighborhood(permutation)\n"
   ]
  },
  {
   "cell_type": "code",
   "execution_count": 15,
   "metadata": {},
   "outputs": [
    {
     "name": "stdout",
     "output_type": "stream",
     "text": [
      "10 1 0 [1, 3, 2, 4, 10, 9, 8, 7, 6, 5]\n",
      "10 2 0 [1, 3, 2, 4, 10, 9, 8, 7, 6, 5]\n",
      "10 3 0 [1, 3, 2, 4, 10, 9, 8, 7, 6, 5]\n",
      "10 4 0 [1, 3, 2, 4, 10, 9, 8, 7, 6, 5]\n",
      "10 5 0 [1, 3, 2, 4, 10, 9, 8, 7, 6, 5]\n",
      "20 1 0 range(1, 21)\n",
      "20 2 0 range(1, 21)\n",
      "20 3 0 range(1, 21)\n",
      "20 4 0 range(1, 21)\n",
      "20 5 0 range(1, 21)\n",
      "30 1 0 range(1, 31)\n",
      "30 2 0 range(1, 31)\n",
      "30 3 0 range(1, 31)\n",
      "30 4 0 range(1, 31)\n",
      "30 5 0 range(1, 31)\n"
     ]
    }
   ],
   "source": [
    "# En esta parte comprobamos la implementación de los programas. \n",
    "# Esta celda no debe ser modificada\n",
    "\n",
    "# Evaluación del algoritmo para 5 instancias de tamaño 10\n",
    "filename_base = '../Instances/QAP/Cebe.qap.n10.'\n",
    "mypermutation_10 = [1,3,2,4,10,9,8,7,6,5]\n",
    "for i in range(5):\n",
    "  fname  = filename_base+str(i+1)\n",
    "  best_val,best_sol = QAPLocalSearch(fname,mypermutation_10)  \n",
    "  print(10,i+1,best_val,best_sol)  \n",
    "  \n",
    "\n",
    "# Evaluación del algoritmo para 5 instancias de tamaño 20\n",
    "filename_base = '../Instances/QAP/Cebe.qap.n20.'\n",
    "mypermutation_20 = range(1,21)\n",
    "for i in range(5):\n",
    "  fname  = filename_base+str(i+1)\n",
    "  best_val,best_sol = QAPLocalSearch(fname,mypermutation_20)  \n",
    "  print(20,i+1,best_val,best_sol)  \n",
    "\n",
    "\n",
    "# Evaluación del algoritmo para 5 instancias de tamaño 30\n",
    "filename_base = '../Instances/QAP/Cebe.qap.n30.'\n",
    "mypermutation_30 = range(1,31)\n",
    "for i in range(5):\n",
    "  fname  = filename_base+str(i+1)\n",
    "  best_val,best_sol = QAPLocalSearch(fname,mypermutation_30)  \n",
    "  print(30,i+1,best_val,best_sol)  \n"
   ]
  },
  {
   "cell_type": "code",
   "execution_count": 6,
   "metadata": {},
   "outputs": [],
   "source": [
    "# Ejemplo de la implementación de la búsqueda local para el problema Bipartitioning en Python\n",
    "\n",
    "# Importamos las librerías imprescindibles para la ejecución del ejercicio\n",
    "import numpy as np\n",
    "\n",
    "\n",
    "def Read_Bip_Instance(fname):\n",
    "  # Este programa recibe el nombre y ubicación de un fichero con los datos de una instancia del problema Bipartitioning\n",
    "  # y devuelve una estructura con los datos de la instancia.\n",
    "  BipPartInstance = {}\n",
    "  return BipPartInstance\n",
    "\n",
    "def BipPartLocalSearch(fname,solution):\n",
    "  best_val = []\n",
    "  best_sol = solution\n",
    "\n",
    "  my_NumPart_Instance = Read_Bip_Instance(fname)  # Se lee la instancia\n",
    "  # En los siguientes pasos se implementa la búsqueda local para el problema BipPart \n",
    "\n",
    "  # Finalmente se devuelven el mejor valor encontrado así como la mejor solución\n",
    "  return best_val,best_sol        \n",
    "\n"
   ]
  },
  {
   "cell_type": "code",
   "execution_count": 8,
   "metadata": {},
   "outputs": [
    {
     "name": "stdout",
     "output_type": "stream",
     "text": [
      "10 1 [] [1. 1. 1. 1. 1. 0. 0. 0. 0. 0.]\n",
      "10 2 [] [1. 1. 1. 1. 1. 0. 0. 0. 0. 0.]\n",
      "10 3 [] [1. 1. 1. 1. 1. 0. 0. 0. 0. 0.]\n",
      "10 4 [] [1. 1. 1. 1. 1. 0. 0. 0. 0. 0.]\n",
      "10 5 [] [1. 1. 1. 1. 1. 0. 0. 0. 0. 0.]\n",
      "20 1 [] [1. 1. 1. 1. 1. 1. 1. 1. 1. 1. 0. 0. 0. 0. 0. 0. 0. 0. 0. 0.]\n",
      "20 2 [] [1. 1. 1. 1. 1. 1. 1. 1. 1. 1. 0. 0. 0. 0. 0. 0. 0. 0. 0. 0.]\n",
      "20 3 [] [1. 1. 1. 1. 1. 1. 1. 1. 1. 1. 0. 0. 0. 0. 0. 0. 0. 0. 0. 0.]\n",
      "20 4 [] [1. 1. 1. 1. 1. 1. 1. 1. 1. 1. 0. 0. 0. 0. 0. 0. 0. 0. 0. 0.]\n",
      "20 5 [] [1. 1. 1. 1. 1. 1. 1. 1. 1. 1. 0. 0. 0. 0. 0. 0. 0. 0. 0. 0.]\n",
      "50 1 [] [1. 1. 1. 1. 1. 1. 1. 1. 1. 1. 1. 1. 1. 1. 1. 1. 1. 1. 1. 1. 1. 1. 1. 1.\n",
      " 1. 0. 0. 0. 0. 0. 0. 0. 0. 0. 0. 0. 0. 0. 0. 0. 0. 0. 0. 0. 0. 0. 0. 0.\n",
      " 0. 0.]\n",
      "50 2 [] [1. 1. 1. 1. 1. 1. 1. 1. 1. 1. 1. 1. 1. 1. 1. 1. 1. 1. 1. 1. 1. 1. 1. 1.\n",
      " 1. 0. 0. 0. 0. 0. 0. 0. 0. 0. 0. 0. 0. 0. 0. 0. 0. 0. 0. 0. 0. 0. 0. 0.\n",
      " 0. 0.]\n",
      "50 3 [] [1. 1. 1. 1. 1. 1. 1. 1. 1. 1. 1. 1. 1. 1. 1. 1. 1. 1. 1. 1. 1. 1. 1. 1.\n",
      " 1. 0. 0. 0. 0. 0. 0. 0. 0. 0. 0. 0. 0. 0. 0. 0. 0. 0. 0. 0. 0. 0. 0. 0.\n",
      " 0. 0.]\n",
      "50 4 [] [1. 1. 1. 1. 1. 1. 1. 1. 1. 1. 1. 1. 1. 1. 1. 1. 1. 1. 1. 1. 1. 1. 1. 1.\n",
      " 1. 0. 0. 0. 0. 0. 0. 0. 0. 0. 0. 0. 0. 0. 0. 0. 0. 0. 0. 0. 0. 0. 0. 0.\n",
      " 0. 0.]\n",
      "50 5 [] [1. 1. 1. 1. 1. 1. 1. 1. 1. 1. 1. 1. 1. 1. 1. 1. 1. 1. 1. 1. 1. 1. 1. 1.\n",
      " 1. 0. 0. 0. 0. 0. 0. 0. 0. 0. 0. 0. 0. 0. 0. 0. 0. 0. 0. 0. 0. 0. 0. 0.\n",
      " 0. 0.]\n",
      "80 1 [] [1. 1. 1. 1. 1. 1. 1. 1. 1. 1. 1. 1. 1. 1. 1. 1. 1. 1. 1. 1. 1. 1. 1. 1.\n",
      " 1. 1. 1. 1. 1. 1. 1. 1. 1. 1. 1. 1. 1. 1. 1. 1. 0. 0. 0. 0. 0. 0. 0. 0.\n",
      " 0. 0. 0. 0. 0. 0. 0. 0. 0. 0. 0. 0. 0. 0. 0. 0. 0. 0. 0. 0. 0. 0. 0. 0.\n",
      " 0. 0. 0. 0. 0. 0. 0. 0.]\n",
      "80 2 [] [1. 1. 1. 1. 1. 1. 1. 1. 1. 1. 1. 1. 1. 1. 1. 1. 1. 1. 1. 1. 1. 1. 1. 1.\n",
      " 1. 1. 1. 1. 1. 1. 1. 1. 1. 1. 1. 1. 1. 1. 1. 1. 0. 0. 0. 0. 0. 0. 0. 0.\n",
      " 0. 0. 0. 0. 0. 0. 0. 0. 0. 0. 0. 0. 0. 0. 0. 0. 0. 0. 0. 0. 0. 0. 0. 0.\n",
      " 0. 0. 0. 0. 0. 0. 0. 0.]\n",
      "80 3 [] [1. 1. 1. 1. 1. 1. 1. 1. 1. 1. 1. 1. 1. 1. 1. 1. 1. 1. 1. 1. 1. 1. 1. 1.\n",
      " 1. 1. 1. 1. 1. 1. 1. 1. 1. 1. 1. 1. 1. 1. 1. 1. 0. 0. 0. 0. 0. 0. 0. 0.\n",
      " 0. 0. 0. 0. 0. 0. 0. 0. 0. 0. 0. 0. 0. 0. 0. 0. 0. 0. 0. 0. 0. 0. 0. 0.\n",
      " 0. 0. 0. 0. 0. 0. 0. 0.]\n",
      "80 4 [] [1. 1. 1. 1. 1. 1. 1. 1. 1. 1. 1. 1. 1. 1. 1. 1. 1. 1. 1. 1. 1. 1. 1. 1.\n",
      " 1. 1. 1. 1. 1. 1. 1. 1. 1. 1. 1. 1. 1. 1. 1. 1. 0. 0. 0. 0. 0. 0. 0. 0.\n",
      " 0. 0. 0. 0. 0. 0. 0. 0. 0. 0. 0. 0. 0. 0. 0. 0. 0. 0. 0. 0. 0. 0. 0. 0.\n",
      " 0. 0. 0. 0. 0. 0. 0. 0.]\n",
      "80 5 [] [1. 1. 1. 1. 1. 1. 1. 1. 1. 1. 1. 1. 1. 1. 1. 1. 1. 1. 1. 1. 1. 1. 1. 1.\n",
      " 1. 1. 1. 1. 1. 1. 1. 1. 1. 1. 1. 1. 1. 1. 1. 1. 0. 0. 0. 0. 0. 0. 0. 0.\n",
      " 0. 0. 0. 0. 0. 0. 0. 0. 0. 0. 0. 0. 0. 0. 0. 0. 0. 0. 0. 0. 0. 0. 0. 0.\n",
      " 0. 0. 0. 0. 0. 0. 0. 0.]\n"
     ]
    }
   ],
   "source": [
    "# En esta parte comprobamos la implementación de los programas. \n",
    "# Esta celda no debe ser modificada\n",
    "\n",
    "\n",
    "\n",
    "# Evaluación del algoritmo para 5 instancias de tamaño n = 10\n",
    "filename_base = '../Instances/BIPART/Cebe.bip.n10.'\n",
    "my_solution_10 = np.hstack((np.ones((5)),np.zeros((5))))\n",
    "for i in range(5):\n",
    "  fname  = filename_base+str(i+1)\n",
    "  best_val,best_sol = BipPartLocalSearch(fname,my_solution_10)  \n",
    "  print(10,i+1,best_val,best_sol)  \n",
    "\n",
    "\n",
    "\n",
    "# Evaluación del algoritmo para 5 instancias de tamaño n = 20\n",
    "filename_base = '../Instances/BIPART/Cebe.bip.n20.'\n",
    "my_solution_20 = np.hstack((np.ones((10)),np.zeros((10))))\n",
    "for i in range(5):\n",
    "  fname  = filename_base+str(i+1) \n",
    "  best_val,best_sol = BipPartLocalSearch(fname,my_solution_20)  \n",
    "  print(20,i+1,best_val,best_sol)  \n",
    "\n",
    "\n",
    "# Evaluación del algoritmo para 5 instancias de tamaño n = 50\n",
    "filename_base = '../Instances/BIPART/Cebe.bip.n50.'\n",
    "my_solution_50 = np.hstack((np.ones((25)),np.zeros((25))))\n",
    "for i in range(5):\n",
    "  fname  = filename_base+str(i+1) \n",
    "  best_val,best_sol = BipPartLocalSearch(fname,my_solution_50)  \n",
    "  print(50,i+1,best_val,best_sol)  \n",
    "\n",
    "\n",
    "# Evaluación del algoritmo para 5 instancias de tamaño n = 80\n",
    "filename_base = '../Instances/BIPART/Cebe.bip.n80.'\n",
    "my_solution_80 = np.hstack((np.ones((40)),np.zeros((40))))\n",
    "for i in range(5):\n",
    "  fname  = filename_base+str(i+1) \n",
    "  best_val,best_sol = BipPartLocalSearch(fname,my_solution_80)  \n",
    "  print(80,i+1,best_val,best_sol)  \n",
    "\n",
    "\n",
    "\n",
    "\n",
    "\n"
   ]
  },
  {
   "cell_type": "code",
   "execution_count": null,
   "metadata": {
    "collapsed": true
   },
   "outputs": [],
   "source": [
    "\n",
    "\n"
   ]
  },
  {
   "cell_type": "code",
   "execution_count": null,
   "metadata": {
    "collapsed": true
   },
   "outputs": [],
   "source": []
  }
 ],
 "metadata": {
  "kernelspec": {
   "display_name": "Python 3",
   "language": "python",
   "name": "python3"
  },
  "language_info": {
   "codemirror_mode": {
    "name": "ipython",
    "version": 3
   },
   "file_extension": ".py",
   "mimetype": "text/x-python",
   "name": "python",
   "nbconvert_exporter": "python",
   "pygments_lexer": "ipython3",
   "version": "3.6.4"
  }
 },
 "nbformat": 4,
 "nbformat_minor": 1
}
