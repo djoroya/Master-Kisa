{
 "cells": [
  {
   "cell_type": "markdown",
   "metadata": {},
   "source": [
    "# Implementación de los ejercicios de la Tarea  1 en Python\n",
    "### Autor: Deyviss Jesús Oroya Villalta"
   ]
  },
  {
   "cell_type": "markdown",
   "metadata": {},
   "source": [
    "# 1. El problema de asignaci´on cuadr´atica\n",
    "### Enunciado \n",
    "El problema de asignación cuadrática o QAP por sus iniciales en Inglés consiste en asignar un conjunto de\n",
    "localizaciones a un conjunto de instalaciones de manera que se minimize el coste de su utilización. Básicamente\n",
    "el problema viene definido por dos matrices. Una matriz $D = d_{ij} $ de dimensión n donde $d_{ij}$ representa la\n",
    "distancia entre las localizaciones i y j, y otra matriz $F = f_{kl}$ con la misma dimensóon donde fkl representa el\n",
    "flujo entre la instalación k y la instalación l. Si denotamos por σ = (σ(1)σ(2). . . σ(n)) una posible asignación,\n",
    "la función objetivo se define de la siguiente manera:"
   ]
  },
  {
   "cell_type": "code",
   "execution_count": 18,
   "metadata": {},
   "outputs": [],
   "source": [
    "# Ejemplo de resolución del problema QAP en Python\n",
    "\n",
    "# Importamos las librerías imprescindibles para la ejecución del ejercicio\n",
    "import numpy as np\n",
    "\n",
    "\n",
    "def Read_QAP_Instance(fname):\n",
    "  # Este programa recibe el nombre y ubicación de un fichero con los datos de una instancia del problema QAP\n",
    "  # y devuelve una estructura con los datos de la instancia.\n",
    "    QAPInstance = {\"mt-distancia\":\"\" ,\"mt-flujo\":\"\",\"number\":\"\"}\n",
    "    file = open(fname,'r')\n",
    "    QAPInstance[\"number\"] = int(file.readline())\n",
    "    file.close   \n",
    "    \n",
    "    np_matrix = np.loadtxt(fname,skiprows=1)\n",
    "\n",
    "    QAPInstance[\"mt-flujo\"]     = np_matrix[0:QAPInstance[\"number\"]+1]\n",
    "    QAPInstance[\"mt-distancia\"] = np_matrix[QAPInstance[\"number\"]:]\n",
    "\n",
    "    return QAPInstance\n",
    "\n",
    "def QAPEvaluator(fname,permutation):\n",
    "    result = 0\n",
    "    my_QAP_Instance = Read_QAP_Instance(fname)  # Se lee la instancia\n",
    "  # En los siguientes pasos se implementa la evaluación del problema QAP en Python   \n",
    "    D = my_QAP_Instance[\"mt-distancia\"]\n",
    "    F = my_QAP_Instance[\"mt-flujo\"]\n",
    "    result = 0\n",
    "    for i in range(0,my_QAP_Instance[\"number\"]):\n",
    "        for j in range(0,my_QAP_Instance[\"number\"]):\n",
    "            # restamos uno a los elementos de permitacion \n",
    "            result = result +  D[i][j] * F[permutation[i]-1][permutation[j]-1] \n",
    "  # Finalmente se devuelve el resultado\n",
    "    return result          "
   ]
  },
  {
   "cell_type": "markdown",
   "metadata": {},
   "source": [
    "Comprobamos que funciona con el fichero \"Cebe.qap.n10.1\""
   ]
  },
  {
   "cell_type": "code",
   "execution_count": null,
   "metadata": {
    "scrolled": true
   },
   "outputs": [],
   "source": [
    "# En esta parte comprobamos la implementación de los programas. \n",
    "# Esta celda no debe ser modificada\n",
    "\n",
    "    \n",
    "# Evaluación de una permutación para 5 instancias de tamaño 10\n",
    "filename_base = '../Instances/QAP/Cebe.qap.n10.'\n",
    "mypermutation_10 = [1,3,2,4,10,9,8,7,6,5]\n",
    "for i in range(5):\n",
    "  fname  = filename_base+str(i+1)\n",
    "  val = QAPEvaluator(fname,mypermutation_10)\n",
    "  print(10,i+1,val)  \n",
    "\n",
    "\n",
    "# Evaluación de una permutación para 5 instancias de tamaño 20\n",
    "filename_base = '../Instances/QAP/Cebe.qap.n20.'\n",
    "mypermutation_20 = range(1,21)\n",
    "for i in range(5):\n",
    "  fname  = filename_base+str(i+1)\n",
    "  val = QAPEvaluator(fname,mypermutation_20)\n",
    "  print(20,i+1,val)  \n",
    "\n",
    "\n",
    "# Evaluación de una permutación para 5 instancias de tamaño 30\n",
    "filename_base = '../Instances/QAP/Cebe.qap.n30.'\n",
    "mypermutation_30 = range(1,31)\n",
    "for i in range(5):\n",
    "  fname  = filename_base+str(i+1)\n",
    "  val = QAPEvaluator(fname,mypermutation_30)\n",
    "  print(30,i+1,val)  \n",
    "\n",
    "    \n",
    "# Evaluación de una permutación para 5 instancias de tamaño 50\n",
    "filename_base = '../Instances/QAP/Cebe.qap.n50.'\n",
    "mypermutation_50 = range(1,51)\n",
    "for i in range(5):\n",
    "  fname  = filename_base+str(i+1)\n",
    "  val = QAPEvaluator(fname,mypermutation_50)\n",
    "  print(50,i+1,val)  \n",
    "\n"
   ]
  },
  {
   "cell_type": "markdown",
   "metadata": {},
   "source": [
    "# 2. El problema de la partición del grafo\n",
    "### Enunciado\n",
    "El problema de la partición de un grafo consiste en lo siguiente: consideremos un grafo no dirigido $G = (X , U)$\n",
    "con $X \\neq \\emptyset$ y U = {(u, v)|u, v ∈ X } en el que cada arista (u, v) tiene asociado un peso p(u,v) y el número de\n",
    "vértices es par. Se trata de dividir el conjunto de vértices en dos subconjuntos iguales, de forma que se maximize\n",
    "la suma de los pesos asociados a aristas que unen v´ertices de diferentes conjuntos."
   ]
  },
  {
   "cell_type": "code",
   "execution_count": 22,
   "metadata": {},
   "outputs": [],
   "source": [
    "# Ejemplo de resolución del problema NumPart en Python\n",
    "\n",
    "# Importamos las librerías imprescindibles para la ejecución del ejercicio\n",
    "import numpy as np\n",
    "\n",
    "\n",
    "def Read_Bip_Instance(fname):\n",
    "  # Este programa recibe el nombre y ubicación de un fichero con los datos de una instancia del problema BiPartioning\n",
    "  # y devuelve una estructura con los datos de la instancia.\n",
    "    BipPartInstance = {\"mt-width\":\"\",\"number\":\"\"}\n",
    "    file = open(fname,'r')\n",
    "    BipPartInstance[\"number\"] = int(file.readline())\n",
    "    file.close   \n",
    "\n",
    "    BipPartInstance[\"mt-width\"] = np.loadtxt(fname,skiprows=1)\n",
    "\n",
    "    return BipPartInstance\n",
    "\n",
    "def BipEvaluator(fname,solution):\n",
    "    result = 0\n",
    "    my_BipPart_Instance = Read_Bip_Instance(fname)  # Se lee la instancia\n",
    "    # En los siguientes pasos se implementa la evaluación del problema BipPart \n",
    "    solution = np.array(solution)\n",
    "    indexs = np.where(solution==1)\n",
    "    print(indexs)\n",
    "    submatrix = my_BipPart_Instance[\"mt-width\"][indexs,:][:,indexs]\n",
    "    result1 = sum(sum(submatrix))/2\n",
    "    indexs = np.where(solution==0)\n",
    "    submatrix = my_BipPart_Instance[\"mt-width\"][indexs,:][:,indexs]\n",
    "    result2 = sum(sum(submatrix))/2    \n",
    "\n",
    "    result = result1 + result2\n",
    "    # Finalmente se devuelve el resultado\n",
    "    return result       "
   ]
  },
  {
   "cell_type": "code",
   "execution_count": 23,
   "metadata": {},
   "outputs": [
    {
     "ename": "IndexError",
     "evalue": "index 5 is out of bounds for axis 1 with size 5",
     "output_type": "error",
     "traceback": [
      "\u001b[0;31m---------------------------------------------------------------------------\u001b[0m",
      "\u001b[0;31mIndexError\u001b[0m                                Traceback (most recent call last)",
      "\u001b[0;32m<ipython-input-23-83b7965ea63b>\u001b[0m in \u001b[0;36m<module>\u001b[0;34m()\u001b[0m\n\u001b[1;32m      4\u001b[0m \u001b[0;32mfor\u001b[0m \u001b[0mi\u001b[0m \u001b[0;32min\u001b[0m \u001b[0mrange\u001b[0m\u001b[0;34m(\u001b[0m\u001b[0;36m5\u001b[0m\u001b[0;34m)\u001b[0m\u001b[0;34m:\u001b[0m\u001b[0;34m\u001b[0m\u001b[0m\n\u001b[1;32m      5\u001b[0m   \u001b[0mfname\u001b[0m  \u001b[0;34m=\u001b[0m \u001b[0mfilename_base\u001b[0m\u001b[0;34m+\u001b[0m\u001b[0mstr\u001b[0m\u001b[0;34m(\u001b[0m\u001b[0mi\u001b[0m\u001b[0;34m+\u001b[0m\u001b[0;36m1\u001b[0m\u001b[0;34m)\u001b[0m\u001b[0;34m\u001b[0m\u001b[0m\n\u001b[0;32m----> 6\u001b[0;31m   \u001b[0mval\u001b[0m \u001b[0;34m=\u001b[0m \u001b[0mBipEvaluator\u001b[0m\u001b[0;34m(\u001b[0m\u001b[0mfname\u001b[0m\u001b[0;34m,\u001b[0m\u001b[0mmy_solution_10\u001b[0m\u001b[0;34m)\u001b[0m\u001b[0;34m\u001b[0m\u001b[0m\n\u001b[0m\u001b[1;32m      7\u001b[0m   \u001b[0mprint\u001b[0m\u001b[0;34m(\u001b[0m\u001b[0;36m10\u001b[0m\u001b[0;34m,\u001b[0m\u001b[0mi\u001b[0m\u001b[0;34m+\u001b[0m\u001b[0;36m1\u001b[0m\u001b[0;34m,\u001b[0m\u001b[0mval\u001b[0m\u001b[0;34m)\u001b[0m\u001b[0;34m\u001b[0m\u001b[0m\n",
      "\u001b[0;32m<ipython-input-22-f57146e605cf>\u001b[0m in \u001b[0;36mBipEvaluator\u001b[0;34m(fname, solution)\u001b[0m\n\u001b[1;32m     26\u001b[0m     \u001b[0mresult1\u001b[0m \u001b[0;34m=\u001b[0m \u001b[0msum\u001b[0m\u001b[0;34m(\u001b[0m\u001b[0msum\u001b[0m\u001b[0;34m(\u001b[0m\u001b[0msubmatrix\u001b[0m\u001b[0;34m)\u001b[0m\u001b[0;34m)\u001b[0m\u001b[0;34m/\u001b[0m\u001b[0;36m2\u001b[0m\u001b[0;34m\u001b[0m\u001b[0m\n\u001b[1;32m     27\u001b[0m     \u001b[0mindexs\u001b[0m \u001b[0;34m=\u001b[0m \u001b[0mnp\u001b[0m\u001b[0;34m.\u001b[0m\u001b[0mwhere\u001b[0m\u001b[0;34m(\u001b[0m\u001b[0msolution\u001b[0m\u001b[0;34m==\u001b[0m\u001b[0;36m0\u001b[0m\u001b[0;34m)\u001b[0m\u001b[0;34m\u001b[0m\u001b[0m\n\u001b[0;32m---> 28\u001b[0;31m     \u001b[0msubmatrix\u001b[0m \u001b[0;34m=\u001b[0m \u001b[0mmy_BipPart_Instance\u001b[0m\u001b[0;34m[\u001b[0m\u001b[0;34m\"mt-width\"\u001b[0m\u001b[0;34m]\u001b[0m\u001b[0;34m[\u001b[0m\u001b[0mindexs\u001b[0m\u001b[0;34m,\u001b[0m\u001b[0;34m:\u001b[0m\u001b[0;34m]\u001b[0m\u001b[0;34m[\u001b[0m\u001b[0;34m:\u001b[0m\u001b[0;34m,\u001b[0m\u001b[0mindexs\u001b[0m\u001b[0;34m]\u001b[0m\u001b[0;34m\u001b[0m\u001b[0m\n\u001b[0m\u001b[1;32m     29\u001b[0m     \u001b[0mresult2\u001b[0m \u001b[0;34m=\u001b[0m \u001b[0msum\u001b[0m\u001b[0;34m(\u001b[0m\u001b[0msum\u001b[0m\u001b[0;34m(\u001b[0m\u001b[0msubmatrix\u001b[0m\u001b[0;34m)\u001b[0m\u001b[0;34m)\u001b[0m\u001b[0;34m/\u001b[0m\u001b[0;36m2\u001b[0m\u001b[0;34m\u001b[0m\u001b[0m\n\u001b[1;32m     30\u001b[0m \u001b[0;34m\u001b[0m\u001b[0m\n",
      "\u001b[0;31mIndexError\u001b[0m: index 5 is out of bounds for axis 1 with size 5"
     ]
    }
   ],
   "source": [
    "# Evaluación de una solución para 5 instancias de tamaño n = 10\n",
    "filename_base = '../Instances/BIPART/Cebe.bip.n10.'\n",
    "my_solution_10 = np.hstack((np.ones((5)),np.zeros((5))))\n",
    "for i in range(5):\n",
    "  fname  = filename_base+str(i+1)\n",
    "  val = BipEvaluator(fname,my_solution_10)\n",
    "  print(10,i+1,val)  "
   ]
  },
  {
   "cell_type": "code",
   "execution_count": 1,
   "metadata": {},
   "outputs": [
    {
     "ename": "NameError",
     "evalue": "name 'np' is not defined",
     "output_type": "error",
     "traceback": [
      "\u001b[0;31m---------------------------------------------------------------------------\u001b[0m",
      "\u001b[0;31mNameError\u001b[0m                                 Traceback (most recent call last)",
      "\u001b[0;32m<ipython-input-1-257876f2b135>\u001b[0m in \u001b[0;36m<module>\u001b[0;34m()\u001b[0m\n\u001b[1;32m      4\u001b[0m \u001b[0;31m# Evaluación de una solución para 5 instancias de tamaño n = 10\u001b[0m\u001b[0;34m\u001b[0m\u001b[0;34m\u001b[0m\u001b[0m\n\u001b[1;32m      5\u001b[0m \u001b[0mfilename_base\u001b[0m \u001b[0;34m=\u001b[0m \u001b[0;34m'../Instances/BIPART/Cebe.bip.n10.'\u001b[0m\u001b[0;34m\u001b[0m\u001b[0m\n\u001b[0;32m----> 6\u001b[0;31m \u001b[0mmy_solution_10\u001b[0m \u001b[0;34m=\u001b[0m \u001b[0mnp\u001b[0m\u001b[0;34m.\u001b[0m\u001b[0mhstack\u001b[0m\u001b[0;34m(\u001b[0m\u001b[0;34m(\u001b[0m\u001b[0mnp\u001b[0m\u001b[0;34m.\u001b[0m\u001b[0mones\u001b[0m\u001b[0;34m(\u001b[0m\u001b[0;34m(\u001b[0m\u001b[0;36m5\u001b[0m\u001b[0;34m)\u001b[0m\u001b[0;34m)\u001b[0m\u001b[0;34m,\u001b[0m\u001b[0mnp\u001b[0m\u001b[0;34m.\u001b[0m\u001b[0mzeros\u001b[0m\u001b[0;34m(\u001b[0m\u001b[0;34m(\u001b[0m\u001b[0;36m5\u001b[0m\u001b[0;34m)\u001b[0m\u001b[0;34m)\u001b[0m\u001b[0;34m)\u001b[0m\u001b[0;34m)\u001b[0m\u001b[0;34m\u001b[0m\u001b[0m\n\u001b[0m\u001b[1;32m      7\u001b[0m \u001b[0;32mfor\u001b[0m \u001b[0mi\u001b[0m \u001b[0;32min\u001b[0m \u001b[0mrange\u001b[0m\u001b[0;34m(\u001b[0m\u001b[0;36m5\u001b[0m\u001b[0;34m)\u001b[0m\u001b[0;34m:\u001b[0m\u001b[0;34m\u001b[0m\u001b[0m\n\u001b[1;32m      8\u001b[0m   \u001b[0mfname\u001b[0m  \u001b[0;34m=\u001b[0m \u001b[0mfilename_base\u001b[0m\u001b[0;34m+\u001b[0m\u001b[0mstr\u001b[0m\u001b[0;34m(\u001b[0m\u001b[0mi\u001b[0m\u001b[0;34m+\u001b[0m\u001b[0;36m1\u001b[0m\u001b[0;34m)\u001b[0m\u001b[0;34m\u001b[0m\u001b[0m\n",
      "\u001b[0;31mNameError\u001b[0m: name 'np' is not defined"
     ]
    }
   ],
   "source": [
    "# En esta parte comprobamos la implementación de los programas. \n",
    "# Esta celda no debe ser modificada\n",
    "\n",
    "# Evaluación de una solución para 5 instancias de tamaño n = 10\n",
    "filename_base = '../Instances/BIPART/Cebe.bip.n10.'\n",
    "my_solution_10 = np.hstack((np.ones((5)),np.zeros((5))))\n",
    "for i in range(5):\n",
    "  fname  = filename_base+str(i+1)\n",
    "  val = BipEvaluator(fname,my_solution_10)\n",
    "  print(10,i+1,val)  \n",
    "\n",
    "\n",
    "\n",
    "# Evaluación de una solución para 5 instancias de tamaño n = 20\n",
    "filename_base = '../Instances/BIPART/Cebe.bip.n20.'\n",
    "my_solution_20 = np.hstack((np.ones((10)),np.zeros((10))))\n",
    "for i in range(5):\n",
    "  fname  = filename_base+str(i+1) \n",
    "  val = BipEvaluator(fname,my_solution_20)\n",
    "  print(20,i+1,val)  \n",
    "\n",
    "\n",
    "# Evaluación de una solución para 5 instancias de tamaño n = 50\n",
    "filename_base = '../Instances/BIPART/Cebe.bip.n50.'\n",
    "my_solution_50 = np.hstack((np.ones((25)),np.zeros((25))))\n",
    "for i in range(5):\n",
    "  fname  = filename_base+str(i+1) \n",
    "  val = BipEvaluator(fname,my_solution_50)\n",
    "  print(50,i+1,val)  \n",
    "\n",
    "\n",
    "# Evaluación de una solución para 5 instancias de tamaño n = 80\n",
    "filename_base = '../Instances/BIPART/Cebe.bip.n80.'\n",
    "my_solution_80 = np.hstack((np.ones((40)),np.zeros((40))))\n",
    "for i in range(5):\n",
    "  fname  = filename_base+str(i+1) \n",
    "  val = BipEvaluator(fname,my_solution_80)\n",
    "  print(80,i+1,val)  \n",
    "\n"
   ]
  },
  {
   "cell_type": "code",
   "execution_count": 13,
   "metadata": {},
   "outputs": [
    {
     "data": {
      "text/plain": [
       "(array([0, 1, 3]),)"
      ]
     },
     "execution_count": 13,
     "metadata": {},
     "output_type": "execute_result"
    }
   ],
   "source": [
    "import numpy as np\n",
    "x = np.array([0,0,1,0,1])\n",
    "np.where(x == 0)"
   ]
  },
  {
   "cell_type": "code",
   "execution_count": 17,
   "metadata": {},
   "outputs": [
    {
     "data": {
      "text/plain": [
       "array([2, 4])"
      ]
     },
     "execution_count": 17,
     "metadata": {},
     "output_type": "execute_result"
    }
   ],
   "source": [
    "np.where(x)[0]"
   ]
  },
  {
   "cell_type": "code",
   "execution_count": null,
   "metadata": {},
   "outputs": [],
   "source": []
  }
 ],
 "metadata": {
  "kernelspec": {
   "display_name": "Python 3",
   "language": "python",
   "name": "python3"
  },
  "language_info": {
   "codemirror_mode": {
    "name": "ipython",
    "version": 3
   },
   "file_extension": ".py",
   "mimetype": "text/x-python",
   "name": "python",
   "nbconvert_exporter": "python",
   "pygments_lexer": "ipython3",
   "version": "3.6.4"
  }
 },
 "nbformat": 4,
 "nbformat_minor": 1
}
